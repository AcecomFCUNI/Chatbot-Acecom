{
  "nbformat": 4,
  "nbformat_minor": 0,
  "metadata": {
    "colab": {
      "name": "chatbot_de_voz.ipynb",
      "provenance": [],
      "collapsed_sections": []
    },
    "kernelspec": {
      "name": "python3",
      "display_name": "Python 3"
    },
    "language_info": {
      "name": "python"
    },
    "accelerator": "GPU",
    "widgets": {
      "application/vnd.jupyter.widget-state+json": {
        "b1703ca95504455c9e6f1989276d4771": {
          "model_module": "@jupyter-widgets/controls",
          "model_name": "HBoxModel",
          "state": {
            "_view_name": "HBoxView",
            "_dom_classes": [],
            "_model_name": "HBoxModel",
            "_view_module": "@jupyter-widgets/controls",
            "_model_module_version": "1.5.0",
            "_view_count": null,
            "_view_module_version": "1.5.0",
            "box_style": "",
            "layout": "IPY_MODEL_c513f6e279e64ba0a6a148b5c96cdbb4",
            "_model_module": "@jupyter-widgets/controls",
            "children": [
              "IPY_MODEL_b72e5e0b70614eb7b9cdd0f6585be952",
              "IPY_MODEL_257b41058f4d47478e2ab672a7155ef8"
            ]
          }
        },
        "c513f6e279e64ba0a6a148b5c96cdbb4": {
          "model_module": "@jupyter-widgets/base",
          "model_name": "LayoutModel",
          "state": {
            "_view_name": "LayoutView",
            "grid_template_rows": null,
            "right": null,
            "justify_content": null,
            "_view_module": "@jupyter-widgets/base",
            "overflow": null,
            "_model_module_version": "1.2.0",
            "_view_count": null,
            "flex_flow": null,
            "width": null,
            "min_width": null,
            "border": null,
            "align_items": null,
            "bottom": null,
            "_model_module": "@jupyter-widgets/base",
            "top": null,
            "grid_column": null,
            "overflow_y": null,
            "overflow_x": null,
            "grid_auto_flow": null,
            "grid_area": null,
            "grid_template_columns": null,
            "flex": null,
            "_model_name": "LayoutModel",
            "justify_items": null,
            "grid_row": null,
            "max_height": null,
            "align_content": null,
            "visibility": null,
            "align_self": null,
            "height": null,
            "min_height": null,
            "padding": null,
            "grid_auto_rows": null,
            "grid_gap": null,
            "max_width": null,
            "order": null,
            "_view_module_version": "1.2.0",
            "grid_template_areas": null,
            "object_position": null,
            "object_fit": null,
            "grid_auto_columns": null,
            "margin": null,
            "display": null,
            "left": null
          }
        },
        "b72e5e0b70614eb7b9cdd0f6585be952": {
          "model_module": "@jupyter-widgets/controls",
          "model_name": "FloatProgressModel",
          "state": {
            "_view_name": "ProgressView",
            "style": "IPY_MODEL_0d34c704112d4ec795e7db8ac0592a15",
            "_dom_classes": [],
            "description": "Downloading: 100%",
            "_model_name": "FloatProgressModel",
            "bar_style": "success",
            "max": 1596,
            "_view_module": "@jupyter-widgets/controls",
            "_model_module_version": "1.5.0",
            "value": 1596,
            "_view_count": null,
            "_view_module_version": "1.5.0",
            "orientation": "horizontal",
            "min": 0,
            "description_tooltip": null,
            "_model_module": "@jupyter-widgets/controls",
            "layout": "IPY_MODEL_7024fde37a0248dd9ec25430d0777cb6"
          }
        },
        "257b41058f4d47478e2ab672a7155ef8": {
          "model_module": "@jupyter-widgets/controls",
          "model_name": "HTMLModel",
          "state": {
            "_view_name": "HTMLView",
            "style": "IPY_MODEL_68a2f3a3c8e447eebf23f075a89aa3eb",
            "_dom_classes": [],
            "description": "",
            "_model_name": "HTMLModel",
            "placeholder": "​",
            "_view_module": "@jupyter-widgets/controls",
            "_model_module_version": "1.5.0",
            "value": " 1.60k/1.60k [00:08&lt;00:00, 186B/s]",
            "_view_count": null,
            "_view_module_version": "1.5.0",
            "description_tooltip": null,
            "_model_module": "@jupyter-widgets/controls",
            "layout": "IPY_MODEL_8e5c955e418743bcb52c8d8cca6650af"
          }
        },
        "0d34c704112d4ec795e7db8ac0592a15": {
          "model_module": "@jupyter-widgets/controls",
          "model_name": "ProgressStyleModel",
          "state": {
            "_view_name": "StyleView",
            "_model_name": "ProgressStyleModel",
            "description_width": "initial",
            "_view_module": "@jupyter-widgets/base",
            "_model_module_version": "1.5.0",
            "_view_count": null,
            "_view_module_version": "1.2.0",
            "bar_color": null,
            "_model_module": "@jupyter-widgets/controls"
          }
        },
        "7024fde37a0248dd9ec25430d0777cb6": {
          "model_module": "@jupyter-widgets/base",
          "model_name": "LayoutModel",
          "state": {
            "_view_name": "LayoutView",
            "grid_template_rows": null,
            "right": null,
            "justify_content": null,
            "_view_module": "@jupyter-widgets/base",
            "overflow": null,
            "_model_module_version": "1.2.0",
            "_view_count": null,
            "flex_flow": null,
            "width": null,
            "min_width": null,
            "border": null,
            "align_items": null,
            "bottom": null,
            "_model_module": "@jupyter-widgets/base",
            "top": null,
            "grid_column": null,
            "overflow_y": null,
            "overflow_x": null,
            "grid_auto_flow": null,
            "grid_area": null,
            "grid_template_columns": null,
            "flex": null,
            "_model_name": "LayoutModel",
            "justify_items": null,
            "grid_row": null,
            "max_height": null,
            "align_content": null,
            "visibility": null,
            "align_self": null,
            "height": null,
            "min_height": null,
            "padding": null,
            "grid_auto_rows": null,
            "grid_gap": null,
            "max_width": null,
            "order": null,
            "_view_module_version": "1.2.0",
            "grid_template_areas": null,
            "object_position": null,
            "object_fit": null,
            "grid_auto_columns": null,
            "margin": null,
            "display": null,
            "left": null
          }
        },
        "68a2f3a3c8e447eebf23f075a89aa3eb": {
          "model_module": "@jupyter-widgets/controls",
          "model_name": "DescriptionStyleModel",
          "state": {
            "_view_name": "StyleView",
            "_model_name": "DescriptionStyleModel",
            "description_width": "",
            "_view_module": "@jupyter-widgets/base",
            "_model_module_version": "1.5.0",
            "_view_count": null,
            "_view_module_version": "1.2.0",
            "_model_module": "@jupyter-widgets/controls"
          }
        },
        "8e5c955e418743bcb52c8d8cca6650af": {
          "model_module": "@jupyter-widgets/base",
          "model_name": "LayoutModel",
          "state": {
            "_view_name": "LayoutView",
            "grid_template_rows": null,
            "right": null,
            "justify_content": null,
            "_view_module": "@jupyter-widgets/base",
            "overflow": null,
            "_model_module_version": "1.2.0",
            "_view_count": null,
            "flex_flow": null,
            "width": null,
            "min_width": null,
            "border": null,
            "align_items": null,
            "bottom": null,
            "_model_module": "@jupyter-widgets/base",
            "top": null,
            "grid_column": null,
            "overflow_y": null,
            "overflow_x": null,
            "grid_auto_flow": null,
            "grid_area": null,
            "grid_template_columns": null,
            "flex": null,
            "_model_name": "LayoutModel",
            "justify_items": null,
            "grid_row": null,
            "max_height": null,
            "align_content": null,
            "visibility": null,
            "align_self": null,
            "height": null,
            "min_height": null,
            "padding": null,
            "grid_auto_rows": null,
            "grid_gap": null,
            "max_width": null,
            "order": null,
            "_view_module_version": "1.2.0",
            "grid_template_areas": null,
            "object_position": null,
            "object_fit": null,
            "grid_auto_columns": null,
            "margin": null,
            "display": null,
            "left": null
          }
        },
        "a1c2bce247fd4d06a686021bb3dddccd": {
          "model_module": "@jupyter-widgets/controls",
          "model_name": "HBoxModel",
          "state": {
            "_view_name": "HBoxView",
            "_dom_classes": [],
            "_model_name": "HBoxModel",
            "_view_module": "@jupyter-widgets/controls",
            "_model_module_version": "1.5.0",
            "_view_count": null,
            "_view_module_version": "1.5.0",
            "box_style": "",
            "layout": "IPY_MODEL_5465443395ee4a698c07c1915c45fb30",
            "_model_module": "@jupyter-widgets/controls",
            "children": [
              "IPY_MODEL_7f8443e3be304c029eba010b186e2fc5",
              "IPY_MODEL_7714cbf599974fe7815ebfd67507a550"
            ]
          }
        },
        "5465443395ee4a698c07c1915c45fb30": {
          "model_module": "@jupyter-widgets/base",
          "model_name": "LayoutModel",
          "state": {
            "_view_name": "LayoutView",
            "grid_template_rows": null,
            "right": null,
            "justify_content": null,
            "_view_module": "@jupyter-widgets/base",
            "overflow": null,
            "_model_module_version": "1.2.0",
            "_view_count": null,
            "flex_flow": null,
            "width": null,
            "min_width": null,
            "border": null,
            "align_items": null,
            "bottom": null,
            "_model_module": "@jupyter-widgets/base",
            "top": null,
            "grid_column": null,
            "overflow_y": null,
            "overflow_x": null,
            "grid_auto_flow": null,
            "grid_area": null,
            "grid_template_columns": null,
            "flex": null,
            "_model_name": "LayoutModel",
            "justify_items": null,
            "grid_row": null,
            "max_height": null,
            "align_content": null,
            "visibility": null,
            "align_self": null,
            "height": null,
            "min_height": null,
            "padding": null,
            "grid_auto_rows": null,
            "grid_gap": null,
            "max_width": null,
            "order": null,
            "_view_module_version": "1.2.0",
            "grid_template_areas": null,
            "object_position": null,
            "object_fit": null,
            "grid_auto_columns": null,
            "margin": null,
            "display": null,
            "left": null
          }
        },
        "7f8443e3be304c029eba010b186e2fc5": {
          "model_module": "@jupyter-widgets/controls",
          "model_name": "FloatProgressModel",
          "state": {
            "_view_name": "ProgressView",
            "style": "IPY_MODEL_ac2b27530acf4bad810e2157f2e5686f",
            "_dom_classes": [],
            "description": "Downloading: 100%",
            "_model_name": "FloatProgressModel",
            "bar_style": "success",
            "max": 377667514,
            "_view_module": "@jupyter-widgets/controls",
            "_model_module_version": "1.5.0",
            "value": 377667514,
            "_view_count": null,
            "_view_module_version": "1.5.0",
            "orientation": "horizontal",
            "min": 0,
            "description_tooltip": null,
            "_model_module": "@jupyter-widgets/controls",
            "layout": "IPY_MODEL_2e6e69445edb4fa69c68b1dc94d22970"
          }
        },
        "7714cbf599974fe7815ebfd67507a550": {
          "model_module": "@jupyter-widgets/controls",
          "model_name": "HTMLModel",
          "state": {
            "_view_name": "HTMLView",
            "style": "IPY_MODEL_55a9ac6e74d4477abb1619dd6e50e4cc",
            "_dom_classes": [],
            "description": "",
            "_model_name": "HTMLModel",
            "placeholder": "​",
            "_view_module": "@jupyter-widgets/controls",
            "_model_module_version": "1.5.0",
            "value": " 378M/378M [00:07&lt;00:00, 47.5MB/s]",
            "_view_count": null,
            "_view_module_version": "1.5.0",
            "description_tooltip": null,
            "_model_module": "@jupyter-widgets/controls",
            "layout": "IPY_MODEL_b3acdc18d26840a3b137241a1df072fc"
          }
        },
        "ac2b27530acf4bad810e2157f2e5686f": {
          "model_module": "@jupyter-widgets/controls",
          "model_name": "ProgressStyleModel",
          "state": {
            "_view_name": "StyleView",
            "_model_name": "ProgressStyleModel",
            "description_width": "initial",
            "_view_module": "@jupyter-widgets/base",
            "_model_module_version": "1.5.0",
            "_view_count": null,
            "_view_module_version": "1.2.0",
            "bar_color": null,
            "_model_module": "@jupyter-widgets/controls"
          }
        },
        "2e6e69445edb4fa69c68b1dc94d22970": {
          "model_module": "@jupyter-widgets/base",
          "model_name": "LayoutModel",
          "state": {
            "_view_name": "LayoutView",
            "grid_template_rows": null,
            "right": null,
            "justify_content": null,
            "_view_module": "@jupyter-widgets/base",
            "overflow": null,
            "_model_module_version": "1.2.0",
            "_view_count": null,
            "flex_flow": null,
            "width": null,
            "min_width": null,
            "border": null,
            "align_items": null,
            "bottom": null,
            "_model_module": "@jupyter-widgets/base",
            "top": null,
            "grid_column": null,
            "overflow_y": null,
            "overflow_x": null,
            "grid_auto_flow": null,
            "grid_area": null,
            "grid_template_columns": null,
            "flex": null,
            "_model_name": "LayoutModel",
            "justify_items": null,
            "grid_row": null,
            "max_height": null,
            "align_content": null,
            "visibility": null,
            "align_self": null,
            "height": null,
            "min_height": null,
            "padding": null,
            "grid_auto_rows": null,
            "grid_gap": null,
            "max_width": null,
            "order": null,
            "_view_module_version": "1.2.0",
            "grid_template_areas": null,
            "object_position": null,
            "object_fit": null,
            "grid_auto_columns": null,
            "margin": null,
            "display": null,
            "left": null
          }
        },
        "55a9ac6e74d4477abb1619dd6e50e4cc": {
          "model_module": "@jupyter-widgets/controls",
          "model_name": "DescriptionStyleModel",
          "state": {
            "_view_name": "StyleView",
            "_model_name": "DescriptionStyleModel",
            "description_width": "",
            "_view_module": "@jupyter-widgets/base",
            "_model_module_version": "1.5.0",
            "_view_count": null,
            "_view_module_version": "1.2.0",
            "_model_module": "@jupyter-widgets/controls"
          }
        },
        "b3acdc18d26840a3b137241a1df072fc": {
          "model_module": "@jupyter-widgets/base",
          "model_name": "LayoutModel",
          "state": {
            "_view_name": "LayoutView",
            "grid_template_rows": null,
            "right": null,
            "justify_content": null,
            "_view_module": "@jupyter-widgets/base",
            "overflow": null,
            "_model_module_version": "1.2.0",
            "_view_count": null,
            "flex_flow": null,
            "width": null,
            "min_width": null,
            "border": null,
            "align_items": null,
            "bottom": null,
            "_model_module": "@jupyter-widgets/base",
            "top": null,
            "grid_column": null,
            "overflow_y": null,
            "overflow_x": null,
            "grid_auto_flow": null,
            "grid_area": null,
            "grid_template_columns": null,
            "flex": null,
            "_model_name": "LayoutModel",
            "justify_items": null,
            "grid_row": null,
            "max_height": null,
            "align_content": null,
            "visibility": null,
            "align_self": null,
            "height": null,
            "min_height": null,
            "padding": null,
            "grid_auto_rows": null,
            "grid_gap": null,
            "max_width": null,
            "order": null,
            "_view_module_version": "1.2.0",
            "grid_template_areas": null,
            "object_position": null,
            "object_fit": null,
            "grid_auto_columns": null,
            "margin": null,
            "display": null,
            "left": null
          }
        },
        "97c40db168a24e3c82669b6f755684a9": {
          "model_module": "@jupyter-widgets/controls",
          "model_name": "HBoxModel",
          "state": {
            "_view_name": "HBoxView",
            "_dom_classes": [],
            "_model_name": "HBoxModel",
            "_view_module": "@jupyter-widgets/controls",
            "_model_module_version": "1.5.0",
            "_view_count": null,
            "_view_module_version": "1.5.0",
            "box_style": "",
            "layout": "IPY_MODEL_10afd9db17604e2ea0c3970ad3267262",
            "_model_module": "@jupyter-widgets/controls",
            "children": [
              "IPY_MODEL_89bfa45c79c64aee892443f81401a343",
              "IPY_MODEL_f121bac305f04330af48b4e2c902c6f4"
            ]
          }
        },
        "10afd9db17604e2ea0c3970ad3267262": {
          "model_module": "@jupyter-widgets/base",
          "model_name": "LayoutModel",
          "state": {
            "_view_name": "LayoutView",
            "grid_template_rows": null,
            "right": null,
            "justify_content": null,
            "_view_module": "@jupyter-widgets/base",
            "overflow": null,
            "_model_module_version": "1.2.0",
            "_view_count": null,
            "flex_flow": null,
            "width": null,
            "min_width": null,
            "border": null,
            "align_items": null,
            "bottom": null,
            "_model_module": "@jupyter-widgets/base",
            "top": null,
            "grid_column": null,
            "overflow_y": null,
            "overflow_x": null,
            "grid_auto_flow": null,
            "grid_area": null,
            "grid_template_columns": null,
            "flex": null,
            "_model_name": "LayoutModel",
            "justify_items": null,
            "grid_row": null,
            "max_height": null,
            "align_content": null,
            "visibility": null,
            "align_self": null,
            "height": null,
            "min_height": null,
            "padding": null,
            "grid_auto_rows": null,
            "grid_gap": null,
            "max_width": null,
            "order": null,
            "_view_module_version": "1.2.0",
            "grid_template_areas": null,
            "object_position": null,
            "object_fit": null,
            "grid_auto_columns": null,
            "margin": null,
            "display": null,
            "left": null
          }
        },
        "89bfa45c79c64aee892443f81401a343": {
          "model_module": "@jupyter-widgets/controls",
          "model_name": "FloatProgressModel",
          "state": {
            "_view_name": "ProgressView",
            "style": "IPY_MODEL_e24c2b18790544caadb7f924fd6b346a",
            "_dom_classes": [],
            "description": "Downloading: 100%",
            "_model_name": "FloatProgressModel",
            "bar_style": "success",
            "max": 159,
            "_view_module": "@jupyter-widgets/controls",
            "_model_module_version": "1.5.0",
            "value": 159,
            "_view_count": null,
            "_view_module_version": "1.5.0",
            "orientation": "horizontal",
            "min": 0,
            "description_tooltip": null,
            "_model_module": "@jupyter-widgets/controls",
            "layout": "IPY_MODEL_a4e21ff50d464cf494de8bf2524adc6b"
          }
        },
        "f121bac305f04330af48b4e2c902c6f4": {
          "model_module": "@jupyter-widgets/controls",
          "model_name": "HTMLModel",
          "state": {
            "_view_name": "HTMLView",
            "style": "IPY_MODEL_eee4f20e278a41eeb292127e1ce4f7c2",
            "_dom_classes": [],
            "description": "",
            "_model_name": "HTMLModel",
            "placeholder": "​",
            "_view_module": "@jupyter-widgets/controls",
            "_model_module_version": "1.5.0",
            "value": " 159/159 [00:00&lt;00:00, 1.45kB/s]",
            "_view_count": null,
            "_view_module_version": "1.5.0",
            "description_tooltip": null,
            "_model_module": "@jupyter-widgets/controls",
            "layout": "IPY_MODEL_782bd732dc4e4d5b986de0b5f6ecb403"
          }
        },
        "e24c2b18790544caadb7f924fd6b346a": {
          "model_module": "@jupyter-widgets/controls",
          "model_name": "ProgressStyleModel",
          "state": {
            "_view_name": "StyleView",
            "_model_name": "ProgressStyleModel",
            "description_width": "initial",
            "_view_module": "@jupyter-widgets/base",
            "_model_module_version": "1.5.0",
            "_view_count": null,
            "_view_module_version": "1.2.0",
            "bar_color": null,
            "_model_module": "@jupyter-widgets/controls"
          }
        },
        "a4e21ff50d464cf494de8bf2524adc6b": {
          "model_module": "@jupyter-widgets/base",
          "model_name": "LayoutModel",
          "state": {
            "_view_name": "LayoutView",
            "grid_template_rows": null,
            "right": null,
            "justify_content": null,
            "_view_module": "@jupyter-widgets/base",
            "overflow": null,
            "_model_module_version": "1.2.0",
            "_view_count": null,
            "flex_flow": null,
            "width": null,
            "min_width": null,
            "border": null,
            "align_items": null,
            "bottom": null,
            "_model_module": "@jupyter-widgets/base",
            "top": null,
            "grid_column": null,
            "overflow_y": null,
            "overflow_x": null,
            "grid_auto_flow": null,
            "grid_area": null,
            "grid_template_columns": null,
            "flex": null,
            "_model_name": "LayoutModel",
            "justify_items": null,
            "grid_row": null,
            "max_height": null,
            "align_content": null,
            "visibility": null,
            "align_self": null,
            "height": null,
            "min_height": null,
            "padding": null,
            "grid_auto_rows": null,
            "grid_gap": null,
            "max_width": null,
            "order": null,
            "_view_module_version": "1.2.0",
            "grid_template_areas": null,
            "object_position": null,
            "object_fit": null,
            "grid_auto_columns": null,
            "margin": null,
            "display": null,
            "left": null
          }
        },
        "eee4f20e278a41eeb292127e1ce4f7c2": {
          "model_module": "@jupyter-widgets/controls",
          "model_name": "DescriptionStyleModel",
          "state": {
            "_view_name": "StyleView",
            "_model_name": "DescriptionStyleModel",
            "description_width": "",
            "_view_module": "@jupyter-widgets/base",
            "_model_module_version": "1.5.0",
            "_view_count": null,
            "_view_module_version": "1.2.0",
            "_model_module": "@jupyter-widgets/controls"
          }
        },
        "782bd732dc4e4d5b986de0b5f6ecb403": {
          "model_module": "@jupyter-widgets/base",
          "model_name": "LayoutModel",
          "state": {
            "_view_name": "LayoutView",
            "grid_template_rows": null,
            "right": null,
            "justify_content": null,
            "_view_module": "@jupyter-widgets/base",
            "overflow": null,
            "_model_module_version": "1.2.0",
            "_view_count": null,
            "flex_flow": null,
            "width": null,
            "min_width": null,
            "border": null,
            "align_items": null,
            "bottom": null,
            "_model_module": "@jupyter-widgets/base",
            "top": null,
            "grid_column": null,
            "overflow_y": null,
            "overflow_x": null,
            "grid_auto_flow": null,
            "grid_area": null,
            "grid_template_columns": null,
            "flex": null,
            "_model_name": "LayoutModel",
            "justify_items": null,
            "grid_row": null,
            "max_height": null,
            "align_content": null,
            "visibility": null,
            "align_self": null,
            "height": null,
            "min_height": null,
            "padding": null,
            "grid_auto_rows": null,
            "grid_gap": null,
            "max_width": null,
            "order": null,
            "_view_module_version": "1.2.0",
            "grid_template_areas": null,
            "object_position": null,
            "object_fit": null,
            "grid_auto_columns": null,
            "margin": null,
            "display": null,
            "left": null
          }
        },
        "c239928f1dbc4eecab59a59c1efcef77": {
          "model_module": "@jupyter-widgets/controls",
          "model_name": "HBoxModel",
          "state": {
            "_view_name": "HBoxView",
            "_dom_classes": [],
            "_model_name": "HBoxModel",
            "_view_module": "@jupyter-widgets/controls",
            "_model_module_version": "1.5.0",
            "_view_count": null,
            "_view_module_version": "1.5.0",
            "box_style": "",
            "layout": "IPY_MODEL_3ae1a8c2ae0f49b1b8b1aea1f097c610",
            "_model_module": "@jupyter-widgets/controls",
            "children": [
              "IPY_MODEL_d228a9e082bc4b31adff0512921b759e",
              "IPY_MODEL_a4e449a0440c48089593d4322a169164"
            ]
          }
        },
        "3ae1a8c2ae0f49b1b8b1aea1f097c610": {
          "model_module": "@jupyter-widgets/base",
          "model_name": "LayoutModel",
          "state": {
            "_view_name": "LayoutView",
            "grid_template_rows": null,
            "right": null,
            "justify_content": null,
            "_view_module": "@jupyter-widgets/base",
            "overflow": null,
            "_model_module_version": "1.2.0",
            "_view_count": null,
            "flex_flow": null,
            "width": null,
            "min_width": null,
            "border": null,
            "align_items": null,
            "bottom": null,
            "_model_module": "@jupyter-widgets/base",
            "top": null,
            "grid_column": null,
            "overflow_y": null,
            "overflow_x": null,
            "grid_auto_flow": null,
            "grid_area": null,
            "grid_template_columns": null,
            "flex": null,
            "_model_name": "LayoutModel",
            "justify_items": null,
            "grid_row": null,
            "max_height": null,
            "align_content": null,
            "visibility": null,
            "align_self": null,
            "height": null,
            "min_height": null,
            "padding": null,
            "grid_auto_rows": null,
            "grid_gap": null,
            "max_width": null,
            "order": null,
            "_view_module_version": "1.2.0",
            "grid_template_areas": null,
            "object_position": null,
            "object_fit": null,
            "grid_auto_columns": null,
            "margin": null,
            "display": null,
            "left": null
          }
        },
        "d228a9e082bc4b31adff0512921b759e": {
          "model_module": "@jupyter-widgets/controls",
          "model_name": "FloatProgressModel",
          "state": {
            "_view_name": "ProgressView",
            "style": "IPY_MODEL_9719587cae984ae7b46408e2f33c1acc",
            "_dom_classes": [],
            "description": "Downloading: 100%",
            "_model_name": "FloatProgressModel",
            "bar_style": "success",
            "max": 291,
            "_view_module": "@jupyter-widgets/controls",
            "_model_module_version": "1.5.0",
            "value": 291,
            "_view_count": null,
            "_view_module_version": "1.5.0",
            "orientation": "horizontal",
            "min": 0,
            "description_tooltip": null,
            "_model_module": "@jupyter-widgets/controls",
            "layout": "IPY_MODEL_676152a987234802a0bae5a3a0b2a444"
          }
        },
        "a4e449a0440c48089593d4322a169164": {
          "model_module": "@jupyter-widgets/controls",
          "model_name": "HTMLModel",
          "state": {
            "_view_name": "HTMLView",
            "style": "IPY_MODEL_894078838b3246f6ab5ed1b8078ed990",
            "_dom_classes": [],
            "description": "",
            "_model_name": "HTMLModel",
            "placeholder": "​",
            "_view_module": "@jupyter-widgets/controls",
            "_model_module_version": "1.5.0",
            "value": " 291/291 [00:10&lt;00:00, 27.5B/s]",
            "_view_count": null,
            "_view_module_version": "1.5.0",
            "description_tooltip": null,
            "_model_module": "@jupyter-widgets/controls",
            "layout": "IPY_MODEL_a40121ca5f824cabaf1d86848f686985"
          }
        },
        "9719587cae984ae7b46408e2f33c1acc": {
          "model_module": "@jupyter-widgets/controls",
          "model_name": "ProgressStyleModel",
          "state": {
            "_view_name": "StyleView",
            "_model_name": "ProgressStyleModel",
            "description_width": "initial",
            "_view_module": "@jupyter-widgets/base",
            "_model_module_version": "1.5.0",
            "_view_count": null,
            "_view_module_version": "1.2.0",
            "bar_color": null,
            "_model_module": "@jupyter-widgets/controls"
          }
        },
        "676152a987234802a0bae5a3a0b2a444": {
          "model_module": "@jupyter-widgets/base",
          "model_name": "LayoutModel",
          "state": {
            "_view_name": "LayoutView",
            "grid_template_rows": null,
            "right": null,
            "justify_content": null,
            "_view_module": "@jupyter-widgets/base",
            "overflow": null,
            "_model_module_version": "1.2.0",
            "_view_count": null,
            "flex_flow": null,
            "width": null,
            "min_width": null,
            "border": null,
            "align_items": null,
            "bottom": null,
            "_model_module": "@jupyter-widgets/base",
            "top": null,
            "grid_column": null,
            "overflow_y": null,
            "overflow_x": null,
            "grid_auto_flow": null,
            "grid_area": null,
            "grid_template_columns": null,
            "flex": null,
            "_model_name": "LayoutModel",
            "justify_items": null,
            "grid_row": null,
            "max_height": null,
            "align_content": null,
            "visibility": null,
            "align_self": null,
            "height": null,
            "min_height": null,
            "padding": null,
            "grid_auto_rows": null,
            "grid_gap": null,
            "max_width": null,
            "order": null,
            "_view_module_version": "1.2.0",
            "grid_template_areas": null,
            "object_position": null,
            "object_fit": null,
            "grid_auto_columns": null,
            "margin": null,
            "display": null,
            "left": null
          }
        },
        "894078838b3246f6ab5ed1b8078ed990": {
          "model_module": "@jupyter-widgets/controls",
          "model_name": "DescriptionStyleModel",
          "state": {
            "_view_name": "StyleView",
            "_model_name": "DescriptionStyleModel",
            "description_width": "",
            "_view_module": "@jupyter-widgets/base",
            "_model_module_version": "1.5.0",
            "_view_count": null,
            "_view_module_version": "1.2.0",
            "_model_module": "@jupyter-widgets/controls"
          }
        },
        "a40121ca5f824cabaf1d86848f686985": {
          "model_module": "@jupyter-widgets/base",
          "model_name": "LayoutModel",
          "state": {
            "_view_name": "LayoutView",
            "grid_template_rows": null,
            "right": null,
            "justify_content": null,
            "_view_module": "@jupyter-widgets/base",
            "overflow": null,
            "_model_module_version": "1.2.0",
            "_view_count": null,
            "flex_flow": null,
            "width": null,
            "min_width": null,
            "border": null,
            "align_items": null,
            "bottom": null,
            "_model_module": "@jupyter-widgets/base",
            "top": null,
            "grid_column": null,
            "overflow_y": null,
            "overflow_x": null,
            "grid_auto_flow": null,
            "grid_area": null,
            "grid_template_columns": null,
            "flex": null,
            "_model_name": "LayoutModel",
            "justify_items": null,
            "grid_row": null,
            "max_height": null,
            "align_content": null,
            "visibility": null,
            "align_self": null,
            "height": null,
            "min_height": null,
            "padding": null,
            "grid_auto_rows": null,
            "grid_gap": null,
            "max_width": null,
            "order": null,
            "_view_module_version": "1.2.0",
            "grid_template_areas": null,
            "object_position": null,
            "object_fit": null,
            "grid_auto_columns": null,
            "margin": null,
            "display": null,
            "left": null
          }
        },
        "ecfc6c2873e044928f1110c4c3793538": {
          "model_module": "@jupyter-widgets/controls",
          "model_name": "HBoxModel",
          "state": {
            "_view_name": "HBoxView",
            "_dom_classes": [],
            "_model_name": "HBoxModel",
            "_view_module": "@jupyter-widgets/controls",
            "_model_module_version": "1.5.0",
            "_view_count": null,
            "_view_module_version": "1.5.0",
            "box_style": "",
            "layout": "IPY_MODEL_319bce7063ca4e55ba36221ebd62e172",
            "_model_module": "@jupyter-widgets/controls",
            "children": [
              "IPY_MODEL_915d012751b54a79a3c1a1bab4438516",
              "IPY_MODEL_263feea630564039bbb5c1309360a81b"
            ]
          }
        },
        "319bce7063ca4e55ba36221ebd62e172": {
          "model_module": "@jupyter-widgets/base",
          "model_name": "LayoutModel",
          "state": {
            "_view_name": "LayoutView",
            "grid_template_rows": null,
            "right": null,
            "justify_content": null,
            "_view_module": "@jupyter-widgets/base",
            "overflow": null,
            "_model_module_version": "1.2.0",
            "_view_count": null,
            "flex_flow": null,
            "width": null,
            "min_width": null,
            "border": null,
            "align_items": null,
            "bottom": null,
            "_model_module": "@jupyter-widgets/base",
            "top": null,
            "grid_column": null,
            "overflow_y": null,
            "overflow_x": null,
            "grid_auto_flow": null,
            "grid_area": null,
            "grid_template_columns": null,
            "flex": null,
            "_model_name": "LayoutModel",
            "justify_items": null,
            "grid_row": null,
            "max_height": null,
            "align_content": null,
            "visibility": null,
            "align_self": null,
            "height": null,
            "min_height": null,
            "padding": null,
            "grid_auto_rows": null,
            "grid_gap": null,
            "max_width": null,
            "order": null,
            "_view_module_version": "1.2.0",
            "grid_template_areas": null,
            "object_position": null,
            "object_fit": null,
            "grid_auto_columns": null,
            "margin": null,
            "display": null,
            "left": null
          }
        },
        "915d012751b54a79a3c1a1bab4438516": {
          "model_module": "@jupyter-widgets/controls",
          "model_name": "FloatProgressModel",
          "state": {
            "_view_name": "ProgressView",
            "style": "IPY_MODEL_4d27072cc2cd47bba02e010bb55d865c",
            "_dom_classes": [],
            "description": "Downloading: 100%",
            "_model_name": "FloatProgressModel",
            "bar_style": "success",
            "max": 163,
            "_view_module": "@jupyter-widgets/controls",
            "_model_module_version": "1.5.0",
            "value": 163,
            "_view_count": null,
            "_view_module_version": "1.5.0",
            "orientation": "horizontal",
            "min": 0,
            "description_tooltip": null,
            "_model_module": "@jupyter-widgets/controls",
            "layout": "IPY_MODEL_1ba7063ce1854a3caf5c1c492d42119d"
          }
        },
        "263feea630564039bbb5c1309360a81b": {
          "model_module": "@jupyter-widgets/controls",
          "model_name": "HTMLModel",
          "state": {
            "_view_name": "HTMLView",
            "style": "IPY_MODEL_4a08ef7053c14aeb8218032da7d7e2f9",
            "_dom_classes": [],
            "description": "",
            "_model_name": "HTMLModel",
            "placeholder": "​",
            "_view_module": "@jupyter-widgets/controls",
            "_model_module_version": "1.5.0",
            "value": " 163/163 [00:10&lt;00:00, 15.6B/s]",
            "_view_count": null,
            "_view_module_version": "1.5.0",
            "description_tooltip": null,
            "_model_module": "@jupyter-widgets/controls",
            "layout": "IPY_MODEL_249a72c8e89f4df4a06e96be2c43778c"
          }
        },
        "4d27072cc2cd47bba02e010bb55d865c": {
          "model_module": "@jupyter-widgets/controls",
          "model_name": "ProgressStyleModel",
          "state": {
            "_view_name": "StyleView",
            "_model_name": "ProgressStyleModel",
            "description_width": "initial",
            "_view_module": "@jupyter-widgets/base",
            "_model_module_version": "1.5.0",
            "_view_count": null,
            "_view_module_version": "1.2.0",
            "bar_color": null,
            "_model_module": "@jupyter-widgets/controls"
          }
        },
        "1ba7063ce1854a3caf5c1c492d42119d": {
          "model_module": "@jupyter-widgets/base",
          "model_name": "LayoutModel",
          "state": {
            "_view_name": "LayoutView",
            "grid_template_rows": null,
            "right": null,
            "justify_content": null,
            "_view_module": "@jupyter-widgets/base",
            "overflow": null,
            "_model_module_version": "1.2.0",
            "_view_count": null,
            "flex_flow": null,
            "width": null,
            "min_width": null,
            "border": null,
            "align_items": null,
            "bottom": null,
            "_model_module": "@jupyter-widgets/base",
            "top": null,
            "grid_column": null,
            "overflow_y": null,
            "overflow_x": null,
            "grid_auto_flow": null,
            "grid_area": null,
            "grid_template_columns": null,
            "flex": null,
            "_model_name": "LayoutModel",
            "justify_items": null,
            "grid_row": null,
            "max_height": null,
            "align_content": null,
            "visibility": null,
            "align_self": null,
            "height": null,
            "min_height": null,
            "padding": null,
            "grid_auto_rows": null,
            "grid_gap": null,
            "max_width": null,
            "order": null,
            "_view_module_version": "1.2.0",
            "grid_template_areas": null,
            "object_position": null,
            "object_fit": null,
            "grid_auto_columns": null,
            "margin": null,
            "display": null,
            "left": null
          }
        },
        "4a08ef7053c14aeb8218032da7d7e2f9": {
          "model_module": "@jupyter-widgets/controls",
          "model_name": "DescriptionStyleModel",
          "state": {
            "_view_name": "StyleView",
            "_model_name": "DescriptionStyleModel",
            "description_width": "",
            "_view_module": "@jupyter-widgets/base",
            "_model_module_version": "1.5.0",
            "_view_count": null,
            "_view_module_version": "1.2.0",
            "_model_module": "@jupyter-widgets/controls"
          }
        },
        "249a72c8e89f4df4a06e96be2c43778c": {
          "model_module": "@jupyter-widgets/base",
          "model_name": "LayoutModel",
          "state": {
            "_view_name": "LayoutView",
            "grid_template_rows": null,
            "right": null,
            "justify_content": null,
            "_view_module": "@jupyter-widgets/base",
            "overflow": null,
            "_model_module_version": "1.2.0",
            "_view_count": null,
            "flex_flow": null,
            "width": null,
            "min_width": null,
            "border": null,
            "align_items": null,
            "bottom": null,
            "_model_module": "@jupyter-widgets/base",
            "top": null,
            "grid_column": null,
            "overflow_y": null,
            "overflow_x": null,
            "grid_auto_flow": null,
            "grid_area": null,
            "grid_template_columns": null,
            "flex": null,
            "_model_name": "LayoutModel",
            "justify_items": null,
            "grid_row": null,
            "max_height": null,
            "align_content": null,
            "visibility": null,
            "align_self": null,
            "height": null,
            "min_height": null,
            "padding": null,
            "grid_auto_rows": null,
            "grid_gap": null,
            "max_width": null,
            "order": null,
            "_view_module_version": "1.2.0",
            "grid_template_areas": null,
            "object_position": null,
            "object_fit": null,
            "grid_auto_columns": null,
            "margin": null,
            "display": null,
            "left": null
          }
        },
        "acffaa17057c457a8f93422522a46bda": {
          "model_module": "@jupyter-widgets/controls",
          "model_name": "HBoxModel",
          "state": {
            "_view_name": "HBoxView",
            "_dom_classes": [],
            "_model_name": "HBoxModel",
            "_view_module": "@jupyter-widgets/controls",
            "_model_module_version": "1.5.0",
            "_view_count": null,
            "_view_module_version": "1.5.0",
            "box_style": "",
            "layout": "IPY_MODEL_9049cc5c2f2549abad1a613c03b871d4",
            "_model_module": "@jupyter-widgets/controls",
            "children": [
              "IPY_MODEL_55269b8a54ec4de8bcce06b1da633a44",
              "IPY_MODEL_2b74f0ee9fb64def81d503fdb55ac945"
            ]
          }
        },
        "9049cc5c2f2549abad1a613c03b871d4": {
          "model_module": "@jupyter-widgets/base",
          "model_name": "LayoutModel",
          "state": {
            "_view_name": "LayoutView",
            "grid_template_rows": null,
            "right": null,
            "justify_content": null,
            "_view_module": "@jupyter-widgets/base",
            "overflow": null,
            "_model_module_version": "1.2.0",
            "_view_count": null,
            "flex_flow": null,
            "width": null,
            "min_width": null,
            "border": null,
            "align_items": null,
            "bottom": null,
            "_model_module": "@jupyter-widgets/base",
            "top": null,
            "grid_column": null,
            "overflow_y": null,
            "overflow_x": null,
            "grid_auto_flow": null,
            "grid_area": null,
            "grid_template_columns": null,
            "flex": null,
            "_model_name": "LayoutModel",
            "justify_items": null,
            "grid_row": null,
            "max_height": null,
            "align_content": null,
            "visibility": null,
            "align_self": null,
            "height": null,
            "min_height": null,
            "padding": null,
            "grid_auto_rows": null,
            "grid_gap": null,
            "max_width": null,
            "order": null,
            "_view_module_version": "1.2.0",
            "grid_template_areas": null,
            "object_position": null,
            "object_fit": null,
            "grid_auto_columns": null,
            "margin": null,
            "display": null,
            "left": null
          }
        },
        "55269b8a54ec4de8bcce06b1da633a44": {
          "model_module": "@jupyter-widgets/controls",
          "model_name": "FloatProgressModel",
          "state": {
            "_view_name": "ProgressView",
            "style": "IPY_MODEL_535b2f7979884617a185acfadab9436a",
            "_dom_classes": [],
            "description": "Downloading: 100%",
            "_model_name": "FloatProgressModel",
            "bar_style": "success",
            "max": 85,
            "_view_module": "@jupyter-widgets/controls",
            "_model_module_version": "1.5.0",
            "value": 85,
            "_view_count": null,
            "_view_module_version": "1.5.0",
            "orientation": "horizontal",
            "min": 0,
            "description_tooltip": null,
            "_model_module": "@jupyter-widgets/controls",
            "layout": "IPY_MODEL_01f5f949ff43486599fc3e8c92d1ad0d"
          }
        },
        "2b74f0ee9fb64def81d503fdb55ac945": {
          "model_module": "@jupyter-widgets/controls",
          "model_name": "HTMLModel",
          "state": {
            "_view_name": "HTMLView",
            "style": "IPY_MODEL_476694de45b44d9ab0dead577d740f9d",
            "_dom_classes": [],
            "description": "",
            "_model_name": "HTMLModel",
            "placeholder": "​",
            "_view_module": "@jupyter-widgets/controls",
            "_model_module_version": "1.5.0",
            "value": " 85.0/85.0 [00:10&lt;00:00, 8.24B/s]",
            "_view_count": null,
            "_view_module_version": "1.5.0",
            "description_tooltip": null,
            "_model_module": "@jupyter-widgets/controls",
            "layout": "IPY_MODEL_33c37ab23f4649e2a02b98cea020df91"
          }
        },
        "535b2f7979884617a185acfadab9436a": {
          "model_module": "@jupyter-widgets/controls",
          "model_name": "ProgressStyleModel",
          "state": {
            "_view_name": "StyleView",
            "_model_name": "ProgressStyleModel",
            "description_width": "initial",
            "_view_module": "@jupyter-widgets/base",
            "_model_module_version": "1.5.0",
            "_view_count": null,
            "_view_module_version": "1.2.0",
            "bar_color": null,
            "_model_module": "@jupyter-widgets/controls"
          }
        },
        "01f5f949ff43486599fc3e8c92d1ad0d": {
          "model_module": "@jupyter-widgets/base",
          "model_name": "LayoutModel",
          "state": {
            "_view_name": "LayoutView",
            "grid_template_rows": null,
            "right": null,
            "justify_content": null,
            "_view_module": "@jupyter-widgets/base",
            "overflow": null,
            "_model_module_version": "1.2.0",
            "_view_count": null,
            "flex_flow": null,
            "width": null,
            "min_width": null,
            "border": null,
            "align_items": null,
            "bottom": null,
            "_model_module": "@jupyter-widgets/base",
            "top": null,
            "grid_column": null,
            "overflow_y": null,
            "overflow_x": null,
            "grid_auto_flow": null,
            "grid_area": null,
            "grid_template_columns": null,
            "flex": null,
            "_model_name": "LayoutModel",
            "justify_items": null,
            "grid_row": null,
            "max_height": null,
            "align_content": null,
            "visibility": null,
            "align_self": null,
            "height": null,
            "min_height": null,
            "padding": null,
            "grid_auto_rows": null,
            "grid_gap": null,
            "max_width": null,
            "order": null,
            "_view_module_version": "1.2.0",
            "grid_template_areas": null,
            "object_position": null,
            "object_fit": null,
            "grid_auto_columns": null,
            "margin": null,
            "display": null,
            "left": null
          }
        },
        "476694de45b44d9ab0dead577d740f9d": {
          "model_module": "@jupyter-widgets/controls",
          "model_name": "DescriptionStyleModel",
          "state": {
            "_view_name": "StyleView",
            "_model_name": "DescriptionStyleModel",
            "description_width": "",
            "_view_module": "@jupyter-widgets/base",
            "_model_module_version": "1.5.0",
            "_view_count": null,
            "_view_module_version": "1.2.0",
            "_model_module": "@jupyter-widgets/controls"
          }
        },
        "33c37ab23f4649e2a02b98cea020df91": {
          "model_module": "@jupyter-widgets/base",
          "model_name": "LayoutModel",
          "state": {
            "_view_name": "LayoutView",
            "grid_template_rows": null,
            "right": null,
            "justify_content": null,
            "_view_module": "@jupyter-widgets/base",
            "overflow": null,
            "_model_module_version": "1.2.0",
            "_view_count": null,
            "flex_flow": null,
            "width": null,
            "min_width": null,
            "border": null,
            "align_items": null,
            "bottom": null,
            "_model_module": "@jupyter-widgets/base",
            "top": null,
            "grid_column": null,
            "overflow_y": null,
            "overflow_x": null,
            "grid_auto_flow": null,
            "grid_area": null,
            "grid_template_columns": null,
            "flex": null,
            "_model_name": "LayoutModel",
            "justify_items": null,
            "grid_row": null,
            "max_height": null,
            "align_content": null,
            "visibility": null,
            "align_self": null,
            "height": null,
            "min_height": null,
            "padding": null,
            "grid_auto_rows": null,
            "grid_gap": null,
            "max_width": null,
            "order": null,
            "_view_module_version": "1.2.0",
            "grid_template_areas": null,
            "object_position": null,
            "object_fit": null,
            "grid_auto_columns": null,
            "margin": null,
            "display": null,
            "left": null
          }
        },
        "2bed165718b141fcaa2c174f9db4e09f": {
          "model_module": "@jupyter-widgets/controls",
          "model_name": "HBoxModel",
          "state": {
            "_view_name": "HBoxView",
            "_dom_classes": [],
            "_model_name": "HBoxModel",
            "_view_module": "@jupyter-widgets/controls",
            "_model_module_version": "1.5.0",
            "_view_count": null,
            "_view_module_version": "1.5.0",
            "box_style": "",
            "layout": "IPY_MODEL_cbe3d45fbd7d4453832036a1b8d9ed92",
            "_model_module": "@jupyter-widgets/controls",
            "children": [
              "IPY_MODEL_fd3e6b264197492792eb055f7bda0e1e",
              "IPY_MODEL_ffc49f44e83a47d49bb26900be8bce5b"
            ]
          }
        },
        "cbe3d45fbd7d4453832036a1b8d9ed92": {
          "model_module": "@jupyter-widgets/base",
          "model_name": "LayoutModel",
          "state": {
            "_view_name": "LayoutView",
            "grid_template_rows": null,
            "right": null,
            "justify_content": null,
            "_view_module": "@jupyter-widgets/base",
            "overflow": null,
            "_model_module_version": "1.2.0",
            "_view_count": null,
            "flex_flow": null,
            "width": null,
            "min_width": null,
            "border": null,
            "align_items": null,
            "bottom": null,
            "_model_module": "@jupyter-widgets/base",
            "top": null,
            "grid_column": null,
            "overflow_y": null,
            "overflow_x": null,
            "grid_auto_flow": null,
            "grid_area": null,
            "grid_template_columns": null,
            "flex": null,
            "_model_name": "LayoutModel",
            "justify_items": null,
            "grid_row": null,
            "max_height": null,
            "align_content": null,
            "visibility": null,
            "align_self": null,
            "height": null,
            "min_height": null,
            "padding": null,
            "grid_auto_rows": null,
            "grid_gap": null,
            "max_width": null,
            "order": null,
            "_view_module_version": "1.2.0",
            "grid_template_areas": null,
            "object_position": null,
            "object_fit": null,
            "grid_auto_columns": null,
            "margin": null,
            "display": null,
            "left": null
          }
        },
        "fd3e6b264197492792eb055f7bda0e1e": {
          "model_module": "@jupyter-widgets/controls",
          "model_name": "FloatProgressModel",
          "state": {
            "_view_name": "ProgressView",
            "style": "IPY_MODEL_db77305946884505a835f30b19dae03f",
            "_dom_classes": [],
            "description": "Downloading: 100%",
            "_model_name": "FloatProgressModel",
            "bar_style": "success",
            "max": 1153,
            "_view_module": "@jupyter-widgets/controls",
            "_model_module_version": "1.5.0",
            "value": 1153,
            "_view_count": null,
            "_view_module_version": "1.5.0",
            "orientation": "horizontal",
            "min": 0,
            "description_tooltip": null,
            "_model_module": "@jupyter-widgets/controls",
            "layout": "IPY_MODEL_b97550e67c59464db4bc42e8d2d016ad"
          }
        },
        "ffc49f44e83a47d49bb26900be8bce5b": {
          "model_module": "@jupyter-widgets/controls",
          "model_name": "HTMLModel",
          "state": {
            "_view_name": "HTMLView",
            "style": "IPY_MODEL_d4b5868c428b47ea8dae027320eafb23",
            "_dom_classes": [],
            "description": "",
            "_model_name": "HTMLModel",
            "placeholder": "​",
            "_view_module": "@jupyter-widgets/controls",
            "_model_module_version": "1.5.0",
            "value": " 1.15k/1.15k [00:00&lt;00:00, 17.7kB/s]",
            "_view_count": null,
            "_view_module_version": "1.5.0",
            "description_tooltip": null,
            "_model_module": "@jupyter-widgets/controls",
            "layout": "IPY_MODEL_aa7fb50bca9b45feadab66cea7be8e01"
          }
        },
        "db77305946884505a835f30b19dae03f": {
          "model_module": "@jupyter-widgets/controls",
          "model_name": "ProgressStyleModel",
          "state": {
            "_view_name": "StyleView",
            "_model_name": "ProgressStyleModel",
            "description_width": "initial",
            "_view_module": "@jupyter-widgets/base",
            "_model_module_version": "1.5.0",
            "_view_count": null,
            "_view_module_version": "1.2.0",
            "bar_color": null,
            "_model_module": "@jupyter-widgets/controls"
          }
        },
        "b97550e67c59464db4bc42e8d2d016ad": {
          "model_module": "@jupyter-widgets/base",
          "model_name": "LayoutModel",
          "state": {
            "_view_name": "LayoutView",
            "grid_template_rows": null,
            "right": null,
            "justify_content": null,
            "_view_module": "@jupyter-widgets/base",
            "overflow": null,
            "_model_module_version": "1.2.0",
            "_view_count": null,
            "flex_flow": null,
            "width": null,
            "min_width": null,
            "border": null,
            "align_items": null,
            "bottom": null,
            "_model_module": "@jupyter-widgets/base",
            "top": null,
            "grid_column": null,
            "overflow_y": null,
            "overflow_x": null,
            "grid_auto_flow": null,
            "grid_area": null,
            "grid_template_columns": null,
            "flex": null,
            "_model_name": "LayoutModel",
            "justify_items": null,
            "grid_row": null,
            "max_height": null,
            "align_content": null,
            "visibility": null,
            "align_self": null,
            "height": null,
            "min_height": null,
            "padding": null,
            "grid_auto_rows": null,
            "grid_gap": null,
            "max_width": null,
            "order": null,
            "_view_module_version": "1.2.0",
            "grid_template_areas": null,
            "object_position": null,
            "object_fit": null,
            "grid_auto_columns": null,
            "margin": null,
            "display": null,
            "left": null
          }
        },
        "d4b5868c428b47ea8dae027320eafb23": {
          "model_module": "@jupyter-widgets/controls",
          "model_name": "DescriptionStyleModel",
          "state": {
            "_view_name": "StyleView",
            "_model_name": "DescriptionStyleModel",
            "description_width": "",
            "_view_module": "@jupyter-widgets/base",
            "_model_module_version": "1.5.0",
            "_view_count": null,
            "_view_module_version": "1.2.0",
            "_model_module": "@jupyter-widgets/controls"
          }
        },
        "aa7fb50bca9b45feadab66cea7be8e01": {
          "model_module": "@jupyter-widgets/base",
          "model_name": "LayoutModel",
          "state": {
            "_view_name": "LayoutView",
            "grid_template_rows": null,
            "right": null,
            "justify_content": null,
            "_view_module": "@jupyter-widgets/base",
            "overflow": null,
            "_model_module_version": "1.2.0",
            "_view_count": null,
            "flex_flow": null,
            "width": null,
            "min_width": null,
            "border": null,
            "align_items": null,
            "bottom": null,
            "_model_module": "@jupyter-widgets/base",
            "top": null,
            "grid_column": null,
            "overflow_y": null,
            "overflow_x": null,
            "grid_auto_flow": null,
            "grid_area": null,
            "grid_template_columns": null,
            "flex": null,
            "_model_name": "LayoutModel",
            "justify_items": null,
            "grid_row": null,
            "max_height": null,
            "align_content": null,
            "visibility": null,
            "align_self": null,
            "height": null,
            "min_height": null,
            "padding": null,
            "grid_auto_rows": null,
            "grid_gap": null,
            "max_width": null,
            "order": null,
            "_view_module_version": "1.2.0",
            "grid_template_areas": null,
            "object_position": null,
            "object_fit": null,
            "grid_auto_columns": null,
            "margin": null,
            "display": null,
            "left": null
          }
        },
        "92f3a57d2de94014a74155110c6a3f87": {
          "model_module": "@jupyter-widgets/controls",
          "model_name": "HBoxModel",
          "state": {
            "_view_name": "HBoxView",
            "_dom_classes": [],
            "_model_name": "HBoxModel",
            "_view_module": "@jupyter-widgets/controls",
            "_model_module_version": "1.5.0",
            "_view_count": null,
            "_view_module_version": "1.5.0",
            "box_style": "",
            "layout": "IPY_MODEL_c868d30b56e0404eb2cd084b6e1f92f1",
            "_model_module": "@jupyter-widgets/controls",
            "children": [
              "IPY_MODEL_f90972e89b6e4b239cdc46c64313aa6b",
              "IPY_MODEL_974e1d36a32c40e9ad4954aca70756bf"
            ]
          }
        },
        "c868d30b56e0404eb2cd084b6e1f92f1": {
          "model_module": "@jupyter-widgets/base",
          "model_name": "LayoutModel",
          "state": {
            "_view_name": "LayoutView",
            "grid_template_rows": null,
            "right": null,
            "justify_content": null,
            "_view_module": "@jupyter-widgets/base",
            "overflow": null,
            "_model_module_version": "1.2.0",
            "_view_count": null,
            "flex_flow": null,
            "width": null,
            "min_width": null,
            "border": null,
            "align_items": null,
            "bottom": null,
            "_model_module": "@jupyter-widgets/base",
            "top": null,
            "grid_column": null,
            "overflow_y": null,
            "overflow_x": null,
            "grid_auto_flow": null,
            "grid_area": null,
            "grid_template_columns": null,
            "flex": null,
            "_model_name": "LayoutModel",
            "justify_items": null,
            "grid_row": null,
            "max_height": null,
            "align_content": null,
            "visibility": null,
            "align_self": null,
            "height": null,
            "min_height": null,
            "padding": null,
            "grid_auto_rows": null,
            "grid_gap": null,
            "max_width": null,
            "order": null,
            "_view_module_version": "1.2.0",
            "grid_template_areas": null,
            "object_position": null,
            "object_fit": null,
            "grid_auto_columns": null,
            "margin": null,
            "display": null,
            "left": null
          }
        },
        "f90972e89b6e4b239cdc46c64313aa6b": {
          "model_module": "@jupyter-widgets/controls",
          "model_name": "FloatProgressModel",
          "state": {
            "_view_name": "ProgressView",
            "style": "IPY_MODEL_37800d4f33454e0fa24bb39863ff5172",
            "_dom_classes": [],
            "description": "Downloading: 100%",
            "_model_name": "FloatProgressModel",
            "bar_style": "success",
            "max": 1505,
            "_view_module": "@jupyter-widgets/controls",
            "_model_module_version": "1.5.0",
            "value": 1505,
            "_view_count": null,
            "_view_module_version": "1.5.0",
            "orientation": "horizontal",
            "min": 0,
            "description_tooltip": null,
            "_model_module": "@jupyter-widgets/controls",
            "layout": "IPY_MODEL_c59dd09961a042e5aa9584f18daa91de"
          }
        },
        "974e1d36a32c40e9ad4954aca70756bf": {
          "model_module": "@jupyter-widgets/controls",
          "model_name": "HTMLModel",
          "state": {
            "_view_name": "HTMLView",
            "style": "IPY_MODEL_d2264b71d636483dbfdc39607bb6bd61",
            "_dom_classes": [],
            "description": "",
            "_model_name": "HTMLModel",
            "placeholder": "​",
            "_view_module": "@jupyter-widgets/controls",
            "_model_module_version": "1.5.0",
            "value": " 1.50k/1.50k [00:00&lt;00:00, 7.38kB/s]",
            "_view_count": null,
            "_view_module_version": "1.5.0",
            "description_tooltip": null,
            "_model_module": "@jupyter-widgets/controls",
            "layout": "IPY_MODEL_9d7a6fa898a9430fa0fc65fb6651b5f9"
          }
        },
        "37800d4f33454e0fa24bb39863ff5172": {
          "model_module": "@jupyter-widgets/controls",
          "model_name": "ProgressStyleModel",
          "state": {
            "_view_name": "StyleView",
            "_model_name": "ProgressStyleModel",
            "description_width": "initial",
            "_view_module": "@jupyter-widgets/base",
            "_model_module_version": "1.5.0",
            "_view_count": null,
            "_view_module_version": "1.2.0",
            "bar_color": null,
            "_model_module": "@jupyter-widgets/controls"
          }
        },
        "c59dd09961a042e5aa9584f18daa91de": {
          "model_module": "@jupyter-widgets/base",
          "model_name": "LayoutModel",
          "state": {
            "_view_name": "LayoutView",
            "grid_template_rows": null,
            "right": null,
            "justify_content": null,
            "_view_module": "@jupyter-widgets/base",
            "overflow": null,
            "_model_module_version": "1.2.0",
            "_view_count": null,
            "flex_flow": null,
            "width": null,
            "min_width": null,
            "border": null,
            "align_items": null,
            "bottom": null,
            "_model_module": "@jupyter-widgets/base",
            "top": null,
            "grid_column": null,
            "overflow_y": null,
            "overflow_x": null,
            "grid_auto_flow": null,
            "grid_area": null,
            "grid_template_columns": null,
            "flex": null,
            "_model_name": "LayoutModel",
            "justify_items": null,
            "grid_row": null,
            "max_height": null,
            "align_content": null,
            "visibility": null,
            "align_self": null,
            "height": null,
            "min_height": null,
            "padding": null,
            "grid_auto_rows": null,
            "grid_gap": null,
            "max_width": null,
            "order": null,
            "_view_module_version": "1.2.0",
            "grid_template_areas": null,
            "object_position": null,
            "object_fit": null,
            "grid_auto_columns": null,
            "margin": null,
            "display": null,
            "left": null
          }
        },
        "d2264b71d636483dbfdc39607bb6bd61": {
          "model_module": "@jupyter-widgets/controls",
          "model_name": "DescriptionStyleModel",
          "state": {
            "_view_name": "StyleView",
            "_model_name": "DescriptionStyleModel",
            "description_width": "",
            "_view_module": "@jupyter-widgets/base",
            "_model_module_version": "1.5.0",
            "_view_count": null,
            "_view_module_version": "1.2.0",
            "_model_module": "@jupyter-widgets/controls"
          }
        },
        "9d7a6fa898a9430fa0fc65fb6651b5f9": {
          "model_module": "@jupyter-widgets/base",
          "model_name": "LayoutModel",
          "state": {
            "_view_name": "LayoutView",
            "grid_template_rows": null,
            "right": null,
            "justify_content": null,
            "_view_module": "@jupyter-widgets/base",
            "overflow": null,
            "_model_module_version": "1.2.0",
            "_view_count": null,
            "flex_flow": null,
            "width": null,
            "min_width": null,
            "border": null,
            "align_items": null,
            "bottom": null,
            "_model_module": "@jupyter-widgets/base",
            "top": null,
            "grid_column": null,
            "overflow_y": null,
            "overflow_x": null,
            "grid_auto_flow": null,
            "grid_area": null,
            "grid_template_columns": null,
            "flex": null,
            "_model_name": "LayoutModel",
            "justify_items": null,
            "grid_row": null,
            "max_height": null,
            "align_content": null,
            "visibility": null,
            "align_self": null,
            "height": null,
            "min_height": null,
            "padding": null,
            "grid_auto_rows": null,
            "grid_gap": null,
            "max_width": null,
            "order": null,
            "_view_module_version": "1.2.0",
            "grid_template_areas": null,
            "object_position": null,
            "object_fit": null,
            "grid_auto_columns": null,
            "margin": null,
            "display": null,
            "left": null
          }
        },
        "2ef2e770764c428bbc738b09bd6b9b1a": {
          "model_module": "@jupyter-widgets/controls",
          "model_name": "HBoxModel",
          "state": {
            "_view_name": "HBoxView",
            "_dom_classes": [],
            "_model_name": "HBoxModel",
            "_view_module": "@jupyter-widgets/controls",
            "_model_module_version": "1.5.0",
            "_view_count": null,
            "_view_module_version": "1.5.0",
            "box_style": "",
            "layout": "IPY_MODEL_62c1675b104b4f8fbeb1f95e35be62d7",
            "_model_module": "@jupyter-widgets/controls",
            "children": [
              "IPY_MODEL_b716df54730c4c7f9507abc57722ed40",
              "IPY_MODEL_f5a9cb609f674fa68fe21390cf357e6c"
            ]
          }
        },
        "62c1675b104b4f8fbeb1f95e35be62d7": {
          "model_module": "@jupyter-widgets/base",
          "model_name": "LayoutModel",
          "state": {
            "_view_name": "LayoutView",
            "grid_template_rows": null,
            "right": null,
            "justify_content": null,
            "_view_module": "@jupyter-widgets/base",
            "overflow": null,
            "_model_module_version": "1.2.0",
            "_view_count": null,
            "flex_flow": null,
            "width": null,
            "min_width": null,
            "border": null,
            "align_items": null,
            "bottom": null,
            "_model_module": "@jupyter-widgets/base",
            "top": null,
            "grid_column": null,
            "overflow_y": null,
            "overflow_x": null,
            "grid_auto_flow": null,
            "grid_area": null,
            "grid_template_columns": null,
            "flex": null,
            "_model_name": "LayoutModel",
            "justify_items": null,
            "grid_row": null,
            "max_height": null,
            "align_content": null,
            "visibility": null,
            "align_self": null,
            "height": null,
            "min_height": null,
            "padding": null,
            "grid_auto_rows": null,
            "grid_gap": null,
            "max_width": null,
            "order": null,
            "_view_module_version": "1.2.0",
            "grid_template_areas": null,
            "object_position": null,
            "object_fit": null,
            "grid_auto_columns": null,
            "margin": null,
            "display": null,
            "left": null
          }
        },
        "b716df54730c4c7f9507abc57722ed40": {
          "model_module": "@jupyter-widgets/controls",
          "model_name": "FloatProgressModel",
          "state": {
            "_view_name": "ProgressView",
            "style": "IPY_MODEL_44b28b914a92419abc096b8470b22eb0",
            "_dom_classes": [],
            "description": "Downloading: 100%",
            "_model_name": "FloatProgressModel",
            "bar_style": "success",
            "max": 126891,
            "_view_module": "@jupyter-widgets/controls",
            "_model_module_version": "1.5.0",
            "value": 126891,
            "_view_count": null,
            "_view_module_version": "1.5.0",
            "orientation": "horizontal",
            "min": 0,
            "description_tooltip": null,
            "_model_module": "@jupyter-widgets/controls",
            "layout": "IPY_MODEL_445abc6f84f142668fa48b7eb23b65c6"
          }
        },
        "f5a9cb609f674fa68fe21390cf357e6c": {
          "model_module": "@jupyter-widgets/controls",
          "model_name": "HTMLModel",
          "state": {
            "_view_name": "HTMLView",
            "style": "IPY_MODEL_bde5333a17e640d9ab962293a2fe57da",
            "_dom_classes": [],
            "description": "",
            "_model_name": "HTMLModel",
            "placeholder": "​",
            "_view_module": "@jupyter-widgets/controls",
            "_model_module_version": "1.5.0",
            "value": " 127k/127k [00:00&lt;00:00, 1.11MB/s]",
            "_view_count": null,
            "_view_module_version": "1.5.0",
            "description_tooltip": null,
            "_model_module": "@jupyter-widgets/controls",
            "layout": "IPY_MODEL_ebda3fcb74ef49378239fdb4b2d0d99f"
          }
        },
        "44b28b914a92419abc096b8470b22eb0": {
          "model_module": "@jupyter-widgets/controls",
          "model_name": "ProgressStyleModel",
          "state": {
            "_view_name": "StyleView",
            "_model_name": "ProgressStyleModel",
            "description_width": "initial",
            "_view_module": "@jupyter-widgets/base",
            "_model_module_version": "1.5.0",
            "_view_count": null,
            "_view_module_version": "1.2.0",
            "bar_color": null,
            "_model_module": "@jupyter-widgets/controls"
          }
        },
        "445abc6f84f142668fa48b7eb23b65c6": {
          "model_module": "@jupyter-widgets/base",
          "model_name": "LayoutModel",
          "state": {
            "_view_name": "LayoutView",
            "grid_template_rows": null,
            "right": null,
            "justify_content": null,
            "_view_module": "@jupyter-widgets/base",
            "overflow": null,
            "_model_module_version": "1.2.0",
            "_view_count": null,
            "flex_flow": null,
            "width": null,
            "min_width": null,
            "border": null,
            "align_items": null,
            "bottom": null,
            "_model_module": "@jupyter-widgets/base",
            "top": null,
            "grid_column": null,
            "overflow_y": null,
            "overflow_x": null,
            "grid_auto_flow": null,
            "grid_area": null,
            "grid_template_columns": null,
            "flex": null,
            "_model_name": "LayoutModel",
            "justify_items": null,
            "grid_row": null,
            "max_height": null,
            "align_content": null,
            "visibility": null,
            "align_self": null,
            "height": null,
            "min_height": null,
            "padding": null,
            "grid_auto_rows": null,
            "grid_gap": null,
            "max_width": null,
            "order": null,
            "_view_module_version": "1.2.0",
            "grid_template_areas": null,
            "object_position": null,
            "object_fit": null,
            "grid_auto_columns": null,
            "margin": null,
            "display": null,
            "left": null
          }
        },
        "bde5333a17e640d9ab962293a2fe57da": {
          "model_module": "@jupyter-widgets/controls",
          "model_name": "DescriptionStyleModel",
          "state": {
            "_view_name": "StyleView",
            "_model_name": "DescriptionStyleModel",
            "description_width": "",
            "_view_module": "@jupyter-widgets/base",
            "_model_module_version": "1.5.0",
            "_view_count": null,
            "_view_module_version": "1.2.0",
            "_model_module": "@jupyter-widgets/controls"
          }
        },
        "ebda3fcb74ef49378239fdb4b2d0d99f": {
          "model_module": "@jupyter-widgets/base",
          "model_name": "LayoutModel",
          "state": {
            "_view_name": "LayoutView",
            "grid_template_rows": null,
            "right": null,
            "justify_content": null,
            "_view_module": "@jupyter-widgets/base",
            "overflow": null,
            "_model_module_version": "1.2.0",
            "_view_count": null,
            "flex_flow": null,
            "width": null,
            "min_width": null,
            "border": null,
            "align_items": null,
            "bottom": null,
            "_model_module": "@jupyter-widgets/base",
            "top": null,
            "grid_column": null,
            "overflow_y": null,
            "overflow_x": null,
            "grid_auto_flow": null,
            "grid_area": null,
            "grid_template_columns": null,
            "flex": null,
            "_model_name": "LayoutModel",
            "justify_items": null,
            "grid_row": null,
            "max_height": null,
            "align_content": null,
            "visibility": null,
            "align_self": null,
            "height": null,
            "min_height": null,
            "padding": null,
            "grid_auto_rows": null,
            "grid_gap": null,
            "max_width": null,
            "order": null,
            "_view_module_version": "1.2.0",
            "grid_template_areas": null,
            "object_position": null,
            "object_fit": null,
            "grid_auto_columns": null,
            "margin": null,
            "display": null,
            "left": null
          }
        },
        "a64c6bb46bbe454bbd9942af83dd1c1d": {
          "model_module": "@jupyter-widgets/controls",
          "model_name": "HBoxModel",
          "state": {
            "_view_name": "HBoxView",
            "_dom_classes": [],
            "_model_name": "HBoxModel",
            "_view_module": "@jupyter-widgets/controls",
            "_model_module_version": "1.5.0",
            "_view_count": null,
            "_view_module_version": "1.5.0",
            "box_style": "",
            "layout": "IPY_MODEL_c21bc298ae3e4145bc814ecadfcf7323",
            "_model_module": "@jupyter-widgets/controls",
            "children": [
              "IPY_MODEL_fac30582681d422187a5a5bca1075ed4",
              "IPY_MODEL_16396086203a49879b4d0cbfe9703790"
            ]
          }
        },
        "c21bc298ae3e4145bc814ecadfcf7323": {
          "model_module": "@jupyter-widgets/base",
          "model_name": "LayoutModel",
          "state": {
            "_view_name": "LayoutView",
            "grid_template_rows": null,
            "right": null,
            "justify_content": null,
            "_view_module": "@jupyter-widgets/base",
            "overflow": null,
            "_model_module_version": "1.2.0",
            "_view_count": null,
            "flex_flow": null,
            "width": null,
            "min_width": null,
            "border": null,
            "align_items": null,
            "bottom": null,
            "_model_module": "@jupyter-widgets/base",
            "top": null,
            "grid_column": null,
            "overflow_y": null,
            "overflow_x": null,
            "grid_auto_flow": null,
            "grid_area": null,
            "grid_template_columns": null,
            "flex": null,
            "_model_name": "LayoutModel",
            "justify_items": null,
            "grid_row": null,
            "max_height": null,
            "align_content": null,
            "visibility": null,
            "align_self": null,
            "height": null,
            "min_height": null,
            "padding": null,
            "grid_auto_rows": null,
            "grid_gap": null,
            "max_width": null,
            "order": null,
            "_view_module_version": "1.2.0",
            "grid_template_areas": null,
            "object_position": null,
            "object_fit": null,
            "grid_auto_columns": null,
            "margin": null,
            "display": null,
            "left": null
          }
        },
        "fac30582681d422187a5a5bca1075ed4": {
          "model_module": "@jupyter-widgets/controls",
          "model_name": "FloatProgressModel",
          "state": {
            "_view_name": "ProgressView",
            "style": "IPY_MODEL_929cab7a26d14624b5fcbe336a587820",
            "_dom_classes": [],
            "description": "Downloading: 100%",
            "_model_name": "FloatProgressModel",
            "bar_style": "success",
            "max": 62871,
            "_view_module": "@jupyter-widgets/controls",
            "_model_module_version": "1.5.0",
            "value": 62871,
            "_view_count": null,
            "_view_module_version": "1.5.0",
            "orientation": "horizontal",
            "min": 0,
            "description_tooltip": null,
            "_model_module": "@jupyter-widgets/controls",
            "layout": "IPY_MODEL_61a29dcc29ca42929c3138698571443a"
          }
        },
        "16396086203a49879b4d0cbfe9703790": {
          "model_module": "@jupyter-widgets/controls",
          "model_name": "HTMLModel",
          "state": {
            "_view_name": "HTMLView",
            "style": "IPY_MODEL_08feb8d9f62a4113abaa9fc8638e7569",
            "_dom_classes": [],
            "description": "",
            "_model_name": "HTMLModel",
            "placeholder": "​",
            "_view_module": "@jupyter-widgets/controls",
            "_model_module_version": "1.5.0",
            "value": " 62.9k/62.9k [00:00&lt;00:00, 185kB/s]",
            "_view_count": null,
            "_view_module_version": "1.5.0",
            "description_tooltip": null,
            "_model_module": "@jupyter-widgets/controls",
            "layout": "IPY_MODEL_41d67f412cf24ac08dde267bc616a233"
          }
        },
        "929cab7a26d14624b5fcbe336a587820": {
          "model_module": "@jupyter-widgets/controls",
          "model_name": "ProgressStyleModel",
          "state": {
            "_view_name": "StyleView",
            "_model_name": "ProgressStyleModel",
            "description_width": "initial",
            "_view_module": "@jupyter-widgets/base",
            "_model_module_version": "1.5.0",
            "_view_count": null,
            "_view_module_version": "1.2.0",
            "bar_color": null,
            "_model_module": "@jupyter-widgets/controls"
          }
        },
        "61a29dcc29ca42929c3138698571443a": {
          "model_module": "@jupyter-widgets/base",
          "model_name": "LayoutModel",
          "state": {
            "_view_name": "LayoutView",
            "grid_template_rows": null,
            "right": null,
            "justify_content": null,
            "_view_module": "@jupyter-widgets/base",
            "overflow": null,
            "_model_module_version": "1.2.0",
            "_view_count": null,
            "flex_flow": null,
            "width": null,
            "min_width": null,
            "border": null,
            "align_items": null,
            "bottom": null,
            "_model_module": "@jupyter-widgets/base",
            "top": null,
            "grid_column": null,
            "overflow_y": null,
            "overflow_x": null,
            "grid_auto_flow": null,
            "grid_area": null,
            "grid_template_columns": null,
            "flex": null,
            "_model_name": "LayoutModel",
            "justify_items": null,
            "grid_row": null,
            "max_height": null,
            "align_content": null,
            "visibility": null,
            "align_self": null,
            "height": null,
            "min_height": null,
            "padding": null,
            "grid_auto_rows": null,
            "grid_gap": null,
            "max_width": null,
            "order": null,
            "_view_module_version": "1.2.0",
            "grid_template_areas": null,
            "object_position": null,
            "object_fit": null,
            "grid_auto_columns": null,
            "margin": null,
            "display": null,
            "left": null
          }
        },
        "08feb8d9f62a4113abaa9fc8638e7569": {
          "model_module": "@jupyter-widgets/controls",
          "model_name": "DescriptionStyleModel",
          "state": {
            "_view_name": "StyleView",
            "_model_name": "DescriptionStyleModel",
            "description_width": "",
            "_view_module": "@jupyter-widgets/base",
            "_model_module_version": "1.5.0",
            "_view_count": null,
            "_view_module_version": "1.2.0",
            "_model_module": "@jupyter-widgets/controls"
          }
        },
        "41d67f412cf24ac08dde267bc616a233": {
          "model_module": "@jupyter-widgets/base",
          "model_name": "LayoutModel",
          "state": {
            "_view_name": "LayoutView",
            "grid_template_rows": null,
            "right": null,
            "justify_content": null,
            "_view_module": "@jupyter-widgets/base",
            "overflow": null,
            "_model_module_version": "1.2.0",
            "_view_count": null,
            "flex_flow": null,
            "width": null,
            "min_width": null,
            "border": null,
            "align_items": null,
            "bottom": null,
            "_model_module": "@jupyter-widgets/base",
            "top": null,
            "grid_column": null,
            "overflow_y": null,
            "overflow_x": null,
            "grid_auto_flow": null,
            "grid_area": null,
            "grid_template_columns": null,
            "flex": null,
            "_model_name": "LayoutModel",
            "justify_items": null,
            "grid_row": null,
            "max_height": null,
            "align_content": null,
            "visibility": null,
            "align_self": null,
            "height": null,
            "min_height": null,
            "padding": null,
            "grid_auto_rows": null,
            "grid_gap": null,
            "max_width": null,
            "order": null,
            "_view_module_version": "1.2.0",
            "grid_template_areas": null,
            "object_position": null,
            "object_fit": null,
            "grid_auto_columns": null,
            "margin": null,
            "display": null,
            "left": null
          }
        },
        "599bebd87a96417a83f3920866a2ee50": {
          "model_module": "@jupyter-widgets/controls",
          "model_name": "HBoxModel",
          "state": {
            "_view_name": "HBoxView",
            "_dom_classes": [],
            "_model_name": "HBoxModel",
            "_view_module": "@jupyter-widgets/controls",
            "_model_module_version": "1.5.0",
            "_view_count": null,
            "_view_module_version": "1.5.0",
            "box_style": "",
            "layout": "IPY_MODEL_2e5a1e092495403f8d967188358b83d4",
            "_model_module": "@jupyter-widgets/controls",
            "children": [
              "IPY_MODEL_9350d5ebd96e4e2bb4d9e5c8d9709756",
              "IPY_MODEL_3e477069e5094aa183522681bbf3f825"
            ]
          }
        },
        "2e5a1e092495403f8d967188358b83d4": {
          "model_module": "@jupyter-widgets/base",
          "model_name": "LayoutModel",
          "state": {
            "_view_name": "LayoutView",
            "grid_template_rows": null,
            "right": null,
            "justify_content": null,
            "_view_module": "@jupyter-widgets/base",
            "overflow": null,
            "_model_module_version": "1.2.0",
            "_view_count": null,
            "flex_flow": null,
            "width": null,
            "min_width": null,
            "border": null,
            "align_items": null,
            "bottom": null,
            "_model_module": "@jupyter-widgets/base",
            "top": null,
            "grid_column": null,
            "overflow_y": null,
            "overflow_x": null,
            "grid_auto_flow": null,
            "grid_area": null,
            "grid_template_columns": null,
            "flex": null,
            "_model_name": "LayoutModel",
            "justify_items": null,
            "grid_row": null,
            "max_height": null,
            "align_content": null,
            "visibility": null,
            "align_self": null,
            "height": null,
            "min_height": null,
            "padding": null,
            "grid_auto_rows": null,
            "grid_gap": null,
            "max_width": null,
            "order": null,
            "_view_module_version": "1.2.0",
            "grid_template_areas": null,
            "object_position": null,
            "object_fit": null,
            "grid_auto_columns": null,
            "margin": null,
            "display": null,
            "left": null
          }
        },
        "9350d5ebd96e4e2bb4d9e5c8d9709756": {
          "model_module": "@jupyter-widgets/controls",
          "model_name": "FloatProgressModel",
          "state": {
            "_view_name": "ProgressView",
            "style": "IPY_MODEL_079cc0a584e04ed58af6061d12a844c0",
            "_dom_classes": [],
            "description": "Downloading: 100%",
            "_model_name": "FloatProgressModel",
            "bar_style": "success",
            "max": 16,
            "_view_module": "@jupyter-widgets/controls",
            "_model_module_version": "1.5.0",
            "value": 16,
            "_view_count": null,
            "_view_module_version": "1.5.0",
            "orientation": "horizontal",
            "min": 0,
            "description_tooltip": null,
            "_model_module": "@jupyter-widgets/controls",
            "layout": "IPY_MODEL_afa23591d0274bf7ad73bc238902c322"
          }
        },
        "3e477069e5094aa183522681bbf3f825": {
          "model_module": "@jupyter-widgets/controls",
          "model_name": "HTMLModel",
          "state": {
            "_view_name": "HTMLView",
            "style": "IPY_MODEL_494dad2469f1455e89fc38de8b5b24f9",
            "_dom_classes": [],
            "description": "",
            "_model_name": "HTMLModel",
            "placeholder": "​",
            "_view_module": "@jupyter-widgets/controls",
            "_model_module_version": "1.5.0",
            "value": " 16.0/16.0 [00:00&lt;00:00, 83.2B/s]",
            "_view_count": null,
            "_view_module_version": "1.5.0",
            "description_tooltip": null,
            "_model_module": "@jupyter-widgets/controls",
            "layout": "IPY_MODEL_97f184700ebf452ab3228ecb90c9e236"
          }
        },
        "079cc0a584e04ed58af6061d12a844c0": {
          "model_module": "@jupyter-widgets/controls",
          "model_name": "ProgressStyleModel",
          "state": {
            "_view_name": "StyleView",
            "_model_name": "ProgressStyleModel",
            "description_width": "initial",
            "_view_module": "@jupyter-widgets/base",
            "_model_module_version": "1.5.0",
            "_view_count": null,
            "_view_module_version": "1.2.0",
            "bar_color": null,
            "_model_module": "@jupyter-widgets/controls"
          }
        },
        "afa23591d0274bf7ad73bc238902c322": {
          "model_module": "@jupyter-widgets/base",
          "model_name": "LayoutModel",
          "state": {
            "_view_name": "LayoutView",
            "grid_template_rows": null,
            "right": null,
            "justify_content": null,
            "_view_module": "@jupyter-widgets/base",
            "overflow": null,
            "_model_module_version": "1.2.0",
            "_view_count": null,
            "flex_flow": null,
            "width": null,
            "min_width": null,
            "border": null,
            "align_items": null,
            "bottom": null,
            "_model_module": "@jupyter-widgets/base",
            "top": null,
            "grid_column": null,
            "overflow_y": null,
            "overflow_x": null,
            "grid_auto_flow": null,
            "grid_area": null,
            "grid_template_columns": null,
            "flex": null,
            "_model_name": "LayoutModel",
            "justify_items": null,
            "grid_row": null,
            "max_height": null,
            "align_content": null,
            "visibility": null,
            "align_self": null,
            "height": null,
            "min_height": null,
            "padding": null,
            "grid_auto_rows": null,
            "grid_gap": null,
            "max_width": null,
            "order": null,
            "_view_module_version": "1.2.0",
            "grid_template_areas": null,
            "object_position": null,
            "object_fit": null,
            "grid_auto_columns": null,
            "margin": null,
            "display": null,
            "left": null
          }
        },
        "494dad2469f1455e89fc38de8b5b24f9": {
          "model_module": "@jupyter-widgets/controls",
          "model_name": "DescriptionStyleModel",
          "state": {
            "_view_name": "StyleView",
            "_model_name": "DescriptionStyleModel",
            "description_width": "",
            "_view_module": "@jupyter-widgets/base",
            "_model_module_version": "1.5.0",
            "_view_count": null,
            "_view_module_version": "1.2.0",
            "_model_module": "@jupyter-widgets/controls"
          }
        },
        "97f184700ebf452ab3228ecb90c9e236": {
          "model_module": "@jupyter-widgets/base",
          "model_name": "LayoutModel",
          "state": {
            "_view_name": "LayoutView",
            "grid_template_rows": null,
            "right": null,
            "justify_content": null,
            "_view_module": "@jupyter-widgets/base",
            "overflow": null,
            "_model_module_version": "1.2.0",
            "_view_count": null,
            "flex_flow": null,
            "width": null,
            "min_width": null,
            "border": null,
            "align_items": null,
            "bottom": null,
            "_model_module": "@jupyter-widgets/base",
            "top": null,
            "grid_column": null,
            "overflow_y": null,
            "overflow_x": null,
            "grid_auto_flow": null,
            "grid_area": null,
            "grid_template_columns": null,
            "flex": null,
            "_model_name": "LayoutModel",
            "justify_items": null,
            "grid_row": null,
            "max_height": null,
            "align_content": null,
            "visibility": null,
            "align_self": null,
            "height": null,
            "min_height": null,
            "padding": null,
            "grid_auto_rows": null,
            "grid_gap": null,
            "max_width": null,
            "order": null,
            "_view_module_version": "1.2.0",
            "grid_template_areas": null,
            "object_position": null,
            "object_fit": null,
            "grid_auto_columns": null,
            "margin": null,
            "display": null,
            "left": null
          }
        },
        "8d1f54a9ac0348ae95cece2198c13ad8": {
          "model_module": "@jupyter-widgets/controls",
          "model_name": "HBoxModel",
          "state": {
            "_view_name": "HBoxView",
            "_dom_classes": [],
            "_model_name": "HBoxModel",
            "_view_module": "@jupyter-widgets/controls",
            "_model_module_version": "1.5.0",
            "_view_count": null,
            "_view_module_version": "1.5.0",
            "box_style": "",
            "layout": "IPY_MODEL_c4298bafd2334ce9937b48532c45b636",
            "_model_module": "@jupyter-widgets/controls",
            "children": [
              "IPY_MODEL_c9e8606c0d1747d28709f4cd379911d5",
              "IPY_MODEL_d690919be6774395982fda2b30279aab"
            ]
          }
        },
        "c4298bafd2334ce9937b48532c45b636": {
          "model_module": "@jupyter-widgets/base",
          "model_name": "LayoutModel",
          "state": {
            "_view_name": "LayoutView",
            "grid_template_rows": null,
            "right": null,
            "justify_content": null,
            "_view_module": "@jupyter-widgets/base",
            "overflow": null,
            "_model_module_version": "1.2.0",
            "_view_count": null,
            "flex_flow": null,
            "width": null,
            "min_width": null,
            "border": null,
            "align_items": null,
            "bottom": null,
            "_model_module": "@jupyter-widgets/base",
            "top": null,
            "grid_column": null,
            "overflow_y": null,
            "overflow_x": null,
            "grid_auto_flow": null,
            "grid_area": null,
            "grid_template_columns": null,
            "flex": null,
            "_model_name": "LayoutModel",
            "justify_items": null,
            "grid_row": null,
            "max_height": null,
            "align_content": null,
            "visibility": null,
            "align_self": null,
            "height": null,
            "min_height": null,
            "padding": null,
            "grid_auto_rows": null,
            "grid_gap": null,
            "max_width": null,
            "order": null,
            "_view_module_version": "1.2.0",
            "grid_template_areas": null,
            "object_position": null,
            "object_fit": null,
            "grid_auto_columns": null,
            "margin": null,
            "display": null,
            "left": null
          }
        },
        "c9e8606c0d1747d28709f4cd379911d5": {
          "model_module": "@jupyter-widgets/controls",
          "model_name": "FloatProgressModel",
          "state": {
            "_view_name": "ProgressView",
            "style": "IPY_MODEL_e4b77d7aec6e42f18e672eb3b78357e2",
            "_dom_classes": [],
            "description": "Downloading: 100%",
            "_model_name": "FloatProgressModel",
            "bar_style": "success",
            "max": 772,
            "_view_module": "@jupyter-widgets/controls",
            "_model_module_version": "1.5.0",
            "value": 772,
            "_view_count": null,
            "_view_module_version": "1.5.0",
            "orientation": "horizontal",
            "min": 0,
            "description_tooltip": null,
            "_model_module": "@jupyter-widgets/controls",
            "layout": "IPY_MODEL_cd47b89a14cc424591b35852280fb125"
          }
        },
        "d690919be6774395982fda2b30279aab": {
          "model_module": "@jupyter-widgets/controls",
          "model_name": "HTMLModel",
          "state": {
            "_view_name": "HTMLView",
            "style": "IPY_MODEL_6139ce9a7e564ff5bf432db8d662327d",
            "_dom_classes": [],
            "description": "",
            "_model_name": "HTMLModel",
            "placeholder": "​",
            "_view_module": "@jupyter-widgets/controls",
            "_model_module_version": "1.5.0",
            "value": " 772/772 [00:00&lt;00:00, 8.33kB/s]",
            "_view_count": null,
            "_view_module_version": "1.5.0",
            "description_tooltip": null,
            "_model_module": "@jupyter-widgets/controls",
            "layout": "IPY_MODEL_da698182e51f4bf3aa4419cf5afe2f1e"
          }
        },
        "e4b77d7aec6e42f18e672eb3b78357e2": {
          "model_module": "@jupyter-widgets/controls",
          "model_name": "ProgressStyleModel",
          "state": {
            "_view_name": "StyleView",
            "_model_name": "ProgressStyleModel",
            "description_width": "initial",
            "_view_module": "@jupyter-widgets/base",
            "_model_module_version": "1.5.0",
            "_view_count": null,
            "_view_module_version": "1.2.0",
            "bar_color": null,
            "_model_module": "@jupyter-widgets/controls"
          }
        },
        "cd47b89a14cc424591b35852280fb125": {
          "model_module": "@jupyter-widgets/base",
          "model_name": "LayoutModel",
          "state": {
            "_view_name": "LayoutView",
            "grid_template_rows": null,
            "right": null,
            "justify_content": null,
            "_view_module": "@jupyter-widgets/base",
            "overflow": null,
            "_model_module_version": "1.2.0",
            "_view_count": null,
            "flex_flow": null,
            "width": null,
            "min_width": null,
            "border": null,
            "align_items": null,
            "bottom": null,
            "_model_module": "@jupyter-widgets/base",
            "top": null,
            "grid_column": null,
            "overflow_y": null,
            "overflow_x": null,
            "grid_auto_flow": null,
            "grid_area": null,
            "grid_template_columns": null,
            "flex": null,
            "_model_name": "LayoutModel",
            "justify_items": null,
            "grid_row": null,
            "max_height": null,
            "align_content": null,
            "visibility": null,
            "align_self": null,
            "height": null,
            "min_height": null,
            "padding": null,
            "grid_auto_rows": null,
            "grid_gap": null,
            "max_width": null,
            "order": null,
            "_view_module_version": "1.2.0",
            "grid_template_areas": null,
            "object_position": null,
            "object_fit": null,
            "grid_auto_columns": null,
            "margin": null,
            "display": null,
            "left": null
          }
        },
        "6139ce9a7e564ff5bf432db8d662327d": {
          "model_module": "@jupyter-widgets/controls",
          "model_name": "DescriptionStyleModel",
          "state": {
            "_view_name": "StyleView",
            "_model_name": "DescriptionStyleModel",
            "description_width": "",
            "_view_module": "@jupyter-widgets/base",
            "_model_module_version": "1.5.0",
            "_view_count": null,
            "_view_module_version": "1.2.0",
            "_model_module": "@jupyter-widgets/controls"
          }
        },
        "da698182e51f4bf3aa4419cf5afe2f1e": {
          "model_module": "@jupyter-widgets/base",
          "model_name": "LayoutModel",
          "state": {
            "_view_name": "LayoutView",
            "grid_template_rows": null,
            "right": null,
            "justify_content": null,
            "_view_module": "@jupyter-widgets/base",
            "overflow": null,
            "_model_module_version": "1.2.0",
            "_view_count": null,
            "flex_flow": null,
            "width": null,
            "min_width": null,
            "border": null,
            "align_items": null,
            "bottom": null,
            "_model_module": "@jupyter-widgets/base",
            "top": null,
            "grid_column": null,
            "overflow_y": null,
            "overflow_x": null,
            "grid_auto_flow": null,
            "grid_area": null,
            "grid_template_columns": null,
            "flex": null,
            "_model_name": "LayoutModel",
            "justify_items": null,
            "grid_row": null,
            "max_height": null,
            "align_content": null,
            "visibility": null,
            "align_self": null,
            "height": null,
            "min_height": null,
            "padding": null,
            "grid_auto_rows": null,
            "grid_gap": null,
            "max_width": null,
            "order": null,
            "_view_module_version": "1.2.0",
            "grid_template_areas": null,
            "object_position": null,
            "object_fit": null,
            "grid_auto_columns": null,
            "margin": null,
            "display": null,
            "left": null
          }
        },
        "90c5f0ca42154029b0a053001b32152f": {
          "model_module": "@jupyter-widgets/controls",
          "model_name": "HBoxModel",
          "state": {
            "_view_name": "HBoxView",
            "_dom_classes": [],
            "_model_name": "HBoxModel",
            "_view_module": "@jupyter-widgets/controls",
            "_model_module_version": "1.5.0",
            "_view_count": null,
            "_view_module_version": "1.5.0",
            "box_style": "",
            "layout": "IPY_MODEL_d090908072964132b3a79a9e677f5454",
            "_model_module": "@jupyter-widgets/controls",
            "children": [
              "IPY_MODEL_bb91016ada734b45be6e766d33d17d55",
              "IPY_MODEL_0c63590125da4cc5b289626eca737a5c"
            ]
          }
        },
        "d090908072964132b3a79a9e677f5454": {
          "model_module": "@jupyter-widgets/base",
          "model_name": "LayoutModel",
          "state": {
            "_view_name": "LayoutView",
            "grid_template_rows": null,
            "right": null,
            "justify_content": null,
            "_view_module": "@jupyter-widgets/base",
            "overflow": null,
            "_model_module_version": "1.2.0",
            "_view_count": null,
            "flex_flow": null,
            "width": null,
            "min_width": null,
            "border": null,
            "align_items": null,
            "bottom": null,
            "_model_module": "@jupyter-widgets/base",
            "top": null,
            "grid_column": null,
            "overflow_y": null,
            "overflow_x": null,
            "grid_auto_flow": null,
            "grid_area": null,
            "grid_template_columns": null,
            "flex": null,
            "_model_name": "LayoutModel",
            "justify_items": null,
            "grid_row": null,
            "max_height": null,
            "align_content": null,
            "visibility": null,
            "align_self": null,
            "height": null,
            "min_height": null,
            "padding": null,
            "grid_auto_rows": null,
            "grid_gap": null,
            "max_width": null,
            "order": null,
            "_view_module_version": "1.2.0",
            "grid_template_areas": null,
            "object_position": null,
            "object_fit": null,
            "grid_auto_columns": null,
            "margin": null,
            "display": null,
            "left": null
          }
        },
        "bb91016ada734b45be6e766d33d17d55": {
          "model_module": "@jupyter-widgets/controls",
          "model_name": "FloatProgressModel",
          "state": {
            "_view_name": "ProgressView",
            "style": "IPY_MODEL_22ac8bd2d486485783c9647e6dd08ca7",
            "_dom_classes": [],
            "description": "Downloading: 100%",
            "_model_name": "FloatProgressModel",
            "bar_style": "success",
            "max": 729755983,
            "_view_module": "@jupyter-widgets/controls",
            "_model_module_version": "1.5.0",
            "value": 729755983,
            "_view_count": null,
            "_view_module_version": "1.5.0",
            "orientation": "horizontal",
            "min": 0,
            "description_tooltip": null,
            "_model_module": "@jupyter-widgets/controls",
            "layout": "IPY_MODEL_4409b183bae84223bf6ba727965c2aad"
          }
        },
        "0c63590125da4cc5b289626eca737a5c": {
          "model_module": "@jupyter-widgets/controls",
          "model_name": "HTMLModel",
          "state": {
            "_view_name": "HTMLView",
            "style": "IPY_MODEL_eb799dd675ca408c92814871a00a733d",
            "_dom_classes": [],
            "description": "",
            "_model_name": "HTMLModel",
            "placeholder": "​",
            "_view_module": "@jupyter-widgets/controls",
            "_model_module_version": "1.5.0",
            "value": " 730M/730M [00:21&lt;00:00, 34.3MB/s]",
            "_view_count": null,
            "_view_module_version": "1.5.0",
            "description_tooltip": null,
            "_model_module": "@jupyter-widgets/controls",
            "layout": "IPY_MODEL_cb33a844e4a847849081f3965463c723"
          }
        },
        "22ac8bd2d486485783c9647e6dd08ca7": {
          "model_module": "@jupyter-widgets/controls",
          "model_name": "ProgressStyleModel",
          "state": {
            "_view_name": "StyleView",
            "_model_name": "ProgressStyleModel",
            "description_width": "initial",
            "_view_module": "@jupyter-widgets/base",
            "_model_module_version": "1.5.0",
            "_view_count": null,
            "_view_module_version": "1.2.0",
            "bar_color": null,
            "_model_module": "@jupyter-widgets/controls"
          }
        },
        "4409b183bae84223bf6ba727965c2aad": {
          "model_module": "@jupyter-widgets/base",
          "model_name": "LayoutModel",
          "state": {
            "_view_name": "LayoutView",
            "grid_template_rows": null,
            "right": null,
            "justify_content": null,
            "_view_module": "@jupyter-widgets/base",
            "overflow": null,
            "_model_module_version": "1.2.0",
            "_view_count": null,
            "flex_flow": null,
            "width": null,
            "min_width": null,
            "border": null,
            "align_items": null,
            "bottom": null,
            "_model_module": "@jupyter-widgets/base",
            "top": null,
            "grid_column": null,
            "overflow_y": null,
            "overflow_x": null,
            "grid_auto_flow": null,
            "grid_area": null,
            "grid_template_columns": null,
            "flex": null,
            "_model_name": "LayoutModel",
            "justify_items": null,
            "grid_row": null,
            "max_height": null,
            "align_content": null,
            "visibility": null,
            "align_self": null,
            "height": null,
            "min_height": null,
            "padding": null,
            "grid_auto_rows": null,
            "grid_gap": null,
            "max_width": null,
            "order": null,
            "_view_module_version": "1.2.0",
            "grid_template_areas": null,
            "object_position": null,
            "object_fit": null,
            "grid_auto_columns": null,
            "margin": null,
            "display": null,
            "left": null
          }
        },
        "eb799dd675ca408c92814871a00a733d": {
          "model_module": "@jupyter-widgets/controls",
          "model_name": "DescriptionStyleModel",
          "state": {
            "_view_name": "StyleView",
            "_model_name": "DescriptionStyleModel",
            "description_width": "",
            "_view_module": "@jupyter-widgets/base",
            "_model_module_version": "1.5.0",
            "_view_count": null,
            "_view_module_version": "1.2.0",
            "_model_module": "@jupyter-widgets/controls"
          }
        },
        "cb33a844e4a847849081f3965463c723": {
          "model_module": "@jupyter-widgets/base",
          "model_name": "LayoutModel",
          "state": {
            "_view_name": "LayoutView",
            "grid_template_rows": null,
            "right": null,
            "justify_content": null,
            "_view_module": "@jupyter-widgets/base",
            "overflow": null,
            "_model_module_version": "1.2.0",
            "_view_count": null,
            "flex_flow": null,
            "width": null,
            "min_width": null,
            "border": null,
            "align_items": null,
            "bottom": null,
            "_model_module": "@jupyter-widgets/base",
            "top": null,
            "grid_column": null,
            "overflow_y": null,
            "overflow_x": null,
            "grid_auto_flow": null,
            "grid_area": null,
            "grid_template_columns": null,
            "flex": null,
            "_model_name": "LayoutModel",
            "justify_items": null,
            "grid_row": null,
            "max_height": null,
            "align_content": null,
            "visibility": null,
            "align_self": null,
            "height": null,
            "min_height": null,
            "padding": null,
            "grid_auto_rows": null,
            "grid_gap": null,
            "max_width": null,
            "order": null,
            "_view_module_version": "1.2.0",
            "grid_template_areas": null,
            "object_position": null,
            "object_fit": null,
            "grid_auto_columns": null,
            "margin": null,
            "display": null,
            "left": null
          }
        }
      }
    }
  },
  "cells": [
    {
      "cell_type": "markdown",
      "metadata": {
        "id": "gh1_2fUMEUb3"
      },
      "source": [
        "# Chatbot de voz con Deep Learning"
      ]
    },
    {
      "cell_type": "code",
      "metadata": {
        "id": "05bOlUVnhgA3",
        "outputId": "36168a74-0111-4dd7-bdc5-78e43b90bc6d",
        "colab": {
          "base_uri": "https://localhost:8080/"
        }
      },
      "source": [
        "!git clone https://github.com/AcecomFCUNI/Chatbot-Acecom.git\n",
        "%cd Chatbot-Acecom/src"
      ],
      "execution_count": 1,
      "outputs": [
        {
          "output_type": "stream",
          "text": [
            "Cloning into 'Chatbot-Acecom'...\n",
            "remote: Enumerating objects: 22, done.\u001b[K\n",
            "remote: Counting objects: 100% (22/22), done.\u001b[K\n",
            "remote: Compressing objects: 100% (16/16), done.\u001b[K\n",
            "remote: Total 22 (delta 2), reused 22 (delta 2), pack-reused 0\u001b[K\n",
            "Unpacking objects: 100% (22/22), done.\n",
            "/content/Chatbot-Acecom/src\n"
          ],
          "name": "stdout"
        }
      ]
    },
    {
      "cell_type": "markdown",
      "metadata": {
        "id": "9Er3GnSsEkqC"
      },
      "source": [
        "## 1 - El problema a resolver"
      ]
    },
    {
      "cell_type": "markdown",
      "metadata": {
        "id": "KngiimHLHbtd"
      },
      "source": [
        "La idea es crear un chatbot que interprete voz humana y genere la conversación en formato texto, usando las <ins>mejores arquitecturas de Deep Learning disponibles</ins>:\n",
        "\n",
        "![](https://github.com/AcecomFCUNI/Chatbot-Acecom/blob/master/assets/idea_general_chatbot.png?raw=1)"
      ]
    },
    {
      "cell_type": "markdown",
      "metadata": {
        "id": "ky62iiZREo9d"
      },
      "source": [
        "## 2 - Elementos del chatbot"
      ]
    },
    {
      "cell_type": "markdown",
      "metadata": {
        "id": "Ouj3-YN9JEeb"
      },
      "source": [
        "Usaremos *wav2vec2* para la conversión voz a texto, y *BlenderBot* para generar la conversación:\n",
        "\n",
        "![](https://github.com/AcecomFCUNI/Chatbot-Acecom/blob/master/assets/chatbot_detallado.png?raw=1)\n",
        "\n",
        "Tanto *wav2vec2* como *BlenderBot* se basan en las [Redes Transformer](https://youtu.be/Wp8NocXW_C4):\n",
        "\n",
        "![](https://github.com/AcecomFCUNI/Chatbot-Acecom/blob/master/assets/red-transformer.png?raw=1)"
      ]
    },
    {
      "cell_type": "markdown",
      "metadata": {
        "id": "H16BXDnaEucg"
      },
      "source": [
        "## 3 - Conversión voz a texto con *wav2vec2*\n",
        "\n",
        "[*wav2vec2*](https://arxiv.org/pdf/2006.11477.pdf) fue desarrollado por Facebook en 2020:\n",
        "\n",
        "![](https://github.com/AcecomFCUNI/Chatbot-Acecom/blob/master/assets/wav2vec2.png?raw=1)\n",
        "\n"
      ]
    },
    {
      "cell_type": "code",
      "metadata": {
        "id": "dl6-elyR7HsO",
        "colab": {
          "base_uri": "https://localhost:8080/"
        },
        "outputId": "5fa7010a-a164-4e6a-b380-9b436dd9c210"
      },
      "source": [
        "!pip install transformers #wav2vec2 y blenderbot\n",
        "!pip install git+git://github.com/ricardodeazambuja/colab_utils.git #mic\n",
        "!pip install librosa # pre-procesamiento audio"
      ],
      "execution_count": 2,
      "outputs": [
        {
          "output_type": "stream",
          "text": [
            "Collecting transformers\n",
            "\u001b[?25l  Downloading https://files.pythonhosted.org/packages/fd/1a/41c644c963249fd7f3836d926afa1e3f1cc234a1c40d80c5f03ad8f6f1b2/transformers-4.8.2-py3-none-any.whl (2.5MB)\n",
            "\r\u001b[K     |▏                               | 10kB 22.3MB/s eta 0:00:01\r\u001b[K     |▎                               | 20kB 29.7MB/s eta 0:00:01\r\u001b[K     |▍                               | 30kB 35.2MB/s eta 0:00:01\r\u001b[K     |▌                               | 40kB 34.9MB/s eta 0:00:01\r\u001b[K     |▋                               | 51kB 35.2MB/s eta 0:00:01\r\u001b[K     |▉                               | 61kB 36.8MB/s eta 0:00:01\r\u001b[K     |█                               | 71kB 32.8MB/s eta 0:00:01\r\u001b[K     |█                               | 81kB 33.6MB/s eta 0:00:01\r\u001b[K     |█▏                              | 92kB 30.5MB/s eta 0:00:01\r\u001b[K     |█▎                              | 102kB 31.9MB/s eta 0:00:01\r\u001b[K     |█▍                              | 112kB 31.9MB/s eta 0:00:01\r\u001b[K     |█▋                              | 122kB 31.9MB/s eta 0:00:01\r\u001b[K     |█▊                              | 133kB 31.9MB/s eta 0:00:01\r\u001b[K     |█▉                              | 143kB 31.9MB/s eta 0:00:01\r\u001b[K     |██                              | 153kB 31.9MB/s eta 0:00:01\r\u001b[K     |██                              | 163kB 31.9MB/s eta 0:00:01\r\u001b[K     |██▎                             | 174kB 31.9MB/s eta 0:00:01\r\u001b[K     |██▍                             | 184kB 31.9MB/s eta 0:00:01\r\u001b[K     |██▌                             | 194kB 31.9MB/s eta 0:00:01\r\u001b[K     |██▋                             | 204kB 31.9MB/s eta 0:00:01\r\u001b[K     |██▊                             | 215kB 31.9MB/s eta 0:00:01\r\u001b[K     |██▉                             | 225kB 31.9MB/s eta 0:00:01\r\u001b[K     |███                             | 235kB 31.9MB/s eta 0:00:01\r\u001b[K     |███▏                            | 245kB 31.9MB/s eta 0:00:01\r\u001b[K     |███▎                            | 256kB 31.9MB/s eta 0:00:01\r\u001b[K     |███▍                            | 266kB 31.9MB/s eta 0:00:01\r\u001b[K     |███▌                            | 276kB 31.9MB/s eta 0:00:01\r\u001b[K     |███▊                            | 286kB 31.9MB/s eta 0:00:01\r\u001b[K     |███▉                            | 296kB 31.9MB/s eta 0:00:01\r\u001b[K     |████                            | 307kB 31.9MB/s eta 0:00:01\r\u001b[K     |████                            | 317kB 31.9MB/s eta 0:00:01\r\u001b[K     |████▏                           | 327kB 31.9MB/s eta 0:00:01\r\u001b[K     |████▎                           | 337kB 31.9MB/s eta 0:00:01\r\u001b[K     |████▌                           | 348kB 31.9MB/s eta 0:00:01\r\u001b[K     |████▋                           | 358kB 31.9MB/s eta 0:00:01\r\u001b[K     |████▊                           | 368kB 31.9MB/s eta 0:00:01\r\u001b[K     |████▉                           | 378kB 31.9MB/s eta 0:00:01\r\u001b[K     |█████                           | 389kB 31.9MB/s eta 0:00:01\r\u001b[K     |█████▏                          | 399kB 31.9MB/s eta 0:00:01\r\u001b[K     |█████▎                          | 409kB 31.9MB/s eta 0:00:01\r\u001b[K     |█████▍                          | 419kB 31.9MB/s eta 0:00:01\r\u001b[K     |█████▌                          | 430kB 31.9MB/s eta 0:00:01\r\u001b[K     |█████▋                          | 440kB 31.9MB/s eta 0:00:01\r\u001b[K     |█████▊                          | 450kB 31.9MB/s eta 0:00:01\r\u001b[K     |██████                          | 460kB 31.9MB/s eta 0:00:01\r\u001b[K     |██████                          | 471kB 31.9MB/s eta 0:00:01\r\u001b[K     |██████▏                         | 481kB 31.9MB/s eta 0:00:01\r\u001b[K     |██████▎                         | 491kB 31.9MB/s eta 0:00:01\r\u001b[K     |██████▍                         | 501kB 31.9MB/s eta 0:00:01\r\u001b[K     |██████▌                         | 512kB 31.9MB/s eta 0:00:01\r\u001b[K     |██████▊                         | 522kB 31.9MB/s eta 0:00:01\r\u001b[K     |██████▉                         | 532kB 31.9MB/s eta 0:00:01\r\u001b[K     |███████                         | 542kB 31.9MB/s eta 0:00:01\r\u001b[K     |███████                         | 552kB 31.9MB/s eta 0:00:01\r\u001b[K     |███████▏                        | 563kB 31.9MB/s eta 0:00:01\r\u001b[K     |███████▍                        | 573kB 31.9MB/s eta 0:00:01\r\u001b[K     |███████▌                        | 583kB 31.9MB/s eta 0:00:01\r\u001b[K     |███████▋                        | 593kB 31.9MB/s eta 0:00:01\r\u001b[K     |███████▊                        | 604kB 31.9MB/s eta 0:00:01\r\u001b[K     |███████▉                        | 614kB 31.9MB/s eta 0:00:01\r\u001b[K     |████████                        | 624kB 31.9MB/s eta 0:00:01\r\u001b[K     |████████▏                       | 634kB 31.9MB/s eta 0:00:01\r\u001b[K     |████████▎                       | 645kB 31.9MB/s eta 0:00:01\r\u001b[K     |████████▍                       | 655kB 31.9MB/s eta 0:00:01\r\u001b[K     |████████▌                       | 665kB 31.9MB/s eta 0:00:01\r\u001b[K     |████████▋                       | 675kB 31.9MB/s eta 0:00:01\r\u001b[K     |████████▉                       | 686kB 31.9MB/s eta 0:00:01\r\u001b[K     |█████████                       | 696kB 31.9MB/s eta 0:00:01\r\u001b[K     |█████████                       | 706kB 31.9MB/s eta 0:00:01\r\u001b[K     |█████████▏                      | 716kB 31.9MB/s eta 0:00:01\r\u001b[K     |█████████▎                      | 727kB 31.9MB/s eta 0:00:01\r\u001b[K     |█████████▍                      | 737kB 31.9MB/s eta 0:00:01\r\u001b[K     |█████████▋                      | 747kB 31.9MB/s eta 0:00:01\r\u001b[K     |█████████▊                      | 757kB 31.9MB/s eta 0:00:01\r\u001b[K     |█████████▉                      | 768kB 31.9MB/s eta 0:00:01\r\u001b[K     |██████████                      | 778kB 31.9MB/s eta 0:00:01\r\u001b[K     |██████████                      | 788kB 31.9MB/s eta 0:00:01\r\u001b[K     |██████████▎                     | 798kB 31.9MB/s eta 0:00:01\r\u001b[K     |██████████▍                     | 808kB 31.9MB/s eta 0:00:01\r\u001b[K     |██████████▌                     | 819kB 31.9MB/s eta 0:00:01\r\u001b[K     |██████████▋                     | 829kB 31.9MB/s eta 0:00:01\r\u001b[K     |██████████▊                     | 839kB 31.9MB/s eta 0:00:01\r\u001b[K     |██████████▉                     | 849kB 31.9MB/s eta 0:00:01\r\u001b[K     |███████████                     | 860kB 31.9MB/s eta 0:00:01\r\u001b[K     |███████████▏                    | 870kB 31.9MB/s eta 0:00:01\r\u001b[K     |███████████▎                    | 880kB 31.9MB/s eta 0:00:01\r\u001b[K     |███████████▍                    | 890kB 31.9MB/s eta 0:00:01\r\u001b[K     |███████████▌                    | 901kB 31.9MB/s eta 0:00:01\r\u001b[K     |███████████▊                    | 911kB 31.9MB/s eta 0:00:01\r\u001b[K     |███████████▉                    | 921kB 31.9MB/s eta 0:00:01\r\u001b[K     |████████████                    | 931kB 31.9MB/s eta 0:00:01\r\u001b[K     |████████████                    | 942kB 31.9MB/s eta 0:00:01\r\u001b[K     |████████████▏                   | 952kB 31.9MB/s eta 0:00:01\r\u001b[K     |████████████▎                   | 962kB 31.9MB/s eta 0:00:01\r\u001b[K     |████████████▌                   | 972kB 31.9MB/s eta 0:00:01\r\u001b[K     |████████████▋                   | 983kB 31.9MB/s eta 0:00:01\r\u001b[K     |████████████▊                   | 993kB 31.9MB/s eta 0:00:01\r\u001b[K     |████████████▉                   | 1.0MB 31.9MB/s eta 0:00:01\r\u001b[K     |█████████████                   | 1.0MB 31.9MB/s eta 0:00:01\r\u001b[K     |█████████████                   | 1.0MB 31.9MB/s eta 0:00:01\r\u001b[K     |█████████████▎                  | 1.0MB 31.9MB/s eta 0:00:01\r\u001b[K     |█████████████▍                  | 1.0MB 31.9MB/s eta 0:00:01\r\u001b[K     |█████████████▌                  | 1.1MB 31.9MB/s eta 0:00:01\r\u001b[K     |█████████████▋                  | 1.1MB 31.9MB/s eta 0:00:01\r\u001b[K     |█████████████▊                  | 1.1MB 31.9MB/s eta 0:00:01\r\u001b[K     |██████████████                  | 1.1MB 31.9MB/s eta 0:00:01\r\u001b[K     |██████████████                  | 1.1MB 31.9MB/s eta 0:00:01\r\u001b[K     |██████████████▏                 | 1.1MB 31.9MB/s eta 0:00:01\r\u001b[K     |██████████████▎                 | 1.1MB 31.9MB/s eta 0:00:01\r\u001b[K     |██████████████▍                 | 1.1MB 31.9MB/s eta 0:00:01\r\u001b[K     |██████████████▌                 | 1.1MB 31.9MB/s eta 0:00:01\r\u001b[K     |██████████████▊                 | 1.1MB 31.9MB/s eta 0:00:01\r\u001b[K     |██████████████▉                 | 1.2MB 31.9MB/s eta 0:00:01\r\u001b[K     |███████████████                 | 1.2MB 31.9MB/s eta 0:00:01\r\u001b[K     |███████████████                 | 1.2MB 31.9MB/s eta 0:00:01\r\u001b[K     |███████████████▏                | 1.2MB 31.9MB/s eta 0:00:01\r\u001b[K     |███████████████▍                | 1.2MB 31.9MB/s eta 0:00:01\r\u001b[K     |███████████████▌                | 1.2MB 31.9MB/s eta 0:00:01\r\u001b[K     |███████████████▋                | 1.2MB 31.9MB/s eta 0:00:01\r\u001b[K     |███████████████▊                | 1.2MB 31.9MB/s eta 0:00:01\r\u001b[K     |███████████████▉                | 1.2MB 31.9MB/s eta 0:00:01\r\u001b[K     |████████████████                | 1.2MB 31.9MB/s eta 0:00:01\r\u001b[K     |████████████████▏               | 1.3MB 31.9MB/s eta 0:00:01\r\u001b[K     |████████████████▎               | 1.3MB 31.9MB/s eta 0:00:01\r\u001b[K     |████████████████▍               | 1.3MB 31.9MB/s eta 0:00:01\r\u001b[K     |████████████████▌               | 1.3MB 31.9MB/s eta 0:00:01\r\u001b[K     |████████████████▋               | 1.3MB 31.9MB/s eta 0:00:01\r\u001b[K     |████████████████▉               | 1.3MB 31.9MB/s eta 0:00:01\r\u001b[K     |█████████████████               | 1.3MB 31.9MB/s eta 0:00:01\r\u001b[K     |█████████████████               | 1.3MB 31.9MB/s eta 0:00:01\r\u001b[K     |█████████████████▏              | 1.3MB 31.9MB/s eta 0:00:01\r\u001b[K     |█████████████████▎              | 1.4MB 31.9MB/s eta 0:00:01\r\u001b[K     |█████████████████▍              | 1.4MB 31.9MB/s eta 0:00:01\r\u001b[K     |█████████████████▋              | 1.4MB 31.9MB/s eta 0:00:01\r\u001b[K     |█████████████████▊              | 1.4MB 31.9MB/s eta 0:00:01\r\u001b[K     |█████████████████▉              | 1.4MB 31.9MB/s eta 0:00:01\r\u001b[K     |██████████████████              | 1.4MB 31.9MB/s eta 0:00:01\r\u001b[K     |██████████████████              | 1.4MB 31.9MB/s eta 0:00:01\r\u001b[K     |██████████████████▎             | 1.4MB 31.9MB/s eta 0:00:01\r\u001b[K     |██████████████████▍             | 1.4MB 31.9MB/s eta 0:00:01\r\u001b[K     |██████████████████▌             | 1.4MB 31.9MB/s eta 0:00:01\r\u001b[K     |██████████████████▋             | 1.5MB 31.9MB/s eta 0:00:01\r\u001b[K     |██████████████████▊             | 1.5MB 31.9MB/s eta 0:00:01\r\u001b[K     |██████████████████▉             | 1.5MB 31.9MB/s eta 0:00:01\r\u001b[K     |███████████████████             | 1.5MB 31.9MB/s eta 0:00:01\r\u001b[K     |███████████████████▏            | 1.5MB 31.9MB/s eta 0:00:01\r\u001b[K     |███████████████████▎            | 1.5MB 31.9MB/s eta 0:00:01\r\u001b[K     |███████████████████▍            | 1.5MB 31.9MB/s eta 0:00:01\r\u001b[K     |███████████████████▌            | 1.5MB 31.9MB/s eta 0:00:01\r\u001b[K     |███████████████████▋            | 1.5MB 31.9MB/s eta 0:00:01\r\u001b[K     |███████████████████▉            | 1.5MB 31.9MB/s eta 0:00:01\r\u001b[K     |████████████████████            | 1.6MB 31.9MB/s eta 0:00:01\r\u001b[K     |████████████████████            | 1.6MB 31.9MB/s eta 0:00:01\r\u001b[K     |████████████████████▏           | 1.6MB 31.9MB/s eta 0:00:01\r\u001b[K     |████████████████████▎           | 1.6MB 31.9MB/s eta 0:00:01\r\u001b[K     |████████████████████▌           | 1.6MB 31.9MB/s eta 0:00:01\r\u001b[K     |████████████████████▋           | 1.6MB 31.9MB/s eta 0:00:01\r\u001b[K     |████████████████████▊           | 1.6MB 31.9MB/s eta 0:00:01\r\u001b[K     |████████████████████▉           | 1.6MB 31.9MB/s eta 0:00:01\r\u001b[K     |█████████████████████           | 1.6MB 31.9MB/s eta 0:00:01\r\u001b[K     |█████████████████████           | 1.6MB 31.9MB/s eta 0:00:01\r\u001b[K     |█████████████████████▎          | 1.7MB 31.9MB/s eta 0:00:01\r\u001b[K     |█████████████████████▍          | 1.7MB 31.9MB/s eta 0:00:01\r\u001b[K     |█████████████████████▌          | 1.7MB 31.9MB/s eta 0:00:01\r\u001b[K     |█████████████████████▋          | 1.7MB 31.9MB/s eta 0:00:01\r\u001b[K     |█████████████████████▊          | 1.7MB 31.9MB/s eta 0:00:01\r\u001b[K     |██████████████████████          | 1.7MB 31.9MB/s eta 0:00:01\r\u001b[K     |██████████████████████          | 1.7MB 31.9MB/s eta 0:00:01\r\u001b[K     |██████████████████████▏         | 1.7MB 31.9MB/s eta 0:00:01\r\u001b[K     |██████████████████████▎         | 1.7MB 31.9MB/s eta 0:00:01\r\u001b[K     |██████████████████████▍         | 1.8MB 31.9MB/s eta 0:00:01\r\u001b[K     |██████████████████████▌         | 1.8MB 31.9MB/s eta 0:00:01\r\u001b[K     |██████████████████████▊         | 1.8MB 31.9MB/s eta 0:00:01\r\u001b[K     |██████████████████████▉         | 1.8MB 31.9MB/s eta 0:00:01\r\u001b[K     |███████████████████████         | 1.8MB 31.9MB/s eta 0:00:01\r\u001b[K     |███████████████████████         | 1.8MB 31.9MB/s eta 0:00:01\r\u001b[K     |███████████████████████▏        | 1.8MB 31.9MB/s eta 0:00:01\r\u001b[K     |███████████████████████▍        | 1.8MB 31.9MB/s eta 0:00:01\r\u001b[K     |███████████████████████▌        | 1.8MB 31.9MB/s eta 0:00:01\r\u001b[K     |███████████████████████▋        | 1.8MB 31.9MB/s eta 0:00:01\r\u001b[K     |███████████████████████▊        | 1.9MB 31.9MB/s eta 0:00:01\r\u001b[K     |███████████████████████▉        | 1.9MB 31.9MB/s eta 0:00:01\r\u001b[K     |████████████████████████        | 1.9MB 31.9MB/s eta 0:00:01\r\u001b[K     |████████████████████████▏       | 1.9MB 31.9MB/s eta 0:00:01\r\u001b[K     |████████████████████████▎       | 1.9MB 31.9MB/s eta 0:00:01\r\u001b[K     |████████████████████████▍       | 1.9MB 31.9MB/s eta 0:00:01\r\u001b[K     |████████████████████████▌       | 1.9MB 31.9MB/s eta 0:00:01\r\u001b[K     |████████████████████████▋       | 1.9MB 31.9MB/s eta 0:00:01\r\u001b[K     |████████████████████████▉       | 1.9MB 31.9MB/s eta 0:00:01\r\u001b[K     |█████████████████████████       | 1.9MB 31.9MB/s eta 0:00:01\r\u001b[K     |█████████████████████████       | 2.0MB 31.9MB/s eta 0:00:01\r\u001b[K     |█████████████████████████▏      | 2.0MB 31.9MB/s eta 0:00:01\r\u001b[K     |█████████████████████████▎      | 2.0MB 31.9MB/s eta 0:00:01\r\u001b[K     |█████████████████████████▍      | 2.0MB 31.9MB/s eta 0:00:01\r\u001b[K     |█████████████████████████▋      | 2.0MB 31.9MB/s eta 0:00:01\r\u001b[K     |█████████████████████████▊      | 2.0MB 31.9MB/s eta 0:00:01\r\u001b[K     |█████████████████████████▉      | 2.0MB 31.9MB/s eta 0:00:01\r\u001b[K     |██████████████████████████      | 2.0MB 31.9MB/s eta 0:00:01\r\u001b[K     |██████████████████████████      | 2.0MB 31.9MB/s eta 0:00:01\r\u001b[K     |██████████████████████████▏     | 2.0MB 31.9MB/s eta 0:00:01\r\u001b[K     |██████████████████████████▍     | 2.1MB 31.9MB/s eta 0:00:01\r\u001b[K     |██████████████████████████▌     | 2.1MB 31.9MB/s eta 0:00:01\r\u001b[K     |██████████████████████████▋     | 2.1MB 31.9MB/s eta 0:00:01\r\u001b[K     |██████████████████████████▊     | 2.1MB 31.9MB/s eta 0:00:01\r\u001b[K     |██████████████████████████▉     | 2.1MB 31.9MB/s eta 0:00:01\r\u001b[K     |███████████████████████████     | 2.1MB 31.9MB/s eta 0:00:01\r\u001b[K     |███████████████████████████▏    | 2.1MB 31.9MB/s eta 0:00:01\r\u001b[K     |███████████████████████████▎    | 2.1MB 31.9MB/s eta 0:00:01\r\u001b[K     |███████████████████████████▍    | 2.1MB 31.9MB/s eta 0:00:01\r\u001b[K     |███████████████████████████▌    | 2.2MB 31.9MB/s eta 0:00:01\r\u001b[K     |███████████████████████████▋    | 2.2MB 31.9MB/s eta 0:00:01\r\u001b[K     |███████████████████████████▉    | 2.2MB 31.9MB/s eta 0:00:01\r\u001b[K     |████████████████████████████    | 2.2MB 31.9MB/s eta 0:00:01\r\u001b[K     |████████████████████████████    | 2.2MB 31.9MB/s eta 0:00:01\r\u001b[K     |████████████████████████████▏   | 2.2MB 31.9MB/s eta 0:00:01\r\u001b[K     |████████████████████████████▎   | 2.2MB 31.9MB/s eta 0:00:01\r\u001b[K     |████████████████████████████▌   | 2.2MB 31.9MB/s eta 0:00:01\r\u001b[K     |████████████████████████████▋   | 2.2MB 31.9MB/s eta 0:00:01\r\u001b[K     |████████████████████████████▊   | 2.2MB 31.9MB/s eta 0:00:01\r\u001b[K     |████████████████████████████▉   | 2.3MB 31.9MB/s eta 0:00:01\r\u001b[K     |█████████████████████████████   | 2.3MB 31.9MB/s eta 0:00:01\r\u001b[K     |█████████████████████████████   | 2.3MB 31.9MB/s eta 0:00:01\r\u001b[K     |█████████████████████████████▎  | 2.3MB 31.9MB/s eta 0:00:01\r\u001b[K     |█████████████████████████████▍  | 2.3MB 31.9MB/s eta 0:00:01\r\u001b[K     |█████████████████████████████▌  | 2.3MB 31.9MB/s eta 0:00:01\r\u001b[K     |█████████████████████████████▋  | 2.3MB 31.9MB/s eta 0:00:01\r\u001b[K     |█████████████████████████████▊  | 2.3MB 31.9MB/s eta 0:00:01\r\u001b[K     |██████████████████████████████  | 2.3MB 31.9MB/s eta 0:00:01\r\u001b[K     |██████████████████████████████  | 2.3MB 31.9MB/s eta 0:00:01\r\u001b[K     |██████████████████████████████▏ | 2.4MB 31.9MB/s eta 0:00:01\r\u001b[K     |██████████████████████████████▎ | 2.4MB 31.9MB/s eta 0:00:01\r\u001b[K     |██████████████████████████████▍ | 2.4MB 31.9MB/s eta 0:00:01\r\u001b[K     |██████████████████████████████▌ | 2.4MB 31.9MB/s eta 0:00:01\r\u001b[K     |██████████████████████████████▊ | 2.4MB 31.9MB/s eta 0:00:01\r\u001b[K     |██████████████████████████████▉ | 2.4MB 31.9MB/s eta 0:00:01\r\u001b[K     |███████████████████████████████ | 2.4MB 31.9MB/s eta 0:00:01\r\u001b[K     |███████████████████████████████ | 2.4MB 31.9MB/s eta 0:00:01\r\u001b[K     |███████████████████████████████▏| 2.4MB 31.9MB/s eta 0:00:01\r\u001b[K     |███████████████████████████████▍| 2.4MB 31.9MB/s eta 0:00:01\r\u001b[K     |███████████████████████████████▌| 2.5MB 31.9MB/s eta 0:00:01\r\u001b[K     |███████████████████████████████▋| 2.5MB 31.9MB/s eta 0:00:01\r\u001b[K     |███████████████████████████████▊| 2.5MB 31.9MB/s eta 0:00:01\r\u001b[K     |███████████████████████████████▉| 2.5MB 31.9MB/s eta 0:00:01\r\u001b[K     |████████████████████████████████| 2.5MB 31.9MB/s eta 0:00:01\r\u001b[K     |████████████████████████████████| 2.5MB 31.9MB/s \n",
            "\u001b[?25hRequirement already satisfied: requests in /usr/local/lib/python3.7/dist-packages (from transformers) (2.23.0)\n",
            "Requirement already satisfied: tqdm>=4.27 in /usr/local/lib/python3.7/dist-packages (from transformers) (4.41.1)\n",
            "Collecting tokenizers<0.11,>=0.10.1\n",
            "\u001b[?25l  Downloading https://files.pythonhosted.org/packages/d4/e2/df3543e8ffdab68f5acc73f613de9c2b155ac47f162e725dcac87c521c11/tokenizers-0.10.3-cp37-cp37m-manylinux_2_5_x86_64.manylinux1_x86_64.manylinux_2_12_x86_64.manylinux2010_x86_64.whl (3.3MB)\n",
            "\u001b[K     |████████████████████████████████| 3.3MB 34.8MB/s \n",
            "\u001b[?25hRequirement already satisfied: packaging in /usr/local/lib/python3.7/dist-packages (from transformers) (20.9)\n",
            "Requirement already satisfied: pyyaml in /usr/local/lib/python3.7/dist-packages (from transformers) (3.13)\n",
            "Requirement already satisfied: regex!=2019.12.17 in /usr/local/lib/python3.7/dist-packages (from transformers) (2019.12.20)\n",
            "Requirement already satisfied: filelock in /usr/local/lib/python3.7/dist-packages (from transformers) (3.0.12)\n",
            "Collecting sacremoses\n",
            "\u001b[?25l  Downloading https://files.pythonhosted.org/packages/75/ee/67241dc87f266093c533a2d4d3d69438e57d7a90abb216fa076e7d475d4a/sacremoses-0.0.45-py3-none-any.whl (895kB)\n",
            "\u001b[K     |████████████████████████████████| 901kB 41.3MB/s \n",
            "\u001b[?25hCollecting huggingface-hub==0.0.12\n",
            "  Downloading https://files.pythonhosted.org/packages/2f/ee/97e253668fda9b17e968b3f97b2f8e53aa0127e8807d24a547687423fe0b/huggingface_hub-0.0.12-py3-none-any.whl\n",
            "Requirement already satisfied: importlib-metadata; python_version < \"3.8\" in /usr/local/lib/python3.7/dist-packages (from transformers) (4.6.0)\n",
            "Requirement already satisfied: numpy>=1.17 in /usr/local/lib/python3.7/dist-packages (from transformers) (1.19.5)\n",
            "Requirement already satisfied: urllib3!=1.25.0,!=1.25.1,<1.26,>=1.21.1 in /usr/local/lib/python3.7/dist-packages (from requests->transformers) (1.24.3)\n",
            "Requirement already satisfied: chardet<4,>=3.0.2 in /usr/local/lib/python3.7/dist-packages (from requests->transformers) (3.0.4)\n",
            "Requirement already satisfied: idna<3,>=2.5 in /usr/local/lib/python3.7/dist-packages (from requests->transformers) (2.10)\n",
            "Requirement already satisfied: certifi>=2017.4.17 in /usr/local/lib/python3.7/dist-packages (from requests->transformers) (2021.5.30)\n",
            "Requirement already satisfied: pyparsing>=2.0.2 in /usr/local/lib/python3.7/dist-packages (from packaging->transformers) (2.4.7)\n",
            "Requirement already satisfied: six in /usr/local/lib/python3.7/dist-packages (from sacremoses->transformers) (1.15.0)\n",
            "Requirement already satisfied: joblib in /usr/local/lib/python3.7/dist-packages (from sacremoses->transformers) (1.0.1)\n",
            "Requirement already satisfied: click in /usr/local/lib/python3.7/dist-packages (from sacremoses->transformers) (7.1.2)\n",
            "Requirement already satisfied: typing-extensions in /usr/local/lib/python3.7/dist-packages (from huggingface-hub==0.0.12->transformers) (3.7.4.3)\n",
            "Requirement already satisfied: zipp>=0.5 in /usr/local/lib/python3.7/dist-packages (from importlib-metadata; python_version < \"3.8\"->transformers) (3.4.1)\n",
            "Installing collected packages: tokenizers, sacremoses, huggingface-hub, transformers\n",
            "Successfully installed huggingface-hub-0.0.12 sacremoses-0.0.45 tokenizers-0.10.3 transformers-4.8.2\n",
            "Collecting git+git://github.com/ricardodeazambuja/colab_utils.git\n",
            "  Cloning git://github.com/ricardodeazambuja/colab_utils.git to /tmp/pip-req-build-avcdgcv4\n",
            "  Running command git clone -q git://github.com/ricardodeazambuja/colab_utils.git /tmp/pip-req-build-avcdgcv4\n",
            "Collecting ffmpeg-python\n",
            "  Downloading https://files.pythonhosted.org/packages/d7/0c/56be52741f75bad4dc6555991fabd2e07b432d333da82c11ad701123888a/ffmpeg_python-0.2.0-py3-none-any.whl\n",
            "Requirement already satisfied: scipy in /usr/local/lib/python3.7/dist-packages (from colab-utils==0.2) (1.4.1)\n",
            "Requirement already satisfied: pillow in /usr/local/lib/python3.7/dist-packages (from colab-utils==0.2) (7.1.2)\n",
            "Requirement already satisfied: numpy in /usr/local/lib/python3.7/dist-packages (from colab-utils==0.2) (1.19.5)\n",
            "Requirement already satisfied: future in /usr/local/lib/python3.7/dist-packages (from ffmpeg-python->colab-utils==0.2) (0.16.0)\n",
            "Building wheels for collected packages: colab-utils\n",
            "  Building wheel for colab-utils (setup.py) ... \u001b[?25l\u001b[?25hdone\n",
            "  Created wheel for colab-utils: filename=colab_utils-0.2-cp37-none-any.whl size=21465 sha256=f68277dc8d2daa7f7a0f85ecf32a5645c256fba5ab80dc931122e6c4f32c34c7\n",
            "  Stored in directory: /tmp/pip-ephem-wheel-cache-182ooz5j/wheels/21/75/32/38aeb76b2424385f43eae9fd28c98e084308f4f6d9cb0a4f97\n",
            "Successfully built colab-utils\n",
            "Installing collected packages: ffmpeg-python, colab-utils\n",
            "Successfully installed colab-utils-0.2 ffmpeg-python-0.2.0\n",
            "Requirement already satisfied: librosa in /usr/local/lib/python3.7/dist-packages (0.8.1)\n",
            "Requirement already satisfied: numba>=0.43.0 in /usr/local/lib/python3.7/dist-packages (from librosa) (0.51.2)\n",
            "Requirement already satisfied: scikit-learn!=0.19.0,>=0.14.0 in /usr/local/lib/python3.7/dist-packages (from librosa) (0.22.2.post1)\n",
            "Requirement already satisfied: scipy>=1.0.0 in /usr/local/lib/python3.7/dist-packages (from librosa) (1.4.1)\n",
            "Requirement already satisfied: joblib>=0.14 in /usr/local/lib/python3.7/dist-packages (from librosa) (1.0.1)\n",
            "Requirement already satisfied: pooch>=1.0 in /usr/local/lib/python3.7/dist-packages (from librosa) (1.4.0)\n",
            "Requirement already satisfied: audioread>=2.0.0 in /usr/local/lib/python3.7/dist-packages (from librosa) (2.1.9)\n",
            "Requirement already satisfied: decorator>=3.0.0 in /usr/local/lib/python3.7/dist-packages (from librosa) (4.4.2)\n",
            "Requirement already satisfied: packaging>=20.0 in /usr/local/lib/python3.7/dist-packages (from librosa) (20.9)\n",
            "Requirement already satisfied: numpy>=1.15.0 in /usr/local/lib/python3.7/dist-packages (from librosa) (1.19.5)\n",
            "Requirement already satisfied: resampy>=0.2.2 in /usr/local/lib/python3.7/dist-packages (from librosa) (0.2.2)\n",
            "Requirement already satisfied: soundfile>=0.10.2 in /usr/local/lib/python3.7/dist-packages (from librosa) (0.10.3.post1)\n",
            "Requirement already satisfied: llvmlite<0.35,>=0.34.0.dev0 in /usr/local/lib/python3.7/dist-packages (from numba>=0.43.0->librosa) (0.34.0)\n",
            "Requirement already satisfied: setuptools in /usr/local/lib/python3.7/dist-packages (from numba>=0.43.0->librosa) (57.0.0)\n",
            "Requirement already satisfied: appdirs in /usr/local/lib/python3.7/dist-packages (from pooch>=1.0->librosa) (1.4.4)\n",
            "Requirement already satisfied: requests in /usr/local/lib/python3.7/dist-packages (from pooch>=1.0->librosa) (2.23.0)\n",
            "Requirement already satisfied: pyparsing>=2.0.2 in /usr/local/lib/python3.7/dist-packages (from packaging>=20.0->librosa) (2.4.7)\n",
            "Requirement already satisfied: six>=1.3 in /usr/local/lib/python3.7/dist-packages (from resampy>=0.2.2->librosa) (1.15.0)\n",
            "Requirement already satisfied: cffi>=1.0 in /usr/local/lib/python3.7/dist-packages (from soundfile>=0.10.2->librosa) (1.14.5)\n",
            "Requirement already satisfied: certifi>=2017.4.17 in /usr/local/lib/python3.7/dist-packages (from requests->pooch>=1.0->librosa) (2021.5.30)\n",
            "Requirement already satisfied: idna<3,>=2.5 in /usr/local/lib/python3.7/dist-packages (from requests->pooch>=1.0->librosa) (2.10)\n",
            "Requirement already satisfied: chardet<4,>=3.0.2 in /usr/local/lib/python3.7/dist-packages (from requests->pooch>=1.0->librosa) (3.0.4)\n",
            "Requirement already satisfied: urllib3!=1.25.0,!=1.25.1,<1.26,>=1.21.1 in /usr/local/lib/python3.7/dist-packages (from requests->pooch>=1.0->librosa) (1.24.3)\n",
            "Requirement already satisfied: pycparser in /usr/local/lib/python3.7/dist-packages (from cffi>=1.0->soundfile>=0.10.2->librosa) (2.20)\n"
          ],
          "name": "stdout"
        }
      ]
    },
    {
      "cell_type": "code",
      "metadata": {
        "id": "BYPYuXMy7UeZ",
        "colab": {
          "base_uri": "https://localhost:8080/",
          "height": 370,
          "referenced_widgets": [
            "b1703ca95504455c9e6f1989276d4771",
            "c513f6e279e64ba0a6a148b5c96cdbb4",
            "b72e5e0b70614eb7b9cdd0f6585be952",
            "257b41058f4d47478e2ab672a7155ef8",
            "0d34c704112d4ec795e7db8ac0592a15",
            "7024fde37a0248dd9ec25430d0777cb6",
            "68a2f3a3c8e447eebf23f075a89aa3eb",
            "8e5c955e418743bcb52c8d8cca6650af",
            "a1c2bce247fd4d06a686021bb3dddccd",
            "5465443395ee4a698c07c1915c45fb30",
            "7f8443e3be304c029eba010b186e2fc5",
            "7714cbf599974fe7815ebfd67507a550",
            "ac2b27530acf4bad810e2157f2e5686f",
            "2e6e69445edb4fa69c68b1dc94d22970",
            "55a9ac6e74d4477abb1619dd6e50e4cc",
            "b3acdc18d26840a3b137241a1df072fc",
            "97c40db168a24e3c82669b6f755684a9",
            "10afd9db17604e2ea0c3970ad3267262",
            "89bfa45c79c64aee892443f81401a343",
            "f121bac305f04330af48b4e2c902c6f4",
            "e24c2b18790544caadb7f924fd6b346a",
            "a4e21ff50d464cf494de8bf2524adc6b",
            "eee4f20e278a41eeb292127e1ce4f7c2",
            "782bd732dc4e4d5b986de0b5f6ecb403",
            "c239928f1dbc4eecab59a59c1efcef77",
            "3ae1a8c2ae0f49b1b8b1aea1f097c610",
            "d228a9e082bc4b31adff0512921b759e",
            "a4e449a0440c48089593d4322a169164",
            "9719587cae984ae7b46408e2f33c1acc",
            "676152a987234802a0bae5a3a0b2a444",
            "894078838b3246f6ab5ed1b8078ed990",
            "a40121ca5f824cabaf1d86848f686985",
            "ecfc6c2873e044928f1110c4c3793538",
            "319bce7063ca4e55ba36221ebd62e172",
            "915d012751b54a79a3c1a1bab4438516",
            "263feea630564039bbb5c1309360a81b",
            "4d27072cc2cd47bba02e010bb55d865c",
            "1ba7063ce1854a3caf5c1c492d42119d",
            "4a08ef7053c14aeb8218032da7d7e2f9",
            "249a72c8e89f4df4a06e96be2c43778c",
            "acffaa17057c457a8f93422522a46bda",
            "9049cc5c2f2549abad1a613c03b871d4",
            "55269b8a54ec4de8bcce06b1da633a44",
            "2b74f0ee9fb64def81d503fdb55ac945",
            "535b2f7979884617a185acfadab9436a",
            "01f5f949ff43486599fc3e8c92d1ad0d",
            "476694de45b44d9ab0dead577d740f9d",
            "33c37ab23f4649e2a02b98cea020df91"
          ]
        },
        "outputId": "e94883b4-55cc-4091-f8e2-0e618054fb95"
      },
      "source": [
        "# Importar librerías\n",
        "from transformers import Wav2Vec2ForCTC, Wav2Vec2Processor\n",
        "import torch\n",
        "from colab_utils import getAudio\n",
        "import librosa\n",
        "import numpy as np\n",
        "\n",
        "w2v2 = Wav2Vec2ForCTC.from_pretrained(\"facebook/wav2vec2-base-960h\")\n",
        "w2v2_processor = Wav2Vec2Processor.from_pretrained(\"facebook/wav2vec2-base-960h\")"
      ],
      "execution_count": 3,
      "outputs": [
        {
          "output_type": "display_data",
          "data": {
            "application/vnd.jupyter.widget-view+json": {
              "model_id": "b1703ca95504455c9e6f1989276d4771",
              "version_minor": 0,
              "version_major": 2
            },
            "text/plain": [
              "HBox(children=(FloatProgress(value=0.0, description='Downloading', max=1596.0, style=ProgressStyle(description…"
            ]
          },
          "metadata": {
            "tags": []
          }
        },
        {
          "output_type": "stream",
          "text": [
            "\n"
          ],
          "name": "stdout"
        },
        {
          "output_type": "display_data",
          "data": {
            "application/vnd.jupyter.widget-view+json": {
              "model_id": "a1c2bce247fd4d06a686021bb3dddccd",
              "version_minor": 0,
              "version_major": 2
            },
            "text/plain": [
              "HBox(children=(FloatProgress(value=0.0, description='Downloading', max=377667514.0, style=ProgressStyle(descri…"
            ]
          },
          "metadata": {
            "tags": []
          }
        },
        {
          "output_type": "stream",
          "text": [
            "\n"
          ],
          "name": "stdout"
        },
        {
          "output_type": "stream",
          "text": [
            "Some weights of Wav2Vec2ForCTC were not initialized from the model checkpoint at facebook/wav2vec2-base-960h and are newly initialized: ['wav2vec2.masked_spec_embed']\n",
            "You should probably TRAIN this model on a down-stream task to be able to use it for predictions and inference.\n"
          ],
          "name": "stderr"
        },
        {
          "output_type": "display_data",
          "data": {
            "application/vnd.jupyter.widget-view+json": {
              "model_id": "97c40db168a24e3c82669b6f755684a9",
              "version_minor": 0,
              "version_major": 2
            },
            "text/plain": [
              "HBox(children=(FloatProgress(value=0.0, description='Downloading', max=159.0, style=ProgressStyle(description_…"
            ]
          },
          "metadata": {
            "tags": []
          }
        },
        {
          "output_type": "stream",
          "text": [
            "\n"
          ],
          "name": "stdout"
        },
        {
          "output_type": "display_data",
          "data": {
            "application/vnd.jupyter.widget-view+json": {
              "model_id": "c239928f1dbc4eecab59a59c1efcef77",
              "version_minor": 0,
              "version_major": 2
            },
            "text/plain": [
              "HBox(children=(FloatProgress(value=0.0, description='Downloading', max=291.0, style=ProgressStyle(description_…"
            ]
          },
          "metadata": {
            "tags": []
          }
        },
        {
          "output_type": "stream",
          "text": [
            "\n"
          ],
          "name": "stdout"
        },
        {
          "output_type": "display_data",
          "data": {
            "application/vnd.jupyter.widget-view+json": {
              "model_id": "ecfc6c2873e044928f1110c4c3793538",
              "version_minor": 0,
              "version_major": 2
            },
            "text/plain": [
              "HBox(children=(FloatProgress(value=0.0, description='Downloading', max=163.0, style=ProgressStyle(description_…"
            ]
          },
          "metadata": {
            "tags": []
          }
        },
        {
          "output_type": "stream",
          "text": [
            "\n"
          ],
          "name": "stdout"
        },
        {
          "output_type": "display_data",
          "data": {
            "application/vnd.jupyter.widget-view+json": {
              "model_id": "acffaa17057c457a8f93422522a46bda",
              "version_minor": 0,
              "version_major": 2
            },
            "text/plain": [
              "HBox(children=(FloatProgress(value=0.0, description='Downloading', max=85.0, style=ProgressStyle(description_w…"
            ]
          },
          "metadata": {
            "tags": []
          }
        },
        {
          "output_type": "stream",
          "text": [
            "\n"
          ],
          "name": "stdout"
        }
      ]
    },
    {
      "cell_type": "code",
      "metadata": {
        "id": "ALP9Tn78pr_L",
        "colab": {
          "base_uri": "https://localhost:8080/",
          "height": 96
        },
        "outputId": "ef5cfe4d-e2cf-4c83-b3c3-e2749121e5ab"
      },
      "source": [
        "# Capturar audio del mic (a 48 KHz)\n",
        "audio, sr = getAudio()"
      ],
      "execution_count": 4,
      "outputs": [
        {
          "output_type": "display_data",
          "data": {
            "text/html": [
              "\n",
              "  <script>\n",
              "  var my_div = document.createElement(\"DIV\");\n",
              "  var my_p = document.createElement(\"P\");\n",
              "  var my_btn = document.createElement(\"BUTTON\");\n",
              "  var t = document.createTextNode(\"Press to start recording\");\n",
              "\n",
              "  my_btn.appendChild(t);\n",
              "  //my_p.appendChild(my_btn);\n",
              "  my_div.appendChild(my_btn);\n",
              "  document.body.appendChild(my_div);\n",
              "\n",
              "  var base64data = 0;\n",
              "  var reader;\n",
              "  var recorder, gumStream;\n",
              "  var recordButton = my_btn;\n",
              "\n",
              "  var handleSuccess = function(stream) {\n",
              "    gumStream = stream;\n",
              "    var options = {\n",
              "      //bitsPerSecond: 8000, //chrome seems to ignore, always 48k\n",
              "      mimeType : 'audio/webm;codecs=opus'\n",
              "      //mimeType : 'audio/webm;codecs=pcm'\n",
              "    };            \n",
              "    //recorder = new MediaRecorder(stream, options);\n",
              "    recorder = new MediaRecorder(stream);\n",
              "    recorder.ondataavailable = function(e) {            \n",
              "      var url = URL.createObjectURL(e.data);\n",
              "      var preview = document.createElement('audio');\n",
              "      preview.controls = true;\n",
              "      preview.src = url;\n",
              "      document.body.appendChild(preview);\n",
              "\n",
              "      reader = new FileReader();\n",
              "      reader.readAsDataURL(e.data); \n",
              "      reader.onloadend = function() {\n",
              "        base64data = reader.result;\n",
              "        //console.log(\"Inside FileReader:\" + base64data);\n",
              "      }\n",
              "    };\n",
              "    recorder.start();\n",
              "    };\n",
              "\n",
              "  recordButton.innerText = \"Recording... press to stop\";\n",
              "\n",
              "  navigator.mediaDevices.getUserMedia({audio: true}).then(handleSuccess);\n",
              "\n",
              "\n",
              "  function toggleRecording() {\n",
              "    if (recorder && recorder.state == \"recording\") {\n",
              "        recorder.stop();\n",
              "        gumStream.getAudioTracks()[0].stop();\n",
              "        recordButton.innerText = \"Saving the recording... pls wait!\"\n",
              "    }\n",
              "  }\n",
              "\n",
              "  // https://stackoverflow.com/a/951057\n",
              "  function sleep(ms) {\n",
              "    return new Promise(resolve => setTimeout(resolve, ms));\n",
              "  }\n",
              "\n",
              "  var data = new Promise(resolve=>{\n",
              "  //recordButton.addEventListener(\"click\", toggleRecording);\n",
              "  recordButton.onclick = ()=>{\n",
              "  toggleRecording()\n",
              "\n",
              "  sleep(2000).then(() => {\n",
              "    // wait 2000ms for the data to be available...\n",
              "    // ideally this should use something like await...\n",
              "    //console.log(\"Inside data:\" + base64data)\n",
              "    resolve(base64data.toString())\n",
              "\n",
              "  });\n",
              "\n",
              "  }\n",
              "  });\n",
              "        \n",
              "  </script>\n",
              "  "
            ],
            "text/plain": [
              "<IPython.core.display.HTML object>"
            ]
          },
          "metadata": {
            "tags": []
          }
        }
      ]
    },
    {
      "cell_type": "code",
      "metadata": {
        "id": "CGhQkVkhu9wA",
        "colab": {
          "base_uri": "https://localhost:8080/"
        },
        "outputId": "25656261-ff3c-498e-8c3b-ef25376fc88a"
      },
      "source": [
        "# Cambiar tasa de muestreo a 16 KHz (requerido por wav2vec2)\n",
        "audio_float = audio.astype(np.float32)\n",
        "audio_16k = librosa.resample(audio_float, sr, 16000)\n",
        "print(f'Tamaño audio original: {audio_16k.shape}')\n",
        "\n",
        "# Voz a texto\n",
        "entrada = w2v2_processor(audio_16k, sampling_rate=16000, return_tensors=\"pt\").input_values\n",
        "print(f'Tamaño entrada a wav2vec2: {entrada.shape}')\n",
        "probabilidades = w2v2(entrada).logits\n",
        "print(f'Tamaño arreglo probabilidades (salida de wav2vec2): {probabilidades.shape}')\n",
        "predicciones = torch.argmax(probabilidades, dim=-1)\n",
        "print(f'Tamaño arreglo predicciones: {predicciones.shape}')\n",
        "transcripcion = w2v2_processor.decode(predicciones[0])\n",
        "print(transcripcion)"
      ],
      "execution_count": 5,
      "outputs": [
        {
          "output_type": "stream",
          "text": [
            "Tamaño audio original: (48960,)\n",
            "Tamaño entrada a wav2vec2: torch.Size([1, 48960])\n",
            "Tamaño arreglo probabilidades (salida de wav2vec2): torch.Size([1, 152, 32])\n",
            "Tamaño arreglo predicciones: torch.Size([1, 152])\n",
            "E OMESTASAN\n"
          ],
          "name": "stdout"
        }
      ]
    },
    {
      "cell_type": "markdown",
      "metadata": {
        "id": "yH2tSjWYE0VI"
      },
      "source": [
        "## 4 - *BlenderBot*\n",
        "\n"
      ]
    },
    {
      "cell_type": "markdown",
      "metadata": {
        "id": "cP5_LmIbzU4A"
      },
      "source": [
        "[*BlenderBot*](https://ai.facebook.com/blog/state-of-the-art-open-source-chatbot/) también fue desarrollado por FaceBook en 2020, con el fin de permitir una interacción más humana y natural:\n",
        "\n",
        "![](https://github.com/AcecomFCUNI/Chatbot-Acecom/blob/master/assets/blenderbot.png?raw=1)"
      ]
    },
    {
      "cell_type": "code",
      "metadata": {
        "id": "fhWp3DJn61LH",
        "colab": {
          "base_uri": "https://localhost:8080/",
          "height": 364,
          "referenced_widgets": [
            "2bed165718b141fcaa2c174f9db4e09f",
            "cbe3d45fbd7d4453832036a1b8d9ed92",
            "fd3e6b264197492792eb055f7bda0e1e",
            "ffc49f44e83a47d49bb26900be8bce5b",
            "db77305946884505a835f30b19dae03f",
            "b97550e67c59464db4bc42e8d2d016ad",
            "d4b5868c428b47ea8dae027320eafb23",
            "aa7fb50bca9b45feadab66cea7be8e01",
            "92f3a57d2de94014a74155110c6a3f87",
            "c868d30b56e0404eb2cd084b6e1f92f1",
            "f90972e89b6e4b239cdc46c64313aa6b",
            "974e1d36a32c40e9ad4954aca70756bf",
            "37800d4f33454e0fa24bb39863ff5172",
            "c59dd09961a042e5aa9584f18daa91de",
            "d2264b71d636483dbfdc39607bb6bd61",
            "9d7a6fa898a9430fa0fc65fb6651b5f9",
            "2ef2e770764c428bbc738b09bd6b9b1a",
            "62c1675b104b4f8fbeb1f95e35be62d7",
            "b716df54730c4c7f9507abc57722ed40",
            "f5a9cb609f674fa68fe21390cf357e6c",
            "44b28b914a92419abc096b8470b22eb0",
            "445abc6f84f142668fa48b7eb23b65c6",
            "bde5333a17e640d9ab962293a2fe57da",
            "ebda3fcb74ef49378239fdb4b2d0d99f",
            "a64c6bb46bbe454bbd9942af83dd1c1d",
            "c21bc298ae3e4145bc814ecadfcf7323",
            "fac30582681d422187a5a5bca1075ed4",
            "16396086203a49879b4d0cbfe9703790",
            "929cab7a26d14624b5fcbe336a587820",
            "61a29dcc29ca42929c3138698571443a",
            "08feb8d9f62a4113abaa9fc8638e7569",
            "41d67f412cf24ac08dde267bc616a233",
            "599bebd87a96417a83f3920866a2ee50",
            "2e5a1e092495403f8d967188358b83d4",
            "9350d5ebd96e4e2bb4d9e5c8d9709756",
            "3e477069e5094aa183522681bbf3f825",
            "079cc0a584e04ed58af6061d12a844c0",
            "afa23591d0274bf7ad73bc238902c322",
            "494dad2469f1455e89fc38de8b5b24f9",
            "97f184700ebf452ab3228ecb90c9e236",
            "8d1f54a9ac0348ae95cece2198c13ad8",
            "c4298bafd2334ce9937b48532c45b636",
            "c9e8606c0d1747d28709f4cd379911d5",
            "d690919be6774395982fda2b30279aab",
            "e4b77d7aec6e42f18e672eb3b78357e2",
            "cd47b89a14cc424591b35852280fb125",
            "6139ce9a7e564ff5bf432db8d662327d",
            "da698182e51f4bf3aa4419cf5afe2f1e",
            "90c5f0ca42154029b0a053001b32152f",
            "d090908072964132b3a79a9e677f5454",
            "bb91016ada734b45be6e766d33d17d55",
            "0c63590125da4cc5b289626eca737a5c",
            "22ac8bd2d486485783c9647e6dd08ca7",
            "4409b183bae84223bf6ba727965c2aad",
            "eb799dd675ca408c92814871a00a733d",
            "cb33a844e4a847849081f3965463c723"
          ]
        },
        "outputId": "8f5fa406-cbf9-4eb4-c8fc-d2294bc292a8"
      },
      "source": [
        "from transformers import AutoTokenizer, AutoModelForSeq2SeqLM\n",
        "tokenizer = AutoTokenizer.from_pretrained(\"facebook/blenderbot-400M-distill\")\n",
        "blender = AutoModelForSeq2SeqLM.from_pretrained(\"facebook/blenderbot-400M-distill\")"
      ],
      "execution_count": 6,
      "outputs": [
        {
          "output_type": "display_data",
          "data": {
            "application/vnd.jupyter.widget-view+json": {
              "model_id": "2bed165718b141fcaa2c174f9db4e09f",
              "version_minor": 0,
              "version_major": 2
            },
            "text/plain": [
              "HBox(children=(FloatProgress(value=0.0, description='Downloading', max=1153.0, style=ProgressStyle(description…"
            ]
          },
          "metadata": {
            "tags": []
          }
        },
        {
          "output_type": "stream",
          "text": [
            "\n"
          ],
          "name": "stdout"
        },
        {
          "output_type": "display_data",
          "data": {
            "application/vnd.jupyter.widget-view+json": {
              "model_id": "92f3a57d2de94014a74155110c6a3f87",
              "version_minor": 0,
              "version_major": 2
            },
            "text/plain": [
              "HBox(children=(FloatProgress(value=0.0, description='Downloading', max=1505.0, style=ProgressStyle(description…"
            ]
          },
          "metadata": {
            "tags": []
          }
        },
        {
          "output_type": "stream",
          "text": [
            "\n"
          ],
          "name": "stdout"
        },
        {
          "output_type": "display_data",
          "data": {
            "application/vnd.jupyter.widget-view+json": {
              "model_id": "2ef2e770764c428bbc738b09bd6b9b1a",
              "version_minor": 0,
              "version_major": 2
            },
            "text/plain": [
              "HBox(children=(FloatProgress(value=0.0, description='Downloading', max=126891.0, style=ProgressStyle(descripti…"
            ]
          },
          "metadata": {
            "tags": []
          }
        },
        {
          "output_type": "stream",
          "text": [
            "\n"
          ],
          "name": "stdout"
        },
        {
          "output_type": "display_data",
          "data": {
            "application/vnd.jupyter.widget-view+json": {
              "model_id": "a64c6bb46bbe454bbd9942af83dd1c1d",
              "version_minor": 0,
              "version_major": 2
            },
            "text/plain": [
              "HBox(children=(FloatProgress(value=0.0, description='Downloading', max=62871.0, style=ProgressStyle(descriptio…"
            ]
          },
          "metadata": {
            "tags": []
          }
        },
        {
          "output_type": "stream",
          "text": [
            "\n"
          ],
          "name": "stdout"
        },
        {
          "output_type": "display_data",
          "data": {
            "application/vnd.jupyter.widget-view+json": {
              "model_id": "599bebd87a96417a83f3920866a2ee50",
              "version_minor": 0,
              "version_major": 2
            },
            "text/plain": [
              "HBox(children=(FloatProgress(value=0.0, description='Downloading', max=16.0, style=ProgressStyle(description_w…"
            ]
          },
          "metadata": {
            "tags": []
          }
        },
        {
          "output_type": "stream",
          "text": [
            "\n"
          ],
          "name": "stdout"
        },
        {
          "output_type": "display_data",
          "data": {
            "application/vnd.jupyter.widget-view+json": {
              "model_id": "8d1f54a9ac0348ae95cece2198c13ad8",
              "version_minor": 0,
              "version_major": 2
            },
            "text/plain": [
              "HBox(children=(FloatProgress(value=0.0, description='Downloading', max=772.0, style=ProgressStyle(description_…"
            ]
          },
          "metadata": {
            "tags": []
          }
        },
        {
          "output_type": "stream",
          "text": [
            "\n"
          ],
          "name": "stdout"
        },
        {
          "output_type": "display_data",
          "data": {
            "application/vnd.jupyter.widget-view+json": {
              "model_id": "90c5f0ca42154029b0a053001b32152f",
              "version_minor": 0,
              "version_major": 2
            },
            "text/plain": [
              "HBox(children=(FloatProgress(value=0.0, description='Downloading', max=729755983.0, style=ProgressStyle(descri…"
            ]
          },
          "metadata": {
            "tags": []
          }
        },
        {
          "output_type": "stream",
          "text": [
            "\n"
          ],
          "name": "stdout"
        }
      ]
    },
    {
      "cell_type": "code",
      "metadata": {
        "id": "McCfob1SU8FM"
      },
      "source": [
        "blender.generate?"
      ],
      "execution_count": 7,
      "outputs": []
    },
    {
      "cell_type": "code",
      "metadata": {
        "id": "2dF8IK4u1dQR",
        "colab": {
          "base_uri": "https://localhost:8080/"
        },
        "outputId": "a2f5bd9d-8298-48c5-c217-cf4b9a26076f"
      },
      "source": [
        "# Prueba inicial\n",
        "entradaBlender = tokenizer([transcripcion], return_tensors='pt')\n",
        "print(f'Frase de entrada: {transcripcion}')\n",
        "print(f'Entrada a BlenderBot: {entradaBlender}')\n",
        "ids_respuesta = blender.generate(**entradaBlender)\n",
        "print(f'Salida BlenderBot: {ids_respuesta}')\n",
        "respuesta = tokenizer.batch_decode(ids_respuesta)\n",
        "print(f'Salida después del Tokenizer: {respuesta}')"
      ],
      "execution_count": 8,
      "outputs": [
        {
          "output_type": "stream",
          "text": [
            "Frase de entrada: E OMESTASAN\n",
            "Entrada a BlenderBot: {'input_ids': tensor([[ 477,  471,   52, 2291,   59, 3159, 2159,    2]]), 'attention_mask': tensor([[1, 1, 1, 1, 1, 1, 1, 1]])}\n"
          ],
          "name": "stdout"
        },
        {
          "output_type": "stream",
          "text": [
            "/usr/local/lib/python3.7/dist-packages/torch/_tensor.py:575: UserWarning: floor_divide is deprecated, and will be removed in a future version of pytorch. It currently rounds toward 0 (like the 'trunc' function NOT 'floor'). This results in incorrect rounding for negative values.\n",
            "To keep the current behavior, use torch.div(a, b, rounding_mode='trunc'), or for actual floor division, use torch.div(a, b, rounding_mode='floor'). (Triggered internally at  /pytorch/aten/src/ATen/native/BinaryOps.cpp:467.)\n",
            "  return torch.floor_divide(self, other)\n"
          ],
          "name": "stderr"
        },
        {
          "output_type": "stream",
          "text": [
            "Salida BlenderBot: tensor([[   1, 2219,  304,  957,  635,  324,  265,  885,   92,  923,   38,  281,\n",
            "          615,  635,  324,  487,  298,  312,  372, 1874,    8,    2]])\n",
            "Salida después del Tokenizer: [\"<s> Have you ever been on a cruise? I've been on one and it was amazing!</s>\"]\n"
          ],
          "name": "stdout"
        }
      ]
    },
    {
      "cell_type": "code",
      "metadata": {
        "id": "-b_YYbzIrLs1",
        "colab": {
          "base_uri": "https://localhost:8080/"
        },
        "outputId": "31b91918-de6f-4f58-8de5-1e6c86051a11"
      },
      "source": [
        "# Eliminar tokens de inicio y finalización de frase\n",
        "respuesta = respuesta[0].replace('<s>','').replace('</s>','')\n",
        "print(f'Salida en el formato correcto: {respuesta}')"
      ],
      "execution_count": 9,
      "outputs": [
        {
          "output_type": "stream",
          "text": [
            "Salida en el formato correcto:  Have you ever been on a cruise? I've been on one and it was amazing!\n"
          ],
          "name": "stdout"
        }
      ]
    },
    {
      "cell_type": "code",
      "metadata": {
        "id": "IuEQ649cCSJM",
        "colab": {
          "base_uri": "https://localhost:8080/",
          "height": 649
        },
        "outputId": "2964bc64-470b-40ac-de6c-fe0bec5f6dad"
      },
      "source": [
        "# Crear un corto chat de prueba\n",
        "NFRASES = 5\n",
        "nfrase = 1\n",
        "while nfrase <= NFRASES:\n",
        "  frase = input('-> MIGUEL: ')\n",
        "  entradaBlender = tokenizer([frase], return_tensors='pt')\n",
        "  ids_respuesta = blender.generate(**entradaBlender)\n",
        "  respuesta = tokenizer.batch_decode(ids_respuesta)\n",
        "  respuesta = respuesta[0].replace('<s>','').replace('</s>','')\n",
        "  print(f'-> BLENDERBOT: {respuesta}')\n",
        "\n",
        "  nfrase += 1"
      ],
      "execution_count": 10,
      "outputs": [
        {
          "output_type": "stream",
          "text": [
            "-> MIGUEL: hola\n",
            "-> BLENDERBOT:  Holidays are my favorite time of the year.  Do you like holidays?\n",
            "-> MIGUEL: what i do?\n",
            "-> BLENDERBOT:  What do you mean what do you do? I'm not sure what you mean by what you do.\n"
          ],
          "name": "stdout"
        },
        {
          "output_type": "error",
          "ename": "KeyboardInterrupt",
          "evalue": "ignored",
          "traceback": [
            "\u001b[0;31m---------------------------------------------------------------------------\u001b[0m",
            "\u001b[0;31mKeyboardInterrupt\u001b[0m                         Traceback (most recent call last)",
            "\u001b[0;32m/usr/local/lib/python3.7/dist-packages/ipykernel/kernelbase.py\u001b[0m in \u001b[0;36m_input_request\u001b[0;34m(self, prompt, ident, parent, password)\u001b[0m\n\u001b[1;32m    728\u001b[0m             \u001b[0;32mtry\u001b[0m\u001b[0;34m:\u001b[0m\u001b[0;34m\u001b[0m\u001b[0;34m\u001b[0m\u001b[0m\n\u001b[0;32m--> 729\u001b[0;31m                 \u001b[0mident\u001b[0m\u001b[0;34m,\u001b[0m \u001b[0mreply\u001b[0m \u001b[0;34m=\u001b[0m \u001b[0mself\u001b[0m\u001b[0;34m.\u001b[0m\u001b[0msession\u001b[0m\u001b[0;34m.\u001b[0m\u001b[0mrecv\u001b[0m\u001b[0;34m(\u001b[0m\u001b[0mself\u001b[0m\u001b[0;34m.\u001b[0m\u001b[0mstdin_socket\u001b[0m\u001b[0;34m,\u001b[0m \u001b[0;36m0\u001b[0m\u001b[0;34m)\u001b[0m\u001b[0;34m\u001b[0m\u001b[0;34m\u001b[0m\u001b[0m\n\u001b[0m\u001b[1;32m    730\u001b[0m             \u001b[0;32mexcept\u001b[0m \u001b[0mException\u001b[0m\u001b[0;34m:\u001b[0m\u001b[0;34m\u001b[0m\u001b[0;34m\u001b[0m\u001b[0m\n",
            "\u001b[0;32m/usr/local/lib/python3.7/dist-packages/jupyter_client/session.py\u001b[0m in \u001b[0;36mrecv\u001b[0;34m(self, socket, mode, content, copy)\u001b[0m\n\u001b[1;32m    802\u001b[0m         \u001b[0;32mtry\u001b[0m\u001b[0;34m:\u001b[0m\u001b[0;34m\u001b[0m\u001b[0;34m\u001b[0m\u001b[0m\n\u001b[0;32m--> 803\u001b[0;31m             \u001b[0mmsg_list\u001b[0m \u001b[0;34m=\u001b[0m \u001b[0msocket\u001b[0m\u001b[0;34m.\u001b[0m\u001b[0mrecv_multipart\u001b[0m\u001b[0;34m(\u001b[0m\u001b[0mmode\u001b[0m\u001b[0;34m,\u001b[0m \u001b[0mcopy\u001b[0m\u001b[0;34m=\u001b[0m\u001b[0mcopy\u001b[0m\u001b[0;34m)\u001b[0m\u001b[0;34m\u001b[0m\u001b[0;34m\u001b[0m\u001b[0m\n\u001b[0m\u001b[1;32m    804\u001b[0m         \u001b[0;32mexcept\u001b[0m \u001b[0mzmq\u001b[0m\u001b[0;34m.\u001b[0m\u001b[0mZMQError\u001b[0m \u001b[0;32mas\u001b[0m \u001b[0me\u001b[0m\u001b[0;34m:\u001b[0m\u001b[0;34m\u001b[0m\u001b[0;34m\u001b[0m\u001b[0m\n",
            "\u001b[0;32m/usr/local/lib/python3.7/dist-packages/zmq/sugar/socket.py\u001b[0m in \u001b[0;36mrecv_multipart\u001b[0;34m(self, flags, copy, track)\u001b[0m\n\u001b[1;32m    582\u001b[0m         \"\"\"\n\u001b[0;32m--> 583\u001b[0;31m         \u001b[0mparts\u001b[0m \u001b[0;34m=\u001b[0m \u001b[0;34m[\u001b[0m\u001b[0mself\u001b[0m\u001b[0;34m.\u001b[0m\u001b[0mrecv\u001b[0m\u001b[0;34m(\u001b[0m\u001b[0mflags\u001b[0m\u001b[0;34m,\u001b[0m \u001b[0mcopy\u001b[0m\u001b[0;34m=\u001b[0m\u001b[0mcopy\u001b[0m\u001b[0;34m,\u001b[0m \u001b[0mtrack\u001b[0m\u001b[0;34m=\u001b[0m\u001b[0mtrack\u001b[0m\u001b[0;34m)\u001b[0m\u001b[0;34m]\u001b[0m\u001b[0;34m\u001b[0m\u001b[0;34m\u001b[0m\u001b[0m\n\u001b[0m\u001b[1;32m    584\u001b[0m         \u001b[0;31m# have first part already, only loop while more to receive\u001b[0m\u001b[0;34m\u001b[0m\u001b[0;34m\u001b[0m\u001b[0;34m\u001b[0m\u001b[0m\n",
            "\u001b[0;32mzmq/backend/cython/socket.pyx\u001b[0m in \u001b[0;36mzmq.backend.cython.socket.Socket.recv\u001b[0;34m()\u001b[0m\n",
            "\u001b[0;32mzmq/backend/cython/socket.pyx\u001b[0m in \u001b[0;36mzmq.backend.cython.socket.Socket.recv\u001b[0;34m()\u001b[0m\n",
            "\u001b[0;32mzmq/backend/cython/socket.pyx\u001b[0m in \u001b[0;36mzmq.backend.cython.socket._recv_copy\u001b[0;34m()\u001b[0m\n",
            "\u001b[0;32m/usr/local/lib/python3.7/dist-packages/zmq/backend/cython/checkrc.pxd\u001b[0m in \u001b[0;36mzmq.backend.cython.checkrc._check_rc\u001b[0;34m()\u001b[0m\n",
            "\u001b[0;31mKeyboardInterrupt\u001b[0m: ",
            "\nDuring handling of the above exception, another exception occurred:\n",
            "\u001b[0;31mKeyboardInterrupt\u001b[0m                         Traceback (most recent call last)",
            "\u001b[0;32m<ipython-input-10-c73bc0275bd3>\u001b[0m in \u001b[0;36m<module>\u001b[0;34m()\u001b[0m\n\u001b[1;32m      3\u001b[0m \u001b[0mnfrase\u001b[0m \u001b[0;34m=\u001b[0m \u001b[0;36m1\u001b[0m\u001b[0;34m\u001b[0m\u001b[0;34m\u001b[0m\u001b[0m\n\u001b[1;32m      4\u001b[0m \u001b[0;32mwhile\u001b[0m \u001b[0mnfrase\u001b[0m \u001b[0;34m<=\u001b[0m \u001b[0mNFRASES\u001b[0m\u001b[0;34m:\u001b[0m\u001b[0;34m\u001b[0m\u001b[0;34m\u001b[0m\u001b[0m\n\u001b[0;32m----> 5\u001b[0;31m   \u001b[0mfrase\u001b[0m \u001b[0;34m=\u001b[0m \u001b[0minput\u001b[0m\u001b[0;34m(\u001b[0m\u001b[0;34m'-> MIGUEL: '\u001b[0m\u001b[0;34m)\u001b[0m\u001b[0;34m\u001b[0m\u001b[0;34m\u001b[0m\u001b[0m\n\u001b[0m\u001b[1;32m      6\u001b[0m   \u001b[0mentradaBlender\u001b[0m \u001b[0;34m=\u001b[0m \u001b[0mtokenizer\u001b[0m\u001b[0;34m(\u001b[0m\u001b[0;34m[\u001b[0m\u001b[0mfrase\u001b[0m\u001b[0;34m]\u001b[0m\u001b[0;34m,\u001b[0m \u001b[0mreturn_tensors\u001b[0m\u001b[0;34m=\u001b[0m\u001b[0;34m'pt'\u001b[0m\u001b[0;34m)\u001b[0m\u001b[0;34m\u001b[0m\u001b[0;34m\u001b[0m\u001b[0m\n\u001b[1;32m      7\u001b[0m   \u001b[0mids_respuesta\u001b[0m \u001b[0;34m=\u001b[0m \u001b[0mblender\u001b[0m\u001b[0;34m.\u001b[0m\u001b[0mgenerate\u001b[0m\u001b[0;34m(\u001b[0m\u001b[0;34m**\u001b[0m\u001b[0mentradaBlender\u001b[0m\u001b[0;34m)\u001b[0m\u001b[0;34m\u001b[0m\u001b[0;34m\u001b[0m\u001b[0m\n",
            "\u001b[0;32m/usr/local/lib/python3.7/dist-packages/ipykernel/kernelbase.py\u001b[0m in \u001b[0;36mraw_input\u001b[0;34m(self, prompt)\u001b[0m\n\u001b[1;32m    702\u001b[0m             \u001b[0mself\u001b[0m\u001b[0;34m.\u001b[0m\u001b[0m_parent_ident\u001b[0m\u001b[0;34m,\u001b[0m\u001b[0;34m\u001b[0m\u001b[0;34m\u001b[0m\u001b[0m\n\u001b[1;32m    703\u001b[0m             \u001b[0mself\u001b[0m\u001b[0;34m.\u001b[0m\u001b[0m_parent_header\u001b[0m\u001b[0;34m,\u001b[0m\u001b[0;34m\u001b[0m\u001b[0;34m\u001b[0m\u001b[0m\n\u001b[0;32m--> 704\u001b[0;31m             \u001b[0mpassword\u001b[0m\u001b[0;34m=\u001b[0m\u001b[0;32mFalse\u001b[0m\u001b[0;34m,\u001b[0m\u001b[0;34m\u001b[0m\u001b[0;34m\u001b[0m\u001b[0m\n\u001b[0m\u001b[1;32m    705\u001b[0m         )\n\u001b[1;32m    706\u001b[0m \u001b[0;34m\u001b[0m\u001b[0m\n",
            "\u001b[0;32m/usr/local/lib/python3.7/dist-packages/ipykernel/kernelbase.py\u001b[0m in \u001b[0;36m_input_request\u001b[0;34m(self, prompt, ident, parent, password)\u001b[0m\n\u001b[1;32m    732\u001b[0m             \u001b[0;32mexcept\u001b[0m \u001b[0mKeyboardInterrupt\u001b[0m\u001b[0;34m:\u001b[0m\u001b[0;34m\u001b[0m\u001b[0;34m\u001b[0m\u001b[0m\n\u001b[1;32m    733\u001b[0m                 \u001b[0;31m# re-raise KeyboardInterrupt, to truncate traceback\u001b[0m\u001b[0;34m\u001b[0m\u001b[0;34m\u001b[0m\u001b[0;34m\u001b[0m\u001b[0m\n\u001b[0;32m--> 734\u001b[0;31m                 \u001b[0;32mraise\u001b[0m \u001b[0mKeyboardInterrupt\u001b[0m\u001b[0;34m\u001b[0m\u001b[0;34m\u001b[0m\u001b[0m\n\u001b[0m\u001b[1;32m    735\u001b[0m             \u001b[0;32melse\u001b[0m\u001b[0;34m:\u001b[0m\u001b[0;34m\u001b[0m\u001b[0;34m\u001b[0m\u001b[0m\n\u001b[1;32m    736\u001b[0m                 \u001b[0;32mbreak\u001b[0m\u001b[0;34m\u001b[0m\u001b[0;34m\u001b[0m\u001b[0m\n",
            "\u001b[0;31mKeyboardInterrupt\u001b[0m: "
          ]
        }
      ]
    },
    {
      "cell_type": "markdown",
      "metadata": {
        "id": "emu_AWkwE9X-"
      },
      "source": [
        "## 5 - *wav2dec2* + *BlenderBot* y prueba del chatbot"
      ]
    },
    {
      "cell_type": "markdown",
      "metadata": {
        "id": "w7e2zaO14iOO"
      },
      "source": [
        "Ahora introduciremos la captura de audio -> wav2dec2 -> BlenderBot en un loop:"
      ]
    },
    {
      "cell_type": "code",
      "metadata": {
        "id": "6jvEz-pq_bBG",
        "colab": {
          "base_uri": "https://localhost:8080/",
          "height": 882
        },
        "outputId": "788a51d5-4d53-4a72-a515-b4ffd2a10e99"
      },
      "source": [
        "NFRASES = 5\n",
        "nfrase = 1\n",
        "\n",
        "while nfrase <= NFRASES:\n",
        "  input()     # Esperar a pulsar tecla para iniciar grabación\n",
        "  \n",
        "  # Capturar audio y llevarlo a 16 KHz\n",
        "  audio, sr = getAudio()\n",
        "  audio_float = audio.astype(np.float32)\n",
        "  audio_16k = librosa.resample(audio_float, sr, 16000)\n",
        "\n",
        "  # Voz a texto\n",
        "  entrada = w2v2_processor(audio_16k, sampling_rate=16000, return_tensors=\"pt\").input_values\n",
        "  probabilidades = w2v2(entrada).logits\n",
        "  predicciones = torch.argmax(probabilidades, dim=-1)\n",
        "  frase = w2v2_processor.decode(predicciones[0])\n",
        "  \n",
        "  # Imprimir transcripción\n",
        "  print(f'-> MIGUEL: {frase}')\n",
        "\n",
        "  # BlenderBot\n",
        "  entradaBlender = tokenizer([frase], return_tensors='pt')\n",
        "  ids_respuesta = blender.generate(**entradaBlender)\n",
        "  respuesta = tokenizer.batch_decode(ids_respuesta)\n",
        "  respuesta = respuesta[0].replace('<s>','').replace('</s>','')\n",
        "  print(f'-> BLENDERBOT: {respuesta}')\n",
        "\n",
        "  nfrase += 1"
      ],
      "execution_count": 11,
      "outputs": [
        {
          "output_type": "stream",
          "text": [
            "\n"
          ],
          "name": "stdout"
        },
        {
          "output_type": "display_data",
          "data": {
            "text/html": [
              "\n",
              "  <script>\n",
              "  var my_div = document.createElement(\"DIV\");\n",
              "  var my_p = document.createElement(\"P\");\n",
              "  var my_btn = document.createElement(\"BUTTON\");\n",
              "  var t = document.createTextNode(\"Press to start recording\");\n",
              "\n",
              "  my_btn.appendChild(t);\n",
              "  //my_p.appendChild(my_btn);\n",
              "  my_div.appendChild(my_btn);\n",
              "  document.body.appendChild(my_div);\n",
              "\n",
              "  var base64data = 0;\n",
              "  var reader;\n",
              "  var recorder, gumStream;\n",
              "  var recordButton = my_btn;\n",
              "\n",
              "  var handleSuccess = function(stream) {\n",
              "    gumStream = stream;\n",
              "    var options = {\n",
              "      //bitsPerSecond: 8000, //chrome seems to ignore, always 48k\n",
              "      mimeType : 'audio/webm;codecs=opus'\n",
              "      //mimeType : 'audio/webm;codecs=pcm'\n",
              "    };            \n",
              "    //recorder = new MediaRecorder(stream, options);\n",
              "    recorder = new MediaRecorder(stream);\n",
              "    recorder.ondataavailable = function(e) {            \n",
              "      var url = URL.createObjectURL(e.data);\n",
              "      var preview = document.createElement('audio');\n",
              "      preview.controls = true;\n",
              "      preview.src = url;\n",
              "      document.body.appendChild(preview);\n",
              "\n",
              "      reader = new FileReader();\n",
              "      reader.readAsDataURL(e.data); \n",
              "      reader.onloadend = function() {\n",
              "        base64data = reader.result;\n",
              "        //console.log(\"Inside FileReader:\" + base64data);\n",
              "      }\n",
              "    };\n",
              "    recorder.start();\n",
              "    };\n",
              "\n",
              "  recordButton.innerText = \"Recording... press to stop\";\n",
              "\n",
              "  navigator.mediaDevices.getUserMedia({audio: true}).then(handleSuccess);\n",
              "\n",
              "\n",
              "  function toggleRecording() {\n",
              "    if (recorder && recorder.state == \"recording\") {\n",
              "        recorder.stop();\n",
              "        gumStream.getAudioTracks()[0].stop();\n",
              "        recordButton.innerText = \"Saving the recording... pls wait!\"\n",
              "    }\n",
              "  }\n",
              "\n",
              "  // https://stackoverflow.com/a/951057\n",
              "  function sleep(ms) {\n",
              "    return new Promise(resolve => setTimeout(resolve, ms));\n",
              "  }\n",
              "\n",
              "  var data = new Promise(resolve=>{\n",
              "  //recordButton.addEventListener(\"click\", toggleRecording);\n",
              "  recordButton.onclick = ()=>{\n",
              "  toggleRecording()\n",
              "\n",
              "  sleep(2000).then(() => {\n",
              "    // wait 2000ms for the data to be available...\n",
              "    // ideally this should use something like await...\n",
              "    //console.log(\"Inside data:\" + base64data)\n",
              "    resolve(base64data.toString())\n",
              "\n",
              "  });\n",
              "\n",
              "  }\n",
              "  });\n",
              "        \n",
              "  </script>\n",
              "  "
            ],
            "text/plain": [
              "<IPython.core.display.HTML object>"
            ]
          },
          "metadata": {
            "tags": []
          }
        },
        {
          "output_type": "stream",
          "text": [
            "-> MIGUEL: PORING IN A\n",
            "-> BLENDERBOT:  Have you ever been in a situation where you felt like you had to work really hard to get a good grade?\n",
            "\n"
          ],
          "name": "stdout"
        },
        {
          "output_type": "display_data",
          "data": {
            "text/html": [
              "\n",
              "  <script>\n",
              "  var my_div = document.createElement(\"DIV\");\n",
              "  var my_p = document.createElement(\"P\");\n",
              "  var my_btn = document.createElement(\"BUTTON\");\n",
              "  var t = document.createTextNode(\"Press to start recording\");\n",
              "\n",
              "  my_btn.appendChild(t);\n",
              "  //my_p.appendChild(my_btn);\n",
              "  my_div.appendChild(my_btn);\n",
              "  document.body.appendChild(my_div);\n",
              "\n",
              "  var base64data = 0;\n",
              "  var reader;\n",
              "  var recorder, gumStream;\n",
              "  var recordButton = my_btn;\n",
              "\n",
              "  var handleSuccess = function(stream) {\n",
              "    gumStream = stream;\n",
              "    var options = {\n",
              "      //bitsPerSecond: 8000, //chrome seems to ignore, always 48k\n",
              "      mimeType : 'audio/webm;codecs=opus'\n",
              "      //mimeType : 'audio/webm;codecs=pcm'\n",
              "    };            \n",
              "    //recorder = new MediaRecorder(stream, options);\n",
              "    recorder = new MediaRecorder(stream);\n",
              "    recorder.ondataavailable = function(e) {            \n",
              "      var url = URL.createObjectURL(e.data);\n",
              "      var preview = document.createElement('audio');\n",
              "      preview.controls = true;\n",
              "      preview.src = url;\n",
              "      document.body.appendChild(preview);\n",
              "\n",
              "      reader = new FileReader();\n",
              "      reader.readAsDataURL(e.data); \n",
              "      reader.onloadend = function() {\n",
              "        base64data = reader.result;\n",
              "        //console.log(\"Inside FileReader:\" + base64data);\n",
              "      }\n",
              "    };\n",
              "    recorder.start();\n",
              "    };\n",
              "\n",
              "  recordButton.innerText = \"Recording... press to stop\";\n",
              "\n",
              "  navigator.mediaDevices.getUserMedia({audio: true}).then(handleSuccess);\n",
              "\n",
              "\n",
              "  function toggleRecording() {\n",
              "    if (recorder && recorder.state == \"recording\") {\n",
              "        recorder.stop();\n",
              "        gumStream.getAudioTracks()[0].stop();\n",
              "        recordButton.innerText = \"Saving the recording... pls wait!\"\n",
              "    }\n",
              "  }\n",
              "\n",
              "  // https://stackoverflow.com/a/951057\n",
              "  function sleep(ms) {\n",
              "    return new Promise(resolve => setTimeout(resolve, ms));\n",
              "  }\n",
              "\n",
              "  var data = new Promise(resolve=>{\n",
              "  //recordButton.addEventListener(\"click\", toggleRecording);\n",
              "  recordButton.onclick = ()=>{\n",
              "  toggleRecording()\n",
              "\n",
              "  sleep(2000).then(() => {\n",
              "    // wait 2000ms for the data to be available...\n",
              "    // ideally this should use something like await...\n",
              "    //console.log(\"Inside data:\" + base64data)\n",
              "    resolve(base64data.toString())\n",
              "\n",
              "  });\n",
              "\n",
              "  }\n",
              "  });\n",
              "        \n",
              "  </script>\n",
              "  "
            ],
            "text/plain": [
              "<IPython.core.display.HTML object>"
            ]
          },
          "metadata": {
            "tags": []
          }
        },
        {
          "output_type": "stream",
          "text": [
            "-> MIGUEL: WHAT CAN I DO\n",
            "-> BLENDERBOT:  I don't know what to do. I feel like I'm going to lose my job.\n"
          ],
          "name": "stdout"
        },
        {
          "output_type": "error",
          "ename": "KeyboardInterrupt",
          "evalue": "ignored",
          "traceback": [
            "\u001b[0;31m---------------------------------------------------------------------------\u001b[0m",
            "\u001b[0;31mKeyboardInterrupt\u001b[0m                         Traceback (most recent call last)",
            "\u001b[0;32m/usr/local/lib/python3.7/dist-packages/ipykernel/kernelbase.py\u001b[0m in \u001b[0;36m_input_request\u001b[0;34m(self, prompt, ident, parent, password)\u001b[0m\n\u001b[1;32m    728\u001b[0m             \u001b[0;32mtry\u001b[0m\u001b[0;34m:\u001b[0m\u001b[0;34m\u001b[0m\u001b[0;34m\u001b[0m\u001b[0m\n\u001b[0;32m--> 729\u001b[0;31m                 \u001b[0mident\u001b[0m\u001b[0;34m,\u001b[0m \u001b[0mreply\u001b[0m \u001b[0;34m=\u001b[0m \u001b[0mself\u001b[0m\u001b[0;34m.\u001b[0m\u001b[0msession\u001b[0m\u001b[0;34m.\u001b[0m\u001b[0mrecv\u001b[0m\u001b[0;34m(\u001b[0m\u001b[0mself\u001b[0m\u001b[0;34m.\u001b[0m\u001b[0mstdin_socket\u001b[0m\u001b[0;34m,\u001b[0m \u001b[0;36m0\u001b[0m\u001b[0;34m)\u001b[0m\u001b[0;34m\u001b[0m\u001b[0;34m\u001b[0m\u001b[0m\n\u001b[0m\u001b[1;32m    730\u001b[0m             \u001b[0;32mexcept\u001b[0m \u001b[0mException\u001b[0m\u001b[0;34m:\u001b[0m\u001b[0;34m\u001b[0m\u001b[0;34m\u001b[0m\u001b[0m\n",
            "\u001b[0;32m/usr/local/lib/python3.7/dist-packages/jupyter_client/session.py\u001b[0m in \u001b[0;36mrecv\u001b[0;34m(self, socket, mode, content, copy)\u001b[0m\n\u001b[1;32m    802\u001b[0m         \u001b[0;32mtry\u001b[0m\u001b[0;34m:\u001b[0m\u001b[0;34m\u001b[0m\u001b[0;34m\u001b[0m\u001b[0m\n\u001b[0;32m--> 803\u001b[0;31m             \u001b[0mmsg_list\u001b[0m \u001b[0;34m=\u001b[0m \u001b[0msocket\u001b[0m\u001b[0;34m.\u001b[0m\u001b[0mrecv_multipart\u001b[0m\u001b[0;34m(\u001b[0m\u001b[0mmode\u001b[0m\u001b[0;34m,\u001b[0m \u001b[0mcopy\u001b[0m\u001b[0;34m=\u001b[0m\u001b[0mcopy\u001b[0m\u001b[0;34m)\u001b[0m\u001b[0;34m\u001b[0m\u001b[0;34m\u001b[0m\u001b[0m\n\u001b[0m\u001b[1;32m    804\u001b[0m         \u001b[0;32mexcept\u001b[0m \u001b[0mzmq\u001b[0m\u001b[0;34m.\u001b[0m\u001b[0mZMQError\u001b[0m \u001b[0;32mas\u001b[0m \u001b[0me\u001b[0m\u001b[0;34m:\u001b[0m\u001b[0;34m\u001b[0m\u001b[0;34m\u001b[0m\u001b[0m\n",
            "\u001b[0;32m/usr/local/lib/python3.7/dist-packages/zmq/sugar/socket.py\u001b[0m in \u001b[0;36mrecv_multipart\u001b[0;34m(self, flags, copy, track)\u001b[0m\n\u001b[1;32m    582\u001b[0m         \"\"\"\n\u001b[0;32m--> 583\u001b[0;31m         \u001b[0mparts\u001b[0m \u001b[0;34m=\u001b[0m \u001b[0;34m[\u001b[0m\u001b[0mself\u001b[0m\u001b[0;34m.\u001b[0m\u001b[0mrecv\u001b[0m\u001b[0;34m(\u001b[0m\u001b[0mflags\u001b[0m\u001b[0;34m,\u001b[0m \u001b[0mcopy\u001b[0m\u001b[0;34m=\u001b[0m\u001b[0mcopy\u001b[0m\u001b[0;34m,\u001b[0m \u001b[0mtrack\u001b[0m\u001b[0;34m=\u001b[0m\u001b[0mtrack\u001b[0m\u001b[0;34m)\u001b[0m\u001b[0;34m]\u001b[0m\u001b[0;34m\u001b[0m\u001b[0;34m\u001b[0m\u001b[0m\n\u001b[0m\u001b[1;32m    584\u001b[0m         \u001b[0;31m# have first part already, only loop while more to receive\u001b[0m\u001b[0;34m\u001b[0m\u001b[0;34m\u001b[0m\u001b[0;34m\u001b[0m\u001b[0m\n",
            "\u001b[0;32mzmq/backend/cython/socket.pyx\u001b[0m in \u001b[0;36mzmq.backend.cython.socket.Socket.recv\u001b[0;34m()\u001b[0m\n",
            "\u001b[0;32mzmq/backend/cython/socket.pyx\u001b[0m in \u001b[0;36mzmq.backend.cython.socket.Socket.recv\u001b[0;34m()\u001b[0m\n",
            "\u001b[0;32mzmq/backend/cython/socket.pyx\u001b[0m in \u001b[0;36mzmq.backend.cython.socket._recv_copy\u001b[0;34m()\u001b[0m\n",
            "\u001b[0;32m/usr/local/lib/python3.7/dist-packages/zmq/backend/cython/checkrc.pxd\u001b[0m in \u001b[0;36mzmq.backend.cython.checkrc._check_rc\u001b[0;34m()\u001b[0m\n",
            "\u001b[0;31mKeyboardInterrupt\u001b[0m: ",
            "\nDuring handling of the above exception, another exception occurred:\n",
            "\u001b[0;31mKeyboardInterrupt\u001b[0m                         Traceback (most recent call last)",
            "\u001b[0;32m<ipython-input-11-46fc4c8db818>\u001b[0m in \u001b[0;36m<module>\u001b[0;34m()\u001b[0m\n\u001b[1;32m      3\u001b[0m \u001b[0;34m\u001b[0m\u001b[0m\n\u001b[1;32m      4\u001b[0m \u001b[0;32mwhile\u001b[0m \u001b[0mnfrase\u001b[0m \u001b[0;34m<=\u001b[0m \u001b[0mNFRASES\u001b[0m\u001b[0;34m:\u001b[0m\u001b[0;34m\u001b[0m\u001b[0;34m\u001b[0m\u001b[0m\n\u001b[0;32m----> 5\u001b[0;31m   \u001b[0minput\u001b[0m\u001b[0;34m(\u001b[0m\u001b[0;34m)\u001b[0m     \u001b[0;31m# Esperar a pulsar tecla para iniciar grabación\u001b[0m\u001b[0;34m\u001b[0m\u001b[0;34m\u001b[0m\u001b[0m\n\u001b[0m\u001b[1;32m      6\u001b[0m \u001b[0;34m\u001b[0m\u001b[0m\n\u001b[1;32m      7\u001b[0m   \u001b[0;31m# Capturar audio y llevarlo a 16 KHz\u001b[0m\u001b[0;34m\u001b[0m\u001b[0;34m\u001b[0m\u001b[0;34m\u001b[0m\u001b[0m\n",
            "\u001b[0;32m/usr/local/lib/python3.7/dist-packages/ipykernel/kernelbase.py\u001b[0m in \u001b[0;36mraw_input\u001b[0;34m(self, prompt)\u001b[0m\n\u001b[1;32m    702\u001b[0m             \u001b[0mself\u001b[0m\u001b[0;34m.\u001b[0m\u001b[0m_parent_ident\u001b[0m\u001b[0;34m,\u001b[0m\u001b[0;34m\u001b[0m\u001b[0;34m\u001b[0m\u001b[0m\n\u001b[1;32m    703\u001b[0m             \u001b[0mself\u001b[0m\u001b[0;34m.\u001b[0m\u001b[0m_parent_header\u001b[0m\u001b[0;34m,\u001b[0m\u001b[0;34m\u001b[0m\u001b[0;34m\u001b[0m\u001b[0m\n\u001b[0;32m--> 704\u001b[0;31m             \u001b[0mpassword\u001b[0m\u001b[0;34m=\u001b[0m\u001b[0;32mFalse\u001b[0m\u001b[0;34m,\u001b[0m\u001b[0;34m\u001b[0m\u001b[0;34m\u001b[0m\u001b[0m\n\u001b[0m\u001b[1;32m    705\u001b[0m         )\n\u001b[1;32m    706\u001b[0m \u001b[0;34m\u001b[0m\u001b[0m\n",
            "\u001b[0;32m/usr/local/lib/python3.7/dist-packages/ipykernel/kernelbase.py\u001b[0m in \u001b[0;36m_input_request\u001b[0;34m(self, prompt, ident, parent, password)\u001b[0m\n\u001b[1;32m    732\u001b[0m             \u001b[0;32mexcept\u001b[0m \u001b[0mKeyboardInterrupt\u001b[0m\u001b[0;34m:\u001b[0m\u001b[0;34m\u001b[0m\u001b[0;34m\u001b[0m\u001b[0m\n\u001b[1;32m    733\u001b[0m                 \u001b[0;31m# re-raise KeyboardInterrupt, to truncate traceback\u001b[0m\u001b[0;34m\u001b[0m\u001b[0;34m\u001b[0m\u001b[0;34m\u001b[0m\u001b[0m\n\u001b[0;32m--> 734\u001b[0;31m                 \u001b[0;32mraise\u001b[0m \u001b[0mKeyboardInterrupt\u001b[0m\u001b[0;34m\u001b[0m\u001b[0;34m\u001b[0m\u001b[0m\n\u001b[0m\u001b[1;32m    735\u001b[0m             \u001b[0;32melse\u001b[0m\u001b[0;34m:\u001b[0m\u001b[0;34m\u001b[0m\u001b[0;34m\u001b[0m\u001b[0m\n\u001b[1;32m    736\u001b[0m                 \u001b[0;32mbreak\u001b[0m\u001b[0;34m\u001b[0m\u001b[0;34m\u001b[0m\u001b[0m\n",
            "\u001b[0;31mKeyboardInterrupt\u001b[0m: "
          ]
        }
      ]
    },
    {
      "cell_type": "code",
      "metadata": {
        "id": "SL7iO9pSbsCn"
      },
      "source": [
        ""
      ],
      "execution_count": null,
      "outputs": []
    }
  ]
}