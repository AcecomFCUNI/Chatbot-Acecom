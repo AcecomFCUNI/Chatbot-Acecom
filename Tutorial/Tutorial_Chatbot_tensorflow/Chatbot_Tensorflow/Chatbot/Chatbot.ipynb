{
  "nbformat": 4,
  "nbformat_minor": 2,
  "metadata": {
    "colab": {
      "name": "Chatbot.ipynb",
      "provenance": []
    },
    "interpreter": {
      "hash": "fb75a475a3d6917a9e253b9fdafa885e7e8e1c35bc6fe6d521e6c38deb231d62"
    },
    "kernelspec": {
      "name": "python3",
      "display_name": "Python 3.7.6 64-bit ('base': conda)"
    },
    "language_info": {
      "codemirror_mode": {
        "name": "ipython",
        "version": 3
      },
      "file_extension": ".py",
      "mimetype": "text/x-python",
      "name": "python",
      "nbconvert_exporter": "python",
      "pygments_lexer": "ipython3",
      "version": "3.7.6"
    }
  },
  "cells": [
    {
      "cell_type": "markdown",
      "source": [
        "<h1>\n",
        "    <b>\n",
        "        <center>\n",
        "            Tutorial de Chatbot Transformer con Tensorflow 2.0\n",
        "        </center>\n",
        "    </b>\n",
        "</h1>\n",
        "\n",
        "<h6>\n",
        "    Pueden ver el  tutorial  en su idioma orginal <A href=\"https://github.com/Abonia1/TF-Chatbot\">aquí</A>\n",
        "</h6>\n",
        "\n",
        "<h2>Pasos Previos al tutorial</h2>\n",
        "<ol type=\"A\">\n",
        "<li>Descargar el dataset de cornell_movie_dialogs <A href=\"https://www.cs.cornell.edu/~cristian/Cornell_Movie-Dialogs_Corpus.html\">aquí</A></li>\n",
        "<li>Descomprimirlo el archivo .zip</li>\n",
        "<li>ubicarlo en la carpeta \"Chatbot\".</li>\n",
        "<ol>"
      ],
      "metadata": {
        "id": "-epbqQKnvK4v"
      }
    },
    {
      "cell_type": "code",
      "execution_count": null,
      "source": [
        "import tensorflow as tf\n",
        "assert tf.__version__.startswith('2')\n",
        "tf.random.set_seed(1234)\n",
        "\n",
        "#!pip install tensorflow-datasets==1.2.0\n",
        "import tensorflow_datasets as tfds\n",
        "\n",
        "import os\n",
        "import re\n",
        "import numpy as np\n",
        "\n",
        "import matplotlib.pyplot as plt"
      ],
      "outputs": [],
      "metadata": {
        "id": "jnqY0ezGvK41"
      }
    },
    {
      "cell_type": "code",
      "execution_count": null,
      "source": [
        "path_lines = \"cornell_movie_dialogs_corpus/cornell movie-dialogs corpus/movie_lines.txt\"\n",
        "\n",
        "path_movie_conversions = (\n",
        "    \"cornell_movie_dialogs_corpus/cornell movie-dialogs corpus/movie_conversations.txt\"\n",
        ")"
      ],
      "outputs": [],
      "metadata": {
        "id": "xnF2Jj7yvK42"
      }
    },
    {
      "cell_type": "code",
      "execution_count": null,
      "source": [
        "MAX_SAMPLES = 50000\n",
        "\n",
        "def preprocess_sentences(frase):\n",
        "    frase = frase.lower().strip()\n",
        "    frase = re.sub(r\"([?.!,])\", r\"\\1 \", frase)\n",
        "    frase = re.sub(r'[\" \"]+', \" \", frase)\n",
        "    frase = re.sub(r\"[^a-zA-Z?.!,]+\", \" \", frase)\n",
        "    frase = frase.strip()\n",
        "    return frase\n",
        "\n",
        "def load_sentence():\n",
        "    id2line = {}\n",
        "    with open(path_lines, errors=\"ignore\") as file:\n",
        "        lines = file.readlines()\n",
        "    for line in lines:\n",
        "        parts = line.replace(\"\\n\", \"\").split(\" +++$+++ \")\n",
        "        id2line[parts[0]] = parts[4]\n",
        "\n",
        "    inputs, outputs = [], []\n",
        "    with open(path_movie_conversions, \"r\") as file:\n",
        "        lines = file.readlines()\n",
        "    for line in lines:\n",
        "        parts = line.replace(\"\\n\", \"\").split(\" +++$+++ \")\n",
        "        conversation = [line[1:-1] for line in parts[3][1:-1].split(\", \")]\n",
        "        for i in range(len(conversation) - 1):\n",
        "            inputs.append(preprocess_sentences(id2line[conversation[i]]))\n",
        "            outputs.append(preprocess_sentences(id2line[conversation[i + 1]]))\n",
        "            if len(inputs) >= MAX_SAMPLES:\n",
        "                return inputs, outputs\n",
        "    return inputs, outputs"
      ],
      "outputs": [],
      "metadata": {
        "id": "iNyYVUESvK42"
      }
    },
    {
      "cell_type": "code",
      "execution_count": null,
      "source": [
        "inputs, outputs = load_sentence()"
      ],
      "outputs": [],
      "metadata": {
        "id": "lwaG_zNxvK43"
      }
    },
    {
      "cell_type": "code",
      "execution_count": null,
      "source": [
        "tokenizer = tfds.features.text.SubwordTextEncoder.build_from_corpus(\n",
        "    inputs + outputs, target_vocab_size=2**13)"
      ],
      "outputs": [],
      "metadata": {
        "id": "9yKfvtvGvK44"
      }
    },
    {
      "cell_type": "code",
      "execution_count": null,
      "source": [
        "START_TOKEN, END_TOKEN = [tokenizer.vocab_size], [tokenizer.vocab_size + 1]\n",
        "VOCAB_SIZE = tokenizer.vocab_size + 2"
      ],
      "outputs": [],
      "metadata": {
        "id": "qYthNT_BvK45"
      }
    },
    {
      "cell_type": "code",
      "execution_count": null,
      "source": [
        "print(tokenizer.encode(\"hello there!!\"))\n",
        "print(tokenizer.decode(tokenizer.encode(\"hello there!!\")))\n",
        "print(tokenizer.vocab_size)"
      ],
      "outputs": [
        {
          "output_type": "stream",
          "name": "stdout",
          "text": [
            "[2276, 126, 8110, 8110]\n",
            "hello there!!\n",
            "8333\n"
          ]
        }
      ],
      "metadata": {
        "colab": {
          "base_uri": "https://localhost:8080/"
        },
        "id": "lNp7EbYyvK46",
        "outputId": "e19bf99f-b284-4a46-f36d-7b59218a1aad"
      }
    },
    {
      "cell_type": "code",
      "execution_count": null,
      "source": [
        "print(START_TOKEN, END_TOKEN)"
      ],
      "outputs": [
        {
          "output_type": "stream",
          "name": "stdout",
          "text": [
            "[8333] [8334]\n"
          ]
        }
      ],
      "metadata": {
        "colab": {
          "base_uri": "https://localhost:8080/"
        },
        "id": "NvhEhswgvK47",
        "outputId": "6525dbb4-0bc3-4b73-8e18-1f49e68a5869"
      }
    },
    {
      "cell_type": "markdown",
      "source": [
        "```\n",
        "lista  = [2]+ [1, 2, 4] + [34]\n",
        "print(lista)\n",
        ">> [2, 1, 2, 4, 34]\n",
        "```"
      ],
      "metadata": {
        "id": "uh4UDV8rvK48"
      }
    },
    {
      "cell_type": "code",
      "execution_count": null,
      "source": [
        "def tokenize_and_filter(input, output, MAX_LENGHT):\n",
        "    tokenize_inputs, tokienize_outputs = [], []\n",
        "    for(sentence1, sentence2) in zip(input, output):\n",
        "        sentence1 = START_TOKEN + tokenizer.encode(sentence1) + END_TOKEN\n",
        "        sentence2 = START_TOKEN + tokenizer.encode(sentence2) + END_TOKEN\n",
        "        if len(sentence1) <= MAX_LENGHT and len(sentence2) <= MAX_LENGHT:\n",
        "            tokenize_inputs.append(sentence1)\n",
        "            tokienize_outputs.append(sentence2)\n",
        "    tokenize_inputs = tf.keras.preprocessing.sequence.pad_sequences(\n",
        "        tokenize_inputs, maxlen= MAX_LENGHT, padding= 'post')\n",
        "    tokienize_outputs = tf.keras.preprocessing.sequence.pad_sequences(\n",
        "        tokienize_outputs, maxlen= MAX_LENGHT, padding= 'post')\n",
        "    return tokenize_inputs, tokienize_outputs"
      ],
      "outputs": [],
      "metadata": {
        "id": "KU7LrQWdvK48"
      }
    },
    {
      "cell_type": "code",
      "execution_count": null,
      "source": [
        "inputs, outputs = tokenize_and_filter(inputs, outputs, 40)"
      ],
      "outputs": [],
      "metadata": {
        "id": "TBYUDzNPvK48"
      }
    },
    {
      "cell_type": "code",
      "execution_count": null,
      "source": [
        "print(inputs.shape)"
      ],
      "outputs": [
        {
          "output_type": "stream",
          "name": "stdout",
          "text": [
            "(44097, 40)\n"
          ]
        }
      ],
      "metadata": {
        "colab": {
          "base_uri": "https://localhost:8080/"
        },
        "id": "6PwGqCdOvK49",
        "outputId": "b16d84da-01f6-43ac-83be-f6298b659872"
      }
    },
    {
      "cell_type": "markdown",
      "source": [
        "<h2>Creando dataset con tf.data.Datasets<br></h2>\n",
        "\n",
        "Pueden revisar la documentación de tensorflow [aquí](https://www.tensorflow.org/api_docs/python/tf/data/Dataset)"
      ],
      "metadata": {
        "id": "WN3vbXrmvK49"
      }
    },
    {
      "cell_type": "code",
      "execution_count": null,
      "source": [
        "BATCH_SIZE = 64\n",
        "BUFFER_SIZE = 20000\n",
        "\n",
        "dataset = tf.data.Dataset.from_tensor_slices((\n",
        "    {\n",
        "        'inputs': inputs,\n",
        "        'dec_inputs': outputs[:, :-1]\n",
        "    },\n",
        "    {\n",
        "        'outputs': outputs[:,1:]\n",
        "    },\n",
        "))\n",
        "\n",
        "dataset = dataset.cache()\n",
        "dataset = dataset.shuffle(BUFFER_SIZE)\n",
        "dataset = dataset.batch(BATCH_SIZE)\n",
        "dataset = dataset.prefetch(tf.data.experimental.AUTOTUNE)"
      ],
      "outputs": [],
      "metadata": {
        "id": "hDGz6hqRvK49"
      }
    },
    {
      "cell_type": "code",
      "execution_count": null,
      "source": [
        "dataset"
      ],
      "outputs": [
        {
          "output_type": "execute_result",
          "data": {
            "text/plain": [
              "<PrefetchDataset shapes: ({inputs: (None, 40), dec_inputs: (None, 39)}, {outputs: (None, 39)}), types: ({inputs: tf.int32, dec_inputs: tf.int32}, {outputs: tf.int32})>"
            ]
          },
          "metadata": {},
          "execution_count": 25
        }
      ],
      "metadata": {
        "colab": {
          "base_uri": "https://localhost:8080/"
        },
        "id": "cUUSGIw2vK49",
        "outputId": "7a31cabd-9c36-4b51-cb47-5fe615365ce8"
      }
    },
    {
      "cell_type": "markdown",
      "source": [
        "<h2> <b>Attention</b> </h2>"
      ],
      "metadata": {
        "id": "2CTqShG9vK4-"
      }
    },
    {
      "cell_type": "code",
      "execution_count": null,
      "source": [
        "def scaled_dot_product_attention(query, key, value, mask):\n",
        "  matmul_qk = tf.matmul(query, key, transpose_b=True)\n",
        "\n",
        "  depth = tf.cast(tf.shape(key)[-1], tf.float32)\n",
        "  logits = matmul_qk / tf.math.sqrt(depth)\n",
        "\n",
        "  # add the mask zero out padding tokens.\n",
        "  if mask is not None:\n",
        "    logits += (mask * -1e9)\n",
        "\n",
        "  attention_weights = tf.nn.softmax(logits, axis=-1)\n",
        "\n",
        "  return tf.matmul(attention_weights, value)"
      ],
      "outputs": [],
      "metadata": {
        "id": "vY3RXuBLvK4-"
      }
    },
    {
      "cell_type": "markdown",
      "source": [
        "<h2><b>MultiHeadAttetion</b></h2>"
      ],
      "metadata": {
        "id": "sag-dYhyvK4-"
      }
    },
    {
      "cell_type": "code",
      "execution_count": null,
      "source": [
        "class MultiHeadAttention(tf.keras.layers.Layer):\n",
        "\n",
        "  def __init__(self, d_model, num_heads, name=\"multi_head_attention\"):\n",
        "    super(MultiHeadAttention, self).__init__(name=name)\n",
        "    self.num_heads = num_heads\n",
        "    self.d_model = d_model\n",
        "\n",
        "    assert d_model % self.num_heads == 0\n",
        "\n",
        "    self.depth = d_model // self.num_heads\n",
        "\n",
        "    self.query_dense = tf.keras.layers.Dense(units=d_model)\n",
        "    self.key_dense = tf.keras.layers.Dense(units=d_model)\n",
        "    self.value_dense = tf.keras.layers.Dense(units=d_model)\n",
        "\n",
        "    self.dense = tf.keras.layers.Dense(units=d_model)\n",
        "\n",
        "  def split_heads(self, inputs, batch_size):\n",
        "    inputs = tf.reshape(\n",
        "        inputs, shape=(batch_size, -1, self.num_heads, self.depth))\n",
        "    return tf.transpose(inputs, perm=[0, 2, 1, 3])\n",
        "\n",
        "  def call(self, inputs):\n",
        "    query, key, value, mask = inputs['query'], inputs['key'], inputs[\n",
        "        'value'], inputs['mask']\n",
        "    batch_size = tf.shape(query)[0]\n",
        "\n",
        "    # linear layers\n",
        "    query = self.query_dense(query)\n",
        "    key = self.key_dense(key)\n",
        "    value = self.value_dense(value)\n",
        "\n",
        "    # split heads\n",
        "    query = self.split_heads(query, batch_size)\n",
        "    key = self.split_heads(key, batch_size)\n",
        "    value = self.split_heads(value, batch_size)\n",
        "\n",
        "    scaled_attention = scaled_dot_product_attention(query, key, value, mask)\n",
        "\n",
        "    scaled_attention = tf.transpose(scaled_attention, perm=[0, 2, 1, 3])\n",
        "\n",
        "    concat_attention = tf.reshape(scaled_attention,\n",
        "                                  (batch_size, -1, self.d_model))\n",
        "\n",
        "    outputs = self.dense(concat_attention)\n",
        "\n",
        "    return outputs"
      ],
      "outputs": [],
      "metadata": {
        "id": "8pgiT5fJvK4-"
      }
    },
    {
      "cell_type": "code",
      "execution_count": null,
      "source": [
        "def create_padding_mask(x):\n",
        "  mask = tf.cast(tf.math.equal(x, 0), tf.float32)\n",
        "  # (batch_size, 1, 1, sequence length)\n",
        "  return mask[:, tf.newaxis, tf.newaxis, :]"
      ],
      "outputs": [],
      "metadata": {
        "id": "Qfok_VJEvK4_"
      }
    },
    {
      "cell_type": "code",
      "execution_count": null,
      "source": [
        "def create_look_ahead_mask(x):\n",
        "  seq_len = tf.shape(x)[1]\n",
        "  look_ahead_mask = 1 - tf.linalg.band_part(tf.ones((seq_len, seq_len)), -1, 0)\n",
        "  padding_mask = create_padding_mask(x)\n",
        "  return tf.maximum(look_ahead_mask, padding_mask)"
      ],
      "outputs": [],
      "metadata": {
        "id": "DfUQn98tvK4_"
      }
    },
    {
      "cell_type": "markdown",
      "source": [
        "<h2><b>Positonal enconding</b> </h2>"
      ],
      "metadata": {
        "id": "tjg_PPIXvK4_"
      }
    },
    {
      "cell_type": "code",
      "execution_count": null,
      "source": [
        "class PositionalEncoding(tf.keras.layers.Layer):\n",
        "\n",
        "  def __init__(self, position, d_model):\n",
        "    super(PositionalEncoding, self).__init__()\n",
        "    self.pos_encoding = self.positional_encoding(position, d_model)\n",
        "\n",
        "  def get_angles(self, position, i, d_model):\n",
        "    angles = 1 / tf.pow(10000, (2 * (i // 2)) / tf.cast(d_model, tf.float32))\n",
        "    return position * angles\n",
        "\n",
        "  def positional_encoding(self, position, d_model):\n",
        "    angle_rads = self.get_angles(\n",
        "        position=tf.range(position, dtype=tf.float32)[:, tf.newaxis],\n",
        "        i=tf.range(d_model, dtype=tf.float32)[tf.newaxis, :],\n",
        "        d_model=d_model)\n",
        "    # apply sin to even index in the array\n",
        "    sines = tf.math.sin(angle_rads[:, 0::2])\n",
        "    # apply cos to odd index in the array\n",
        "    cosines = tf.math.cos(angle_rads[:, 1::2])\n",
        "\n",
        "    pos_encoding = tf.concat([sines, cosines], axis=-1)\n",
        "    pos_encoding = pos_encoding[tf.newaxis, ...]\n",
        "    return tf.cast(pos_encoding, tf.float32)\n",
        "\n",
        "  def call(self, inputs):\n",
        "    return inputs + self.pos_encoding[:, :tf.shape(inputs)[1], :]"
      ],
      "outputs": [],
      "metadata": {
        "id": "3c-5z2Q3vK4_"
      }
    },
    {
      "cell_type": "markdown",
      "source": [
        "<h2><b>Transformer con la API fuctional</b></h2>"
      ],
      "metadata": {
        "id": "75jtixABvK5A"
      }
    },
    {
      "cell_type": "markdown",
      "source": [
        "<h2><b>Encoding Layer</b></h2>\n"
      ],
      "metadata": {
        "id": "_PL4sB5yvK5A"
      }
    },
    {
      "cell_type": "code",
      "execution_count": null,
      "source": [
        "def encoder_layer(units, d_model, num_heads, dropout, name=\"encoder_layer\"):\n",
        "  inputs = tf.keras.Input(shape=(None, d_model), name=\"inputs\")\n",
        "  padding_mask = tf.keras.Input(shape=(1, 1, None), name=\"padding_mask\")\n",
        "\n",
        "  attention = MultiHeadAttention(\n",
        "      d_model, num_heads, name=\"attention\")({\n",
        "          'query': inputs,\n",
        "          'key': inputs,\n",
        "          'value': inputs,\n",
        "          'mask': padding_mask\n",
        "      })\n",
        "  attention = tf.keras.layers.Dropout(rate=dropout)(attention)\n",
        "  attention = tf.keras.layers.LayerNormalization(\n",
        "      epsilon=1e-6)(inputs + attention)\n",
        "\n",
        "  outputs = tf.keras.layers.Dense(units=units, activation='relu')(attention)\n",
        "  outputs = tf.keras.layers.Dense(units=d_model)(outputs)\n",
        "  outputs = tf.keras.layers.Dropout(rate=dropout)(outputs)\n",
        "  outputs = tf.keras.layers.LayerNormalization(\n",
        "      epsilon=1e-6)(attention + outputs)\n",
        "\n",
        "  return tf.keras.Model(\n",
        "      inputs=[inputs, padding_mask], outputs=outputs, name=name)"
      ],
      "outputs": [],
      "metadata": {
        "id": "PjVArPLHvK5A"
      }
    },
    {
      "cell_type": "markdown",
      "source": [
        "<h2><b>Encoder</b></h2>\n"
      ],
      "metadata": {
        "id": "SnzB9DpZvK5B"
      }
    },
    {
      "cell_type": "code",
      "execution_count": null,
      "source": [
        "def encoder(vocab_size,\n",
        "            num_layers,\n",
        "            units,\n",
        "            d_model,\n",
        "            num_heads,\n",
        "            dropout,\n",
        "            name=\"encoder\"):\n",
        "  inputs = tf.keras.Input(shape=(None,), name=\"inputs\")\n",
        "  padding_mask = tf.keras.Input(shape=(1, 1, None), name=\"padding_mask\")\n",
        "\n",
        "  embeddings = tf.keras.layers.Embedding(vocab_size, d_model)(inputs)\n",
        "  embeddings *= tf.math.sqrt(tf.cast(d_model, tf.float32))\n",
        "  embeddings = PositionalEncoding(vocab_size, d_model)(embeddings)\n",
        "\n",
        "  outputs = tf.keras.layers.Dropout(rate=dropout)(embeddings)\n",
        "\n",
        "  for i in range(num_layers):\n",
        "    outputs = encoder_layer(\n",
        "        units=units,\n",
        "        d_model=d_model,\n",
        "        num_heads=num_heads,\n",
        "        dropout=dropout,\n",
        "        name=\"encoder_layer_{}\".format(i),\n",
        "    )([outputs, padding_mask])\n",
        "\n",
        "  return tf.keras.Model(\n",
        "      inputs=[inputs, padding_mask], outputs=outputs, name=name)"
      ],
      "outputs": [],
      "metadata": {
        "id": "qSoVOIvJvK5B"
      }
    },
    {
      "cell_type": "markdown",
      "source": [
        "<h2><b>Decoder Layer</b></h2>\n"
      ],
      "metadata": {
        "id": "wuXmdaMLvK5C"
      }
    },
    {
      "cell_type": "code",
      "execution_count": null,
      "source": [
        "def decoder_layer(units, d_model, num_heads, dropout, name=\"decoder_layer\"):\n",
        "  inputs = tf.keras.Input(shape=(None, d_model), name=\"inputs\")\n",
        "  enc_outputs = tf.keras.Input(shape=(None, d_model), name=\"encoder_outputs\")\n",
        "  look_ahead_mask = tf.keras.Input(\n",
        "      shape=(1, None, None), name=\"look_ahead_mask\")\n",
        "  padding_mask = tf.keras.Input(shape=(1, 1, None), name='padding_mask')\n",
        "\n",
        "  attention1 = MultiHeadAttention(\n",
        "      d_model, num_heads, name=\"attention_1\")(inputs={\n",
        "          'query': inputs,\n",
        "          'key': inputs,\n",
        "          'value': inputs,\n",
        "          'mask': look_ahead_mask\n",
        "      })\n",
        "  attention1 = tf.keras.layers.LayerNormalization(\n",
        "      epsilon=1e-6)(attention1 + inputs)\n",
        "\n",
        "  attention2 = MultiHeadAttention(\n",
        "      d_model, num_heads, name=\"attention_2\")(inputs={\n",
        "          'query': attention1,\n",
        "          'key': enc_outputs,\n",
        "          'value': enc_outputs,\n",
        "          'mask': padding_mask\n",
        "      })\n",
        "  attention2 = tf.keras.layers.Dropout(rate=dropout)(attention2)\n",
        "  attention2 = tf.keras.layers.LayerNormalization(\n",
        "      epsilon=1e-6)(attention2 + attention1)\n",
        "\n",
        "  outputs = tf.keras.layers.Dense(units=units, activation='relu')(attention2)\n",
        "  outputs = tf.keras.layers.Dense(units=d_model)(outputs)\n",
        "  outputs = tf.keras.layers.Dropout(rate=dropout)(outputs)\n",
        "  outputs = tf.keras.layers.LayerNormalization(\n",
        "      epsilon=1e-6)(outputs + attention2)\n",
        "\n",
        "  return tf.keras.Model(\n",
        "      inputs=[inputs, enc_outputs, look_ahead_mask, padding_mask],\n",
        "      outputs=outputs,\n",
        "      name=name)"
      ],
      "outputs": [],
      "metadata": {
        "id": "lxcsf3FPvK5C"
      }
    },
    {
      "cell_type": "markdown",
      "source": [
        "<h2></b>Decoder</b></h2>"
      ],
      "metadata": {
        "id": "vaNWhVZovK5C"
      }
    },
    {
      "cell_type": "code",
      "execution_count": null,
      "source": [
        "def decoder(vocab_size,\n",
        "            num_layers,\n",
        "            units,\n",
        "            d_model,\n",
        "            num_heads,\n",
        "            dropout,\n",
        "            name='decoder'):\n",
        "  inputs = tf.keras.Input(shape=(None,), name='inputs')\n",
        "  enc_outputs = tf.keras.Input(shape=(None, d_model), name='encoder_outputs')\n",
        "  look_ahead_mask = tf.keras.Input(\n",
        "      shape=(1, None, None), name='look_ahead_mask')\n",
        "  padding_mask = tf.keras.Input(shape=(1, 1, None), name='padding_mask')\n",
        "  \n",
        "  embeddings = tf.keras.layers.Embedding(vocab_size, d_model)(inputs)\n",
        "  embeddings *= tf.math.sqrt(tf.cast(d_model, tf.float32))\n",
        "  embeddings = PositionalEncoding(vocab_size, d_model)(embeddings)\n",
        "\n",
        "  outputs = tf.keras.layers.Dropout(rate=dropout)(embeddings)\n",
        "\n",
        "  for i in range(num_layers):\n",
        "    outputs = decoder_layer(\n",
        "        units=units,\n",
        "        d_model=d_model,\n",
        "        num_heads=num_heads,\n",
        "        dropout=dropout,\n",
        "        name='decoder_layer_{}'.format(i),\n",
        "    )(inputs=[outputs, enc_outputs, look_ahead_mask, padding_mask])\n",
        "\n",
        "  return tf.keras.Model(\n",
        "      inputs=[inputs, enc_outputs, look_ahead_mask, padding_mask],\n",
        "      outputs=outputs,\n",
        "      name=name)"
      ],
      "outputs": [],
      "metadata": {
        "id": "rFU9q35ZvK5C"
      }
    },
    {
      "cell_type": "markdown",
      "source": [
        "<h2><b>Transformer</h2></>"
      ],
      "metadata": {
        "id": "Fb3dfJLsvK5C"
      }
    },
    {
      "cell_type": "code",
      "execution_count": null,
      "source": [
        "def transformer(vocab_size,\n",
        "                num_layers,\n",
        "                units,\n",
        "                d_model,\n",
        "                num_heads,\n",
        "                dropout,\n",
        "                name=\"transformer\"):\n",
        "  inputs = tf.keras.Input(shape=(None,), name=\"inputs\")\n",
        "  dec_inputs = tf.keras.Input(shape=(None,), name=\"dec_inputs\")\n",
        "\n",
        "  enc_padding_mask = tf.keras.layers.Lambda(\n",
        "      create_padding_mask, output_shape=(1, 1, None),\n",
        "      name='enc_padding_mask')(inputs)\n",
        "  # Enmascaramos los futuros tokens para la entrada del decoder para el primer bloque de       # atención.\n",
        "  look_ahead_mask = tf.keras.layers.Lambda(\n",
        "      create_look_ahead_mask,\n",
        "      output_shape=(1, None, None),\n",
        "      name='look_ahead_mask')(dec_inputs)\n",
        "  # Enmascarmos la salida encoders para el segundo bloque de atención \n",
        "  dec_padding_mask = tf.keras.layers.Lambda(\n",
        "      create_padding_mask, output_shape=(1, 1, None),\n",
        "      name='dec_padding_mask')(inputs)\n",
        "\n",
        "  enc_outputs = encoder(\n",
        "      vocab_size=vocab_size,\n",
        "      num_layers=num_layers,\n",
        "      units=units,\n",
        "      d_model=d_model,\n",
        "      num_heads=num_heads,\n",
        "      dropout=dropout,\n",
        "  )(inputs=[inputs, enc_padding_mask])\n",
        "\n",
        "  dec_outputs = decoder(\n",
        "      vocab_size=vocab_size,\n",
        "      num_layers=num_layers,\n",
        "      units=units,\n",
        "      d_model=d_model,\n",
        "      num_heads=num_heads,\n",
        "      dropout=dropout,\n",
        "  )(inputs=[dec_inputs, enc_outputs, look_ahead_mask, dec_padding_mask])\n",
        "\n",
        "  outputs = tf.keras.layers.Dense(units=vocab_size, name=\"outputs\")(dec_outputs)\n",
        "\n",
        "  return tf.keras.Model(inputs=[inputs, dec_inputs], outputs=outputs, name=name)"
      ],
      "outputs": [],
      "metadata": {
        "id": "pmjF9RGTvK5D"
      }
    },
    {
      "cell_type": "code",
      "execution_count": null,
      "source": [
        "NUM_LAYERS = 2\n",
        "D_MODEL = 256\n",
        "NUM_HEADS = 8\n",
        "UNITS = 512\n",
        "DROPOUT = 0.1\n",
        "MAX_LENGTH = 40\n",
        "model = transformer(\n",
        "    vocab_size=VOCAB_SIZE,\n",
        "    num_layers=NUM_LAYERS,\n",
        "    units=UNITS,\n",
        "    d_model=D_MODEL,\n",
        "    num_heads=NUM_HEADS,\n",
        "    dropout=DROPOUT)"
      ],
      "outputs": [],
      "metadata": {
        "id": "elPMbek_vK5D"
      }
    },
    {
      "cell_type": "code",
      "execution_count": null,
      "source": [
        "def loss_function(y_true, y_pred):\n",
        "  y_true = tf.reshape(y_true, shape=(-1, MAX_LENGTH - 1))\n",
        "  \n",
        "  loss = tf.keras.losses.SparseCategoricalCrossentropy(\n",
        "      from_logits=True, reduction='none')(y_true, y_pred)\n",
        "\n",
        "  mask = tf.cast(tf.not_equal(y_true, 0), tf.float32)\n",
        "  loss = tf.multiply(loss, mask)\n",
        "\n",
        "  return tf.reduce_mean(loss)"
      ],
      "outputs": [],
      "metadata": {
        "id": "U1NErqMVvK5D"
      }
    },
    {
      "cell_type": "code",
      "execution_count": null,
      "source": [
        "\n",
        "class CustomSchedule(tf.keras.optimizers.schedules.LearningRateSchedule):\n",
        "\n",
        "  def __init__(self, d_model, warmup_steps=4000):\n",
        "    super(CustomSchedule, self).__init__()\n",
        "\n",
        "    self.d_model = d_model\n",
        "    self.d_model = tf.cast(self.d_model, tf.float32)\n",
        "\n",
        "    self.warmup_steps = warmup_steps\n",
        "\n",
        "  def __call__(self, step):\n",
        "    arg1 = tf.math.rsqrt(step)\n",
        "    arg2 = step * (self.warmup_steps**-1.5)\n",
        "\n",
        "    return tf.math.rsqrt(self.d_model) * tf.math.minimum(arg1, arg2)"
      ],
      "outputs": [],
      "metadata": {
        "id": "bXKTTNTJvK5D"
      }
    },
    {
      "cell_type": "code",
      "execution_count": null,
      "source": [
        "\n",
        "learning_rate = CustomSchedule(D_MODEL)\n",
        "\n",
        "optimizer = tf.keras.optimizers.Adam(\n",
        "    learning_rate, beta_1=0.9, beta_2=0.98, epsilon=1e-9)\n",
        "\n",
        "def accuracy(y_true, y_pred):\n",
        "  # ensure labels have shape (batch_size, MAX_LENGTH - 1)\n",
        "  y_true = tf.reshape(y_true, shape=(-1, MAX_LENGTH - 1))\n",
        "  return tf.keras.metrics.sparse_categorical_accuracy(y_true, y_pred)"
      ],
      "outputs": [],
      "metadata": {
        "id": "9zLq9iSJvK5E"
      }
    },
    {
      "cell_type": "code",
      "execution_count": null,
      "source": [
        "model.compile(optimizer=optimizer, loss=loss_function, metrics=[accuracy])"
      ],
      "outputs": [],
      "metadata": {
        "id": "XvxryD9cvK5E"
      }
    },
    {
      "cell_type": "code",
      "execution_count": null,
      "source": [
        "EPOCHS = 15"
      ],
      "outputs": [],
      "metadata": {
        "id": "py8ZDnmqvK5E"
      }
    },
    {
      "cell_type": "code",
      "execution_count": null,
      "source": [
        "model.fit(dataset, epochs=EPOCHS)"
      ],
      "outputs": [
        {
          "output_type": "stream",
          "name": "stdout",
          "text": [
            "Epoch 1/15\n",
            "690/690 [==============================] - 789s 1s/step - loss: 2.1101 - accuracy: 0.0431\n",
            "Epoch 2/15\n",
            "690/690 [==============================] - 677s 981ms/step - loss: 1.5062 - accuracy: 0.0784\n",
            "Epoch 3/15\n",
            "690/690 [==============================] - 633s 918ms/step - loss: 1.4003 - accuracy: 0.0857\n",
            "Epoch 4/15\n",
            "690/690 [==============================] - 634s 918ms/step - loss: 1.3411 - accuracy: 0.0901\n",
            "Epoch 5/15\n",
            "690/690 [==============================] - 635s 920ms/step - loss: 1.2892 - accuracy: 0.0942\n",
            "Epoch 6/15\n",
            "690/690 [==============================] - 715s 1s/step - loss: 1.2432 - accuracy: 0.0973\n",
            "Epoch 7/15\n",
            "690/690 [==============================] - 813s 1s/step - loss: 1.1879 - accuracy: 0.1017\n",
            "Epoch 8/15\n",
            "690/690 [==============================] - 720s 1s/step - loss: 1.1284 - accuracy: 0.1068\n",
            "Epoch 9/15\n",
            "690/690 [==============================] - 628s 911ms/step - loss: 1.0721 - accuracy: 0.1122\n",
            "Epoch 10/15\n",
            "690/690 [==============================] - 634s 918ms/step - loss: 1.0196 - accuracy: 0.1180\n",
            "Epoch 11/15\n",
            "690/690 [==============================] - 617s 894ms/step - loss: 0.9718 - accuracy: 0.1237\n",
            "Epoch 12/15\n",
            "690/690 [==============================] - 620s 899ms/step - loss: 0.9283 - accuracy: 0.1292\n",
            "Epoch 13/15\n",
            "690/690 [==============================] - 635s 920ms/step - loss: 0.8881 - accuracy: 0.1344\n",
            "Epoch 14/15\n",
            "690/690 [==============================] - 631s 915ms/step - loss: 0.8519 - accuracy: 0.1398\n",
            "Epoch 15/15\n",
            "690/690 [==============================] - 657s 952ms/step - loss: 0.8185 - accuracy: 0.1449\n"
          ]
        },
        {
          "output_type": "execute_result",
          "data": {
            "text/plain": [
              "<tensorflow.python.keras.callbacks.History at 0x7f78535f9d10>"
            ]
          },
          "metadata": {},
          "execution_count": 30
        }
      ],
      "metadata": {
        "colab": {
          "base_uri": "https://localhost:8080/"
        },
        "id": "kkTNf2EOvK5F",
        "outputId": "56f9526e-f35c-4dbc-e7a3-66a3d4909933"
      }
    },
    {
      "cell_type": "code",
      "execution_count": null,
      "source": [
        "\n",
        "def evaluate(sentence):\n",
        "  sentence = preprocess_sentences(sentence)\n",
        "\n",
        "  sentence = tf.expand_dims(\n",
        "      START_TOKEN + tokenizer.encode(sentence) + END_TOKEN, axis=0)\n",
        "\n",
        "  output = tf.expand_dims(START_TOKEN, 0)\n",
        "\n",
        "  for i in range(MAX_LENGTH):\n",
        "    predictions = model(inputs=[sentence, output], training=False) \n",
        "    # Seleccionamos la última palabra de la dimesión seq_len\n",
        "    predictions = predictions[:, -1:, :]\n",
        "    predicted_id = tf.cast(tf.argmax(predictions, axis=-1), tf.int32)\n",
        "\n",
        "    # Retornamos el resultado si  predicted_id es igual que el token final.\n",
        "    if tf.equal(predicted_id, END_TOKEN[0]):\n",
        "        break\n",
        "\n",
        "    # Concatenamos el predicted_id a la salida que se le da al decodificador\n",
        "   # como input.\n",
        "    output = tf.concat([output, predicted_id], axis=-1)\n",
        "\n",
        "  return tf.squeeze(output, axis=0)\n",
        "\n",
        "\n",
        "def predict(sentence, name):\n",
        "  prediction = evaluate(sentence)\n",
        "\n",
        "  predicted_sentence = tokenizer.decode(\n",
        "      [i for i in prediction if i < tokenizer.vocab_size])\n",
        "\n",
        "  print('{}: {}'.format(name, sentence))\n",
        "  print('Bot: {}'.format(predicted_sentence))\n",
        "\n",
        "  return predicted_sentence"
      ],
      "outputs": [],
      "metadata": {
        "id": "vSvCmHUMvK5F"
      }
    },
    {
      "cell_type": "code",
      "execution_count": null,
      "source": [
        "output = predict('Hello', 'Alex')"
      ],
      "outputs": [
        {
          "output_type": "stream",
          "name": "stdout",
          "text": [
            "Alex: Hello\n",
            "Bot: hi.\n"
          ]
        }
      ],
      "metadata": {
        "id": "17Ssp6uGMu0P",
        "outputId": "fa70a32f-e5d2-4bf3-e3ed-9e6a89327533"
      }
    },
    {
      "cell_type": "code",
      "execution_count": null,
      "source": [
        "model.save_weights('path_to_my_model.h5')"
      ],
      "outputs": [],
      "metadata": {
        "id": "jOiiZVc0Mu0P"
      }
    },
    {
      "cell_type": "code",
      "execution_count": null,
      "source": [
        "model.load_weights('path_to_my_model.h5')"
      ],
      "outputs": [],
      "metadata": {
        "id": "I_SwJ8lvMu0Q"
      }
    },
    {
      "cell_type": "code",
      "execution_count": null,
      "source": [
        "output = predict('Where have you been?', \"Alex\")"
      ],
      "outputs": [
        {
          "output_type": "stream",
          "name": "stdout",
          "text": [
            "Alex: Where have you been?\n",
            "Bot: i m a little scared of myself.\n"
          ]
        }
      ],
      "metadata": {
        "id": "vsYSfdZevK5F",
        "colab": {
          "base_uri": "https://localhost:8080/"
        },
        "outputId": "112b5f8c-c4fb-4c39-f29b-833902d5edc5"
      }
    },
    {
      "cell_type": "code",
      "execution_count": null,
      "source": [
        "def dialog(name):\n",
        "    while(True):\n",
        "        sentence = input('Write a sentences')\n",
        "        if sentence.lower() == \"f\":\n",
        "            break\n",
        "        predict(sentence, name)"
      ],
      "outputs": [],
      "metadata": {
        "id": "pCRaUZhRMu0Q"
      }
    },
    {
      "cell_type": "code",
      "execution_count": null,
      "source": [
        "dialog(\"Alex\")"
      ],
      "outputs": [
        {
          "output_type": "stream",
          "name": "stdout",
          "text": [
            "Alex: hello\n",
            "Bot: hi.\n",
            "Alex: how are you?\n",
            "Bot: i m sorry i didn t have to do anything. i want to be unzip my dress.\n",
            "Alex: do you study today?\n",
            "Bot: i m going to be a little girl.\n",
            "Alex: tell me about you\n",
            "Bot: you re not going to be late.\n",
            "Alex: ok, ok \n",
            "Bot: you re a fucking asshole! you re a fucking bull to you!\n",
            "Alex: calm down, please\n",
            "Bot: i m going to give you something.\n",
            "Alex: ok, see you\n",
            "Bot: okay.\n",
            "Alex: good bye \n",
            "Bot: thank you.\n"
          ]
        }
      ],
      "metadata": {
        "id": "9n0lHE3AMu0Q",
        "outputId": "dfc857b1-fb4b-46b0-dc15-1eab72e6f945"
      }
    }
  ]
}